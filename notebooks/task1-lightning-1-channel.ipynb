{
 "cells": [
  {
   "cell_type": "markdown",
   "metadata": {},
   "source": [
    "# Import"
   ]
  },
  {
   "cell_type": "code",
   "execution_count": 1,
   "metadata": {},
   "outputs": [],
   "source": [
    "import comet_ml"
   ]
  },
  {
   "cell_type": "code",
   "execution_count": 2,
   "metadata": {
    "id": "Uqb92Uw_CGL1"
   },
   "outputs": [],
   "source": [
    "import numpy as np\n",
    "import matplotlib.pyplot as plt\n",
    "import torch\n",
    "import torch.nn.functional as F"
   ]
  },
  {
   "cell_type": "code",
   "execution_count": 3,
   "metadata": {
    "id": "pVqcC5ixXU_0"
   },
   "outputs": [],
   "source": [
    "from scipy.spatial import distance as dist\n",
    "import matplotlib.pyplot as plt"
   ]
  },
  {
   "cell_type": "code",
   "execution_count": 4,
   "metadata": {
    "id": "ifVFfEXSCWfQ"
   },
   "outputs": [],
   "source": [
    "import os.path as osp\n",
    "import pickle"
   ]
  },
  {
   "cell_type": "code",
   "execution_count": 5,
   "metadata": {},
   "outputs": [],
   "source": [
    "import pytorch_lightning as pl"
   ]
  },
  {
   "cell_type": "code",
   "execution_count": 6,
   "metadata": {},
   "outputs": [],
   "source": [
    "# from beetl.task_datasets import BeetlSleepTutorial, BeetlSleepSource, BeetlSleepLeaderboard, BeetlMILeaderboard\n",
    "# ds = BeetlSleepSource()\n",
    "# path = ds.download()\n",
    "# print(path)\n",
    "# X, y, info = ds.get_data()"
   ]
  },
  {
   "cell_type": "code",
   "execution_count": 7,
   "metadata": {},
   "outputs": [],
   "source": [
    "# BeetlSleepLeaderboard().download()"
   ]
  },
  {
   "cell_type": "markdown",
   "metadata": {},
   "source": [
    "# Settings and utils"
   ]
  },
  {
   "cell_type": "code",
   "execution_count": 8,
   "metadata": {
    "id": "FL3ZuKQosAOa"
   },
   "outputs": [
    {
     "name": "stderr",
     "output_type": "stream",
     "text": [
      "Global seed set to 997\n"
     ]
    },
    {
     "data": {
      "text/plain": [
       "997"
      ]
     },
     "execution_count": 8,
     "metadata": {},
     "output_type": "execute_result"
    }
   ],
   "source": [
    "SEED=997\n",
    "torch.manual_seed(SEED)\n",
    "torch.cuda.manual_seed(SEED)\n",
    "np.random.seed(SEED)\n",
    "torch.backends.cudnn.deterministic = True\n",
    "pl.seed_everything(SEED)"
   ]
  },
  {
   "cell_type": "code",
   "execution_count": 9,
   "metadata": {},
   "outputs": [],
   "source": [
    "hyper_params = {\n",
    "    'max_epochs': 20,\n",
    "    'learning_rate': 0.003,\n",
    "    'weight_decay': 0.01,\n",
    "    'scheduler_patience': 10,\n",
    "    'batch_size': 256,\n",
    "    'dropout_conv': 0.0,\n",
    "    'dropout_fc': 0.1,\n",
    "    'early_stop_patience': 20,\n",
    "    'weight_beta': 0.995\n",
    "}"
   ]
  },
  {
   "cell_type": "code",
   "execution_count": 10,
   "metadata": {},
   "outputs": [],
   "source": [
    "def plot_label_distribution(y):\n",
    "    (unique, counts) = np.unique(np.asarray(y), return_counts=True)\n",
    "    frequencies = np.asarray((unique, counts)).T\n",
    "    plt.bar(unique, counts)\n",
    "    plt.show()"
   ]
  },
  {
   "cell_type": "code",
   "execution_count": 11,
   "metadata": {
    "tags": []
   },
   "outputs": [],
   "source": [
    "# for i in range(39):\n",
    "#     _, y, _ = dataset.get_data(subjects=[i])\n",
    "#     plot_label_distribution(y)"
   ]
  },
  {
   "cell_type": "code",
   "execution_count": 12,
   "metadata": {
    "colab": {
     "base_uri": "https://localhost:8080/"
    },
    "id": "P6_OyPmAM0np",
    "outputId": "64e272a9-9544-46a6-fc67-fa3634cae7eb",
    "tags": []
   },
   "outputs": [
    {
     "name": "stdout",
     "output_type": "stream",
     "text": [
      "cuda\n"
     ]
    }
   ],
   "source": [
    "import torch\n",
    "device = torch.device(\"cuda\" if torch.cuda.is_available() else \"cpu\")\n",
    "print(device)"
   ]
  },
  {
   "cell_type": "markdown",
   "metadata": {},
   "source": [
    "# Load train, validation data"
   ]
  },
  {
   "cell_type": "markdown",
   "metadata": {},
   "source": [
    "## Train data and validation data"
   ]
  },
  {
   "cell_type": "markdown",
   "metadata": {},
   "source": [
    "Train data and validation data are from the same set of data and are assumed to be from one distribution."
   ]
  },
  {
   "cell_type": "code",
   "execution_count": 13,
   "metadata": {},
   "outputs": [],
   "source": [
    "from beetl.task_datasets import BeetlSleepSource\n",
    "dataset = BeetlSleepSource()\n",
    "from sklearn.model_selection import train_test_split\n",
    "\n",
    "# X_train, y_train, info = dataset.get_data(subjects=range(0, 35))\n",
    "# X_test, y_test, _ = dataset.get_data(subjects=range(35, 39))\n",
    "\n",
    "X, y, _ = dataset.get_data()\n",
    "X_train, X_test, y_train, y_test = train_test_split(X, y, test_size=0.2, random_state=SEED)"
   ]
  },
  {
   "cell_type": "code",
   "execution_count": 14,
   "metadata": {
    "colab": {
     "base_uri": "https://localhost:8080/",
     "height": 408
    },
    "id": "IiNTVOfJK5lo",
    "outputId": "3f595d60-c308-4cfe-988a-5dbf8edbdb7f"
   },
   "outputs": [
    {
     "name": "stdout",
     "output_type": "stream",
     "text": [
      "(72436, 2, 3000)\n",
      "[[    0 19257]\n",
      " [    1  6470]\n",
      " [    2 28763]\n",
      " [    3  4213]\n",
      " [    4  2400]\n",
      " [    5 11333]]\n"
     ]
    },
    {
     "data": {
      "image/png": "[encoded data removed]",
      "text/plain": [
       "<Figure size 432x288 with 1 Axes>"
      ]
     },
     "metadata": {
      "needs_background": "light"
     },
     "output_type": "display_data"
    }
   ],
   "source": [
    "print(X_train.shape)\n",
    "(unique, counts) = np.unique(np.asarray(y_train), return_counts=True)\n",
    "frequencies = np.asarray((unique, counts)).T\n",
    "print(frequencies)\n",
    "plt.bar(unique, counts)\n",
    "plt.show()"
   ]
  },
  {
   "cell_type": "code",
   "execution_count": 15,
   "metadata": {},
   "outputs": [
    {
     "data": {
      "text/plain": [
       "array([0.00997568, 0.01506863, 0.00873161, 0.01800329, 0.02296356,\n",
       "       0.01209129])"
      ]
     },
     "execution_count": 15,
     "metadata": {},
     "output_type": "execute_result"
    }
   ],
   "source": [
    "loss_weight = np.power(hyper_params['weight_beta'], np.sqrt(frequencies[:,1]))\n",
    "loss_weight = (1 - hyper_params['weight_beta']) / (1 - loss_weight)\n",
    "loss_weight"
   ]
  },
  {
   "cell_type": "code",
   "execution_count": 16,
   "metadata": {},
   "outputs": [
    {
     "name": "stdout",
     "output_type": "stream",
     "text": [
      "(18109, 2, 3000)\n",
      "[[   0 4786]\n",
      " [   1 1471]\n",
      " [   2 7220]\n",
      " [   3 1034]\n",
      " [   4  657]\n",
      " [   5 2941]]\n"
     ]
    },
    {
     "data": {
      "image/png": "[encoded data removed]",
      "text/plain": [
       "<Figure size 432x288 with 1 Axes>"
      ]
     },
     "metadata": {
      "needs_background": "light"
     },
     "output_type": "display_data"
    }
   ],
   "source": [
    "print(X_test.shape)\n",
    "(unique, counts) = np.unique(np.asarray(y_test), return_counts=True)\n",
    "frequencies = np.asarray((unique, counts)).T\n",
    "print(frequencies)\n",
    "plt.bar(unique, counts)\n",
    "plt.show()"
   ]
  },
  {
   "cell_type": "code",
   "execution_count": 17,
   "metadata": {},
   "outputs": [],
   "source": [
    "X_train = np.delete(X_train, 1, 1)\n",
    "X_test = np.delete(X_test, 1, 1)"
   ]
  },
  {
   "cell_type": "markdown",
   "metadata": {},
   "source": [
    "From the above 2 histograms, we can see that they have similar labels' distribution."
   ]
  },
  {
   "cell_type": "code",
   "execution_count": 18,
   "metadata": {},
   "outputs": [],
   "source": [
    "%reset_selective -f \"^X$\"\n",
    "%reset_selective -f \"^y$\""
   ]
  },
  {
   "cell_type": "markdown",
   "metadata": {
    "id": "KS6FzukMNyby"
   },
   "source": [
    "# Dataloaders"
   ]
  },
  {
   "cell_type": "code",
   "execution_count": 19,
   "metadata": {
    "id": "KPNrgRkZN2cE"
   },
   "outputs": [],
   "source": [
    "from torch.utils.data import DataLoader, Dataset\n",
    "\n",
    "class EEG1ChData(Dataset):\n",
    "    def __init__(self, train_data, train_label, mode='train'):\n",
    "        mean = np.mean(train_data, axis=2, keepdims=True)\n",
    "        std = np.std(train_data, axis=2, keepdims=True)\n",
    "        self.X = (train_data - mean) / std\n",
    "        self.y = train_label\n",
    "        self.mode = mode\n",
    "    \n",
    "    def __len__(self):\n",
    "        return len(self.X)\n",
    "\n",
    "    def __getitem__(self, idx):\n",
    "        if self.mode == 'train':\n",
    "#             shape = self.X[0].shape\n",
    "#             noise = np.random.normal(0, 0.05, 6000).reshape(shape)\n",
    "#             X = self.X[idx] + noise\n",
    "            # randomly zero out 10 segments of length 50 to 10\n",
    "            X = self.X[idx]\n",
    "            zeroSegCount = np.random.randint(10)\n",
    "            for i in range(zeroSegCount):\n",
    "                s = np.random.randint(3000)\n",
    "                l = np.random.randint(50, 100)\n",
    "                for j in range(s, min(s + l, 3000)):\n",
    "                    X[0][j] = 0\n",
    "        else:\n",
    "            X = self.X[idx]\n",
    "        if self.y is not None:\n",
    "            return torch.tensor(X, dtype=torch.float32), torch.tensor(self.y[idx], dtype=torch.long)\n",
    "        else:\n",
    "            return torch.tensor(X, dtype=torch.float32)"
   ]
  },
  {
   "cell_type": "code",
   "execution_count": 20,
   "metadata": {
    "colab": {
     "base_uri": "https://localhost:8080/"
    },
    "id": "w_a9V9kTN8fk",
    "outputId": "3b54c2b5-1b7c-4587-acb5-3625cc02c7f4"
   },
   "outputs": [
    {
     "name": "stdout",
     "output_type": "stream",
     "text": [
      "(72436, 1, 3000)\n"
     ]
    }
   ],
   "source": [
    "train_dataset = EEG1ChData(X_train, y_train)\n",
    "test_dataset = EEG1ChData(X_test, y_test, mode='test')\n",
    "print(train_dataset.X.shape) # should be length, 1, 3000"
   ]
  },
  {
   "cell_type": "code",
   "execution_count": 22,
   "metadata": {},
   "outputs": [
    {
     "data": {
      "text/plain": [
       "(array([ 12.,  29., 149., 660., 844., 872., 349.,  58.,  15.,  12.]),\n",
       " array([-3.83410592, -3.02822537, -2.22234482, -1.41646427, -0.61058373,\n",
       "         0.19529682,  1.00117737,  1.80705792,  2.61293846,  3.41881901,\n",
       "         4.22469956]),\n",
       " <BarContainer object of 10 artists>)"
      ]
     },
     "execution_count": 22,
     "metadata": {},
     "output_type": "execute_result"
    },
    {
     "data": {
      "image/png": "[encoded data removed]",
      "text/plain": [
       "<Figure size 432x288 with 1 Axes>"
      ]
     },
     "metadata": {
      "needs_background": "light"
     },
     "output_type": "display_data"
    }
   ],
   "source": [
    "plt.hist(train_dataset.X[1][0])"
   ]
  },
  {
   "cell_type": "code",
   "execution_count": 24,
   "metadata": {
    "colab": {
     "base_uri": "https://localhost:8080/"
    },
    "id": "w_a9V9kTN8fk",
    "outputId": "3b54c2b5-1b7c-4587-acb5-3625cc02c7f4"
   },
   "outputs": [],
   "source": [
    "train_loader = torch.utils.data.DataLoader(\n",
    "    dataset=train_dataset, \n",
    "    shuffle=True,\n",
    "    batch_size=hyper_params['batch_size'],\n",
    "    pin_memory=True,\n",
    "    num_workers=2)\n",
    "test_loader = torch.utils.data.DataLoader(dataset=test_dataset, batch_size=hyper_params['batch_size'], pin_memory=True, num_workers=2)"
   ]
  },
  {
   "cell_type": "markdown",
   "metadata": {
    "id": "NkLPGnDuM1Oo",
    "tags": []
   },
   "source": [
    "# Models"
   ]
  },
  {
   "cell_type": "markdown",
   "metadata": {},
   "source": [
    "## Base Lightning Module"
   ]
  },
  {
   "cell_type": "code",
   "execution_count": 26,
   "metadata": {
    "tags": []
   },
   "outputs": [],
   "source": [
    "import torch.nn as nn\n",
    "import torch.nn.functional as F\n",
    "import torch.optim as optim\n",
    "from torch.optim import lr_scheduler\n",
    "from pytorch_metric_learning import losses as loss_fn\n",
    "from collections import OrderedDict\n",
    "from sklearn.metrics import confusion_matrix\n",
    "\n",
    "    \n",
    "class BaseNet(pl.LightningModule):\n",
    "    def training_step(self, batch, batch_idx):\n",
    "        x, y = batch\n",
    "        y_hat = self(x)\n",
    "        loss = F.cross_entropy(y_hat, y, torch.tensor(loss_weight, device=self.device, dtype=torch.float))\n",
    "        return {\n",
    "            'loss': loss,\n",
    "            'train_acc': torch.sum(torch.argmax(y_hat, axis=1) == y, dtype=torch.float32) / len(y)\n",
    "        }\n",
    "    \n",
    "    def training_epoch_end(self, outputs):\n",
    "        avg_loss = torch.stack([x['loss'] for x in outputs]).mean()\n",
    "        avg_acc = torch.stack([x['train_acc'] for x in outputs]).mean()\n",
    "        comet_logs = {'train_loss': avg_loss, 'train_acc': avg_acc}\n",
    "        self.log_dict(comet_logs)\n",
    "    \n",
    "    def validation_step(self, batch, batch_idx):\n",
    "        x, y = batch\n",
    "        y_hat = self(x)\n",
    "        preds = torch.argmax(y_hat, axis=1)\n",
    "        loss = F.cross_entropy(y_hat, y, torch.tensor(loss_weight, device=self.device, dtype=torch.float))\n",
    "        return {\n",
    "            'val_loss': loss,\n",
    "            'val_acc': torch.sum(preds == y, dtype=torch.float32) / len(y),\n",
    "            'preds': torch.tensor(preds),\n",
    "            'y': torch.tensor(y)\n",
    "        }\n",
    "\n",
    "    def validation_epoch_end(self, outputs):\n",
    "        avg_loss = torch.stack([x['val_loss'] for x in outputs]).mean()\n",
    "        avg_acc = torch.stack([x['val_acc'] for x in outputs]).mean()\n",
    "        comet_logs = {'val_loss': avg_loss, 'val_acc': avg_acc}\n",
    "        \n",
    "        targets = []\n",
    "        predicted = []\n",
    "        for x in outputs:\n",
    "            targets.extend(x['y'])\n",
    "            predicted.extend(x['preds'])\n",
    "            \n",
    "        targets = F.one_hot(torch.tensor(targets))\n",
    "        predicted = F.one_hot(torch.tensor(predicted))\n",
    "        \n",
    "        experiment = self.logger.experiment\n",
    "        experiment.log_confusion_matrix(\n",
    "            targets,\n",
    "            predicted,\n",
    "            title=\"Confusion Matrix, Epoch #%d\" % (self.current_epoch + 1),\n",
    "            file_name=\"confusion-matrix-%03d.json\" % (self.current_epoch + 1),\n",
    "        )\n",
    "        self.log_dict(comet_logs)\n",
    "    \n",
    "    def test_step(self, batch, batch_idx):\n",
    "        x, y = batch\n",
    "        y_hat = self(x)\n",
    "        loss = F.cross_entropy(y_hat, y)\n",
    "        return {\n",
    "            'test_loss': loss,\n",
    "            'test_acc': torch.sum(torch.argmax(y_hat, axis=1) == y, dtype=torch.float32) / len(y)\n",
    "        }\n",
    "    \n",
    "    def test_epoch_end(self, outputs):\n",
    "        avg_loss = torch.stack([x['test_loss'] for x in outputs]).mean()\n",
    "        avg_acc = torch.stack([x['test_acc'] for x in outputs]).mean()\n",
    "        comet_logs = {'test_loss': avg_loss, 'test_acc': avg_acc}\n",
    "        self.log_dict(comet_logs)\n",
    "    \n",
    "    def configure_optimizers(self):\n",
    "        optimizer = optim.AdamW(model.parameters(), lr=self.learning_rate, weight_decay=hyper_params['weight_decay'])\n",
    "        return {\n",
    "            'optimizer': optimizer,\n",
    "            'lr_scheduler': {\n",
    "                'scheduler': lr_scheduler.ReduceLROnPlateau(optimizer, mode='min', patience=hyper_params['scheduler_patience'], min_lr=1e-5),\n",
    "                'interval': 'epoch',\n",
    "                'frequency': 1,\n",
    "                'monitor': 'val_loss',\n",
    "            }\n",
    "        }"
   ]
  },
  {
   "cell_type": "markdown",
   "metadata": {},
   "source": [
    "## Models"
   ]
  },
  {
   "cell_type": "code",
   "execution_count": 27,
   "metadata": {
    "id": "GWbJZMGzMyiM",
    "jupyter": {
     "source_hidden": true
    },
    "tags": []
   },
   "outputs": [],
   "source": [
    "# import torch.nn as nn\n",
    "# import torch.nn.functional as F\n",
    "    \n",
    "# class LSTMNet(nn.Module):\n",
    "#     def __init__(self, n_classes):\n",
    "#         super(LSTMNet, self).__init__()\n",
    "#         self.drop1 = nn.Dropout(0.5)\n",
    "#         self.drop_ch = nn.Dropout2d(0.1)\n",
    "#         self.fc = nn.Linear(128, n_classes)\n",
    "#         self.n_classes = n_classes\n",
    "\n",
    "#         self.conv1 = nn.Conv2d(in_channels=1, out_channels=16, kernel_size=[10, 2], stride=1)\n",
    "#         self.bn1 = nn.BatchNorm1d(16)\n",
    "        \n",
    "#         self.conv2 = nn.Conv1d(in_channels=16, out_channels=32, kernel_size=10, stride=1)\n",
    "#         self.bn2 = nn.BatchNorm1d(32)\n",
    "        \n",
    "#         self.conv3 = nn.Conv1d(in_channels=32, out_channels=64, kernel_size=10, stride=1)\n",
    "#         self.bn3 = nn.BatchNorm1d(64)\n",
    "        \n",
    "#         self.pool = nn.MaxPool1d(4)\n",
    "\n",
    "#         self.lstm = nn.LSTM(input_size=64, hidden_size=128, batch_first=True)\n",
    "\n",
    "#         torch.nn.init.kaiming_normal_(self.conv1.weight)\n",
    "#         torch.nn.init.kaiming_normal_(self.conv2.weight)\n",
    "#         torch.nn.init.kaiming_normal_(self.conv3.weight)\n",
    "#         torch.nn.init.kaiming_normal_(self.fc.weight)\n",
    "\n",
    "#     def forward(self, x):\n",
    "#         output = self.bn1(self.pool(F.relu(self.conv1(x)).reshape(x.shape[0], self.conv1.out_channels, -1)))\n",
    "#         output = torch.squeeze(self.drop_ch(torch.unsqueeze(output, 3)))\n",
    "        \n",
    "#         output = self.bn2(self.pool(F.relu(self.conv2(output))))\n",
    "#         output = torch.squeeze(self.drop_ch(torch.unsqueeze(output, 3)))\n",
    "        \n",
    "#         output = self.bn3(self.pool(F.relu(self.conv3(output))))\n",
    "#         output = torch.squeeze(self.drop_ch(torch.unsqueeze(output, 3)))\n",
    "#         # output's shape is batch, 64, 37\n",
    "        \n",
    "#         outputs, _ = self.lstm(torch.transpose(output, 2, 1)) # batch, seq_len, hidden_size\n",
    "# #         _, (outputs, _) = self.lstm(torch.transpose(output, 2, 1)) # batch, seq_len, hidden_size\n",
    "#         output = torch.mean(outputs, 1) # batch, hidden_size\n",
    "# #         output = torch.squeeze(outputs)\n",
    "#         output = F.relu(self.fc(self.drop1(output)))\n",
    "#         return output\n"
   ]
  },
  {
   "cell_type": "code",
   "execution_count": 28,
   "metadata": {
    "tags": []
   },
   "outputs": [],
   "source": [
    "class WvNet(BaseNet):\n",
    "    def __init__(self, learning_rate, drop_conv, drop_fc):\n",
    "        super().__init__()\n",
    "        \n",
    "        self.learning_rate = learning_rate\n",
    "        self.drop_fc = nn.Dropout(drop_fc)\n",
    "        self.drop_conv = nn.Dropout2d(drop_conv)\n",
    "        self.drop_sm = nn.Dropout(0.33)\n",
    "        self.n_classes = 6\n",
    "        self.conv_f_size = 16\n",
    "        \n",
    "        self.conv_fs = nn.ModuleList()\n",
    "        for i in range(6):\n",
    "            self.conv_fs.append(\n",
    "                    nn.Sequential(OrderedDict([\n",
    "                        ('conv', nn.Conv1d(in_channels=1, out_channels=self.conv_f_size, kernel_size=[5 * (2**i)], stride=1, bias=False)),\n",
    "                        ('act', nn.ReLU()),\n",
    "                        ('pool', nn.AdaptiveAvgPool1d((64))),\n",
    "                        ('bn', nn.BatchNorm1d(self.conv_f_size))\n",
    "                    ])\n",
    "                )\n",
    "            )\n",
    "\n",
    "        self.pool_conv_1 = nn.AvgPool2d((2, 2))\n",
    "        self.conv_gr1 = nn.Conv2d(in_channels=len(self.conv_fs), out_channels=16, kernel_size=[3, 7], stride=1, padding=(1, 3), groups=1)\n",
    "        self.bn_gr1 = nn.BatchNorm2d(self.conv_gr1.out_channels)\n",
    "        \n",
    "        self.conv_gr2 = nn.Conv2d(in_channels=self.conv_gr1.out_channels, out_channels=48, kernel_size=[3, 7], stride=1, padding=(1, 3), groups=1)\n",
    "        self.pool_conv_2 = nn.AvgPool2d((2, 1))\n",
    "        self.bn_gr2 = nn.BatchNorm2d(self.conv_gr2.out_channels)\n",
    "        \n",
    "        self.conv_gr3 = nn.Conv2d(in_channels=self.conv_gr2.out_channels, out_channels=128, kernel_size=[4, 8], stride=1, groups=2)\n",
    "        self.bn_gr3 = nn.BatchNorm2d(self.conv_gr3.out_channels)\n",
    "        \n",
    "        self.lstm = nn.LSTM(input_size=self.conv_gr3.out_channels, hidden_size=64, bidirectional=True, batch_first=True)\n",
    "#         self.fc2 = nn.Linear(48, self.n_classes)\n",
    "        \n",
    "#         self.fc = nn.Linear(128, self.n_classes)\n",
    "#         self.fc1 = nn.Linear(128, 48)\n",
    "#\n",
    "        # depthwise convolution acts as FC layer\n",
    "        self.dw_conv = nn.Conv1d(in_channels=128, out_channels=6, kernel_size=[1], stride=1)\n",
    "\n",
    "        \n",
    "        for conv_f in self.conv_fs:\n",
    "            torch.nn.init.kaiming_normal_(conv_f.conv.weight)\n",
    "        torch.nn.init.kaiming_normal_(self.conv_gr1.weight)\n",
    "        torch.nn.init.kaiming_normal_(self.conv_gr2.weight)\n",
    "        torch.nn.init.kaiming_normal_(self.conv_gr3.weight)\n",
    "        torch.nn.init.kaiming_normal_(self.dw_conv.weight)\n",
    "#         torch.nn.init.kaiming_normal_(self.fc1.weight)\n",
    "#         torch.nn.init.kaiming_normal_(self.fc2.weight)\n",
    "\n",
    "    def forward(self, x):\n",
    "        outputs = []\n",
    "        for i in range(len(self.conv_fs)):\n",
    "            output = self.conv_fs[i](x)\n",
    "            output = self.drop_conv(output)\n",
    "            output = torch.squeeze(output)\n",
    "            outputs.append(output)\n",
    "        \n",
    "        output = torch.stack((outputs), dim=1)\n",
    "        \n",
    "        output = self.bn_gr1(self.pool_conv_1(F.relu(self.conv_gr1(output))))\n",
    "        output = self.drop_conv(output)\n",
    "        \n",
    "        output = self.bn_gr2(self.pool_conv_2(F.relu(self.conv_gr2(output))))\n",
    "        output = self.drop_conv(output)\n",
    "        \n",
    "        output = self.bn_gr3(F.relu(self.conv_gr3(output)))\n",
    "        output = torch.squeeze(output)\n",
    "        \n",
    "#         _, (outputs, _) = self.lstm(torch.transpose(output, 2, 1)) # batch, seq_len, hidden_size\n",
    "#         output = outputs[1] # get hidden of backward pass\n",
    "\n",
    "        outputs, _ = self.lstm(torch.transpose(output, 2, 1)) # batch, seq_len, hidden_size\n",
    "        outputs = self.dw_conv(torch.transpose(outputs, 2, 1))\n",
    "        output = torch.mean(outputs, dim=2) # batch, 6\n",
    "\n",
    "#         output = F.relu(self.fc1(self.drop_fc(output)))\n",
    "#         output = self.fc2(self.drop_fc(output))\n",
    "        return output\n",
    "\n",
    "    def configure_optimizers(self):\n",
    "        optimizer = optim.AdamW(model.parameters(), lr=self.learning_rate, weight_decay=hyper_params['weight_decay'])\n",
    "        return {\n",
    "            'optimizer': optimizer,\n",
    "            'lr_scheduler': {\n",
    "                'scheduler': lr_scheduler.OneCycleLR(optimizer, max_lr=hyper_params['learning_rate'], steps_per_epoch=len(train_loader), epochs=hyper_params['max_epochs'], pct_start=0.3, div_factor=3),\n",
    "                'interval': 'step',\n",
    "                'frequency': 1,\n",
    "                'monitor': 'val_loss',\n",
    "            }\n",
    "        }"
   ]
  },
  {
   "cell_type": "code",
   "execution_count": 29,
   "metadata": {
    "jupyter": {
     "source_hidden": true
    },
    "tags": []
   },
   "outputs": [],
   "source": [
    "# import torch.nn as nn\n",
    "# import torch.nn.functional as F\n",
    "# import torch.optim as optim\n",
    "# from torch.optim import lr_scheduler\n",
    "# from pytorch_metric_learning import losses as loss_fn\n",
    "# from collections import OrderedDict\n",
    "# from sklearn.metrics import confusion_matrix\n",
    "\n",
    "    \n",
    "# class WvConvNet(pl.LightningModule):\n",
    "#     def __init__(self, learning_rate):\n",
    "#         super().__init__()\n",
    "#         self.learning_rate = learning_rate\n",
    "#         self.drop_fc = nn.Dropout(0.2)\n",
    "#         self.drop_conv = nn.Dropout2d(0.1)\n",
    "#         self.n_classes = 6\n",
    "#         self.conv_f_size = 16\n",
    "        \n",
    "#         self.conv_fs = nn.ModuleList()\n",
    "#         for i in range(6):\n",
    "#             self.conv_fs.append(\n",
    "#                     nn.Sequential(OrderedDict([\n",
    "#                         ('conv', nn.Conv2d(in_channels=1, out_channels=self.conv_f_size, kernel_size=[4, 2], stride=1, dilation=(2**i, 1), bias=False)),\n",
    "#                         ('act', nn.ReLU()),\n",
    "#                         ('pool', nn.AdaptiveAvgPool2d((32, 1))),\n",
    "#                         ('bn', nn.BatchNorm2d(self.conv_f_size))\n",
    "#                     ])\n",
    "#                 )\n",
    "#             )\n",
    "\n",
    "#         self.pool_conv_2d = nn.MaxPool2d((2, 2))\n",
    "#         self.conv_gr1 = nn.Conv2d(in_channels=len(self.conv_fs), out_channels=32, kernel_size=[3, 7], stride=1, padding=(1, 3), groups=2)\n",
    "#         self.bn_gr1 = nn.BatchNorm2d(self.conv_gr1.out_channels)\n",
    "        \n",
    "#         self.conv_gr2 = nn.Conv2d(in_channels=self.conv_gr1.out_channels, out_channels=64, kernel_size=[3, 7], stride=1, padding=(1, 3), groups=2)\n",
    "#         self.bn_gr2 = nn.BatchNorm2d(self.conv_gr2.out_channels)\n",
    "        \n",
    "#         self.conv_gr3 = nn.Conv2d(in_channels=self.conv_gr2.out_channels, out_channels=128, kernel_size=[4, 8], stride=1, groups=2)\n",
    "#         self.bn_gr3 = nn.BatchNorm2d(self.conv_gr3.out_channels)\n",
    "        \n",
    "#         self.fc = nn.Linear(self.conv_gr3.out_channels, self.n_classes)\n",
    "    \n",
    "#         for conv_f in self.conv_fs:\n",
    "#             torch.nn.init.kaiming_normal_(conv_f.conv.weight)\n",
    "#         torch.nn.init.kaiming_normal_(self.conv_gr1.weight)\n",
    "#         torch.nn.init.kaiming_normal_(self.conv_gr2.weight)\n",
    "#         torch.nn.init.kaiming_normal_(self.conv_gr3.weight)\n",
    "#         torch.nn.init.kaiming_normal_(self.fc.weight)\n",
    "\n",
    "#     def forward(self, x):\n",
    "#         n_batch = x.shape[0]\n",
    "#         outputs = []\n",
    "#         for i in range(len(self.conv_fs)):\n",
    "#             output = self.conv_fs[i](x)\n",
    "#             output = self.drop_conv(output)\n",
    "#             output = torch.squeeze(output)\n",
    "#             outputs.append(output)\n",
    "        \n",
    "#         output = torch.stack((outputs), dim=1)\n",
    "        \n",
    "#         output = self.bn_gr1(self.pool_conv_2d(F.relu(self.conv_gr1(output))))\n",
    "#         output = self.drop_conv(output)\n",
    "        \n",
    "#         output = self.bn_gr2(self.pool_conv_2d(F.relu(self.conv_gr2(output))))\n",
    "#         output = self.drop_conv(output)\n",
    "        \n",
    "#         output = self.bn_gr3(F.relu(self.conv_gr3(output)))\n",
    "#         output = self.drop_fc(torch.squeeze(output))\n",
    "\n",
    "#         output = self.fc(output)\n",
    "#         return output\n",
    "    \n",
    "#     def training_step(self, batch, batch_idx):\n",
    "#         x, y = batch\n",
    "#         y_hat = self(x)\n",
    "#         loss = F.cross_entropy(y_hat, y)\n",
    "#         return {\n",
    "#             'loss': loss,\n",
    "#             'train_acc': torch.sum(torch.argmax(y_hat, axis=1) == y, dtype=torch.float32) / len(y)\n",
    "#         }\n",
    "    \n",
    "#     def training_epoch_end(self, outputs):\n",
    "#         avg_loss = torch.stack([x['loss'] for x in outputs]).mean()\n",
    "#         avg_acc = torch.stack([x['train_acc'] for x in outputs]).mean()\n",
    "#         comet_logs = {'train_loss': avg_loss, 'train_acc': avg_acc}\n",
    "#         self.log_dict(comet_logs)\n",
    "    \n",
    "#     def validation_step(self, batch, batch_idx):\n",
    "#         x, y = batch\n",
    "#         y_hat = self(x)\n",
    "#         preds = torch.argmax(y_hat, axis=1)\n",
    "#         loss = F.cross_entropy(y_hat, y)\n",
    "#         return {\n",
    "#             'val_loss': loss,\n",
    "#             'val_acc': torch.sum(preds == y, dtype=torch.float32) / len(y),\n",
    "#         }\n",
    "\n",
    "#     def validation_epoch_end(self, outputs):\n",
    "#         avg_loss = torch.stack([x['val_loss'] for x in outputs]).mean()\n",
    "#         avg_acc = torch.stack([x['val_acc'] for x in outputs]).mean()\n",
    "#         comet_logs = {'val_loss': avg_loss, 'val_acc': avg_acc}\n",
    "#         self.log_dict(comet_logs)\n",
    "    \n",
    "#     def test_step(self, batch, batch_idx):\n",
    "#         x, y = batch\n",
    "#         y_hat = self(x)\n",
    "#         loss = F.cross_entropy(y_hat, y)\n",
    "#         return {\n",
    "#             'test_loss': loss,\n",
    "#             'test_acc': torch.sum(torch.argmax(y_hat, axis=1) == y, dtype=torch.float32) / len(y)\n",
    "#         }\n",
    "    \n",
    "#     def test_epoch_end(self, outputs):\n",
    "#         avg_loss = torch.stack([x['test_loss'] for x in outputs]).mean()\n",
    "#         avg_acc = torch.stack([x['test_acc'] for x in outputs]).mean()\n",
    "#         comet_logs = {'test_loss': avg_loss, 'test_acc': avg_acc}\n",
    "#         self.log_dict(comet_logs)\n",
    "    \n",
    "#     def configure_optimizers(self):\n",
    "#         optimizer = optim.Adam(model.parameters(), lr=self.learning_rate, weight_decay=hyper_params['weight_decay'])\n",
    "#         return {\n",
    "#             'optimizer': optimizer,\n",
    "#             'lr_scheduler': {\n",
    "#                 'scheduler': lr_scheduler.ReduceLROnPlateau(optimizer, mode='min', patience=hyper_params['scheduler_patience'], min_lr=1e-6),\n",
    "#                 'interval': 'epoch',\n",
    "#                 'frequency': 1,\n",
    "#                 'monitor': 'val_loss',\n",
    "#             }\n",
    "#         }"
   ]
  },
  {
   "cell_type": "markdown",
   "metadata": {},
   "source": [
    "# Training"
   ]
  },
  {
   "cell_type": "markdown",
   "metadata": {},
   "source": [
    "## Create trainer"
   ]
  },
  {
   "cell_type": "code",
   "execution_count": 31,
   "metadata": {
    "tags": []
   },
   "outputs": [
    {
     "name": "stderr",
     "output_type": "stream",
     "text": [
      "CometLogger will be initialized in online mode\n",
      "/home/peara/.local/lib/python3.8/site-packages/pytorch_lightning/callbacks/model_checkpoint.py:360: UserWarning: Checkpoint directory ../models/ exists and is not empty.\n",
      "  rank_zero_warn(f\"Checkpoint directory {dirpath} exists and is not empty.\")\n",
      "GPU available: True, used: True\n",
      "TPU available: False, using: 0 TPU cores\n"
     ]
    }
   ],
   "source": [
    "from pytorch_lightning.loggers import CometLogger\n",
    "from pytorch_lightning.callbacks.early_stopping import EarlyStopping\n",
    "from pytorch_lightning.callbacks import LearningRateMonitor\n",
    "from pytorch_lightning.callbacks import ModelCheckpoint\n",
    "\n",
    "# arguments made to CometLogger are passed on to the comet_ml.Experiment class\n",
    "comet_logger = CometLogger(\n",
    "    api_key=comet_config['api_key'],\n",
    "    workspace=comet_config['workspace'],\n",
    "    project_name=comet_config['project_name'],\n",
    "    experiment_name='WvNet f 1 channel + 5 * (2**i), len 64 + 3 layer + 16 features + lstm + dw_conv + random cut + weighted loss'\n",
    ")\n",
    "\n",
    "early_stop_callback = EarlyStopping(\n",
    "    monitor='val_loss',\n",
    "    patience=hyper_params['early_stop_patience'],\n",
    "    min_delta=0.0005,\n",
    "    verbose=False,\n",
    "    mode='min'\n",
    ")\n",
    "\n",
    "checkpoint_callback = ModelCheckpoint(\n",
    "    monitor='val_loss',\n",
    "    dirpath='../models/',\n",
    "    filename='wvnet-1ch-{epoch}-{val_loss:.2f}',\n",
    "    save_top_k=3,\n",
    "    mode='min',\n",
    ")\n",
    "\n",
    "lr_monitor = LearningRateMonitor(logging_interval='epoch')\n",
    "trainer = pl.Trainer(gpus=1, max_epochs=hyper_params['max_epochs'], logger=comet_logger, deterministic=True, callbacks=[lr_monitor, checkpoint_callback], stochastic_weight_avg=True)"
   ]
  },
  {
   "cell_type": "code",
   "execution_count": 32,
   "metadata": {},
   "outputs": [
    {
     "name": "stderr",
     "output_type": "stream",
     "text": [
      "COMET WARNING: As you are running in a Jupyter environment, you will need to call `experiment.end()` when finished to ensure all metrics and code are logged before exiting.\n",
      "COMET INFO: Experiment is live on comet.ml https://www.comet.ml/peara/sleep-eeg/a276306868f74d2e8c710378cad3569b\n",
      "\n"
     ]
    }
   ],
   "source": [
    "trainer.logger.log_hyperparams(hyper_params)"
   ]
  },
  {
   "cell_type": "markdown",
   "metadata": {},
   "source": [
    "## Fit"
   ]
  },
  {
   "cell_type": "code",
   "execution_count": 33,
   "metadata": {
    "tags": []
   },
   "outputs": [],
   "source": [
    "model = WvNet(hyper_params['learning_rate'], hyper_params['dropout_conv'], hyper_params['dropout_fc'])"
   ]
  },
  {
   "cell_type": "code",
   "execution_count": 34,
   "metadata": {
    "tags": []
   },
   "outputs": [
    {
     "name": "stderr",
     "output_type": "stream",
     "text": [
      "LOCAL_RANK: 0 - CUDA_VISIBLE_DEVICES: [0]\n",
      "COMET WARNING: Empty mapping given to log_params({}); ignoring\n",
      "\n",
      "   | Name        | Type        | Params\n",
      "---------------------------------------------\n",
      "0  | drop_fc     | Dropout     | 0     \n",
      "1  | drop_conv   | Dropout2d   | 0     \n",
      "2  | drop_sm     | Dropout     | 0     \n",
      "3  | conv_fs     | ModuleList  | 5.2 K \n",
      "4  | pool_conv_1 | AvgPool2d   | 0     \n",
      "5  | conv_gr1    | Conv2d      | 2.0 K \n",
      "6  | bn_gr1      | BatchNorm2d | 32    \n",
      "7  | conv_gr2    | Conv2d      | 16.2 K\n",
      "8  | pool_conv_2 | AvgPool2d   | 0     \n",
      "9  | bn_gr2      | BatchNorm2d | 96    \n",
      "10 | conv_gr3    | Conv2d      | 98.4 K\n",
      "11 | bn_gr3      | BatchNorm2d | 256   \n",
      "12 | lstm        | LSTM        | 99.3 K\n",
      "13 | dw_conv     | Conv1d      | 774   \n",
      "---------------------------------------------\n",
      "222 K     Trainable params\n",
      "0         Non-trainable params\n",
      "222 K     Total params\n",
      "0.889     Total estimated model params size (MB)\n"
     ]
    },
    {
     "data": {
      "application/vnd.jupyter.widget-view+json": {
       "model_id": "",
       "version_major": 2,
       "version_minor": 0
      },
      "text/plain": [
       "Validation sanity check: 0it [00:00, ?it/s]"
      ]
     },
     "metadata": {},
     "output_type": "display_data"
    },
    {
     "name": "stderr",
     "output_type": "stream",
     "text": [
      "/home/peara/.local/lib/python3.8/site-packages/pytorch_lightning/trainer/data_loading.py:102: UserWarning: The dataloader, val dataloader 0, does not have many workers which may be a bottleneck. Consider increasing the value of the `num_workers` argument` (try 16 which is the number of cpus on this machine) in the `DataLoader` init to improve performance.\n",
      "  rank_zero_warn(\n",
      "<ipython-input-26-610d57336b04>:34: UserWarning: To copy construct from a tensor, it is recommended to use sourceTensor.clone().detach() or sourceTensor.clone().detach().requires_grad_(True), rather than torch.tensor(sourceTensor).\n",
      "  'preds': torch.tensor(preds),\n",
      "<ipython-input-26-610d57336b04>:35: UserWarning: To copy construct from a tensor, it is recommended to use sourceTensor.clone().detach() or sourceTensor.clone().detach().requires_grad_(True), rather than torch.tensor(sourceTensor).\n",
      "  'y': torch.tensor(y)\n",
      "Global seed set to 997\n",
      "/home/peara/.local/lib/python3.8/site-packages/pytorch_lightning/trainer/data_loading.py:102: UserWarning: The dataloader, train dataloader, does not have many workers which may be a bottleneck. Consider increasing the value of the `num_workers` argument` (try 16 which is the number of cpus on this machine) in the `DataLoader` init to improve performance.\n",
      "  rank_zero_warn(\n"
     ]
    },
    {
     "data": {
      "application/vnd.jupyter.widget-view+json": {
       "model_id": "03a12de516a4428da9b38ed90bbc6d80",
       "version_major": 2,
       "version_minor": 0
      },
      "text/plain": [
       "Training: 0it [00:00, ?it/s]"
      ]
     },
     "metadata": {},
     "output_type": "display_data"
    },
    {
     "name": "stderr",
     "output_type": "stream",
     "text": [
      "/home/peara/.local/lib/python3.8/site-packages/pytorch_lightning/trainer/callback_hook.py:100: LightningDeprecationWarning: The signature of `Callback.on_train_epoch_end` has changed in v1.3. `outputs` parameter has been removed. Support for the old signature will be removed in v1.5\n",
      "  warning_cache.deprecation(\n"
     ]
    },
    {
     "data": {
      "application/vnd.jupyter.widget-view+json": {
       "model_id": "",
       "version_major": 2,
       "version_minor": 0
      },
      "text/plain": [
       "Validating: 0it [00:00, ?it/s]"
      ]
     },
     "metadata": {},
     "output_type": "display_data"
    },
    {
     "data": {
      "application/vnd.jupyter.widget-view+json": {
       "model_id": "",
       "version_major": 2,
       "version_minor": 0
      },
      "text/plain": [
       "Validating: 0it [00:00, ?it/s]"
      ]
     },
     "metadata": {},
     "output_type": "display_data"
    },
    {
     "data": {
      "application/vnd.jupyter.widget-view+json": {
       "model_id": "",
       "version_major": 2,
       "version_minor": 0
      },
      "text/plain": [
       "Validating: 0it [00:00, ?it/s]"
      ]
     },
     "metadata": {},
     "output_type": "display_data"
    },
    {
     "data": {
      "application/vnd.jupyter.widget-view+json": {
       "model_id": "",
       "version_major": 2,
       "version_minor": 0
      },
      "text/plain": [
       "Validating: 0it [00:00, ?it/s]"
      ]
     },
     "metadata": {},
     "output_type": "display_data"
    },
    {
     "data": {
      "application/vnd.jupyter.widget-view+json": {
       "model_id": "",
       "version_major": 2,
       "version_minor": 0
      },
      "text/plain": [
       "Validating: 0it [00:00, ?it/s]"
      ]
     },
     "metadata": {},
     "output_type": "display_data"
    },
    {
     "data": {
      "application/vnd.jupyter.widget-view+json": {
       "model_id": "",
       "version_major": 2,
       "version_minor": 0
      },
      "text/plain": [
       "Validating: 0it [00:00, ?it/s]"
      ]
     },
     "metadata": {},
     "output_type": "display_data"
    },
    {
     "data": {
      "application/vnd.jupyter.widget-view+json": {
       "model_id": "",
       "version_major": 2,
       "version_minor": 0
      },
      "text/plain": [
       "Validating: 0it [00:00, ?it/s]"
      ]
     },
     "metadata": {},
     "output_type": "display_data"
    },
    {
     "data": {
      "application/vnd.jupyter.widget-view+json": {
       "model_id": "",
       "version_major": 2,
       "version_minor": 0
      },
      "text/plain": [
       "Validating: 0it [00:00, ?it/s]"
      ]
     },
     "metadata": {},
     "output_type": "display_data"
    },
    {
     "data": {
      "application/vnd.jupyter.widget-view+json": {
       "model_id": "",
       "version_major": 2,
       "version_minor": 0
      },
      "text/plain": [
       "Validating: 0it [00:00, ?it/s]"
      ]
     },
     "metadata": {},
     "output_type": "display_data"
    },
    {
     "data": {
      "application/vnd.jupyter.widget-view+json": {
       "model_id": "",
       "version_major": 2,
       "version_minor": 0
      },
      "text/plain": [
       "Validating: 0it [00:00, ?it/s]"
      ]
     },
     "metadata": {},
     "output_type": "display_data"
    },
    {
     "data": {
      "application/vnd.jupyter.widget-view+json": {
       "model_id": "",
       "version_major": 2,
       "version_minor": 0
      },
      "text/plain": [
       "Validating: 0it [00:00, ?it/s]"
      ]
     },
     "metadata": {},
     "output_type": "display_data"
    },
    {
     "data": {
      "application/vnd.jupyter.widget-view+json": {
       "model_id": "",
       "version_major": 2,
       "version_minor": 0
      },
      "text/plain": [
       "Validating: 0it [00:00, ?it/s]"
      ]
     },
     "metadata": {},
     "output_type": "display_data"
    },
    {
     "data": {
      "application/vnd.jupyter.widget-view+json": {
       "model_id": "",
       "version_major": 2,
       "version_minor": 0
      },
      "text/plain": [
       "Validating: 0it [00:00, ?it/s]"
      ]
     },
     "metadata": {},
     "output_type": "display_data"
    },
    {
     "data": {
      "application/vnd.jupyter.widget-view+json": {
       "model_id": "",
       "version_major": 2,
       "version_minor": 0
      },
      "text/plain": [
       "Validating: 0it [00:00, ?it/s]"
      ]
     },
     "metadata": {},
     "output_type": "display_data"
    },
    {
     "data": {
      "application/vnd.jupyter.widget-view+json": {
       "model_id": "",
       "version_major": 2,
       "version_minor": 0
      },
      "text/plain": [
       "Validating: 0it [00:00, ?it/s]"
      ]
     },
     "metadata": {},
     "output_type": "display_data"
    },
    {
     "name": "stderr",
     "output_type": "stream",
     "text": [
      "/home/peara/.local/lib/python3.8/site-packages/pytorch_lightning/callbacks/stochastic_weight_avg.py:199: UserWarning: SWA is currently only supported every epoch. Found {'scheduler': <torch.optim.lr_scheduler.OneCycleLR object at 0x7fceec251730>, 'name': None, 'interval': 'step', 'frequency': 1, 'reduce_on_plateau': False, 'monitor': 'val_loss', 'strict': True, 'opt_idx': None}\n",
      "  rank_zero_warn(f\"SWA is currently only supported every epoch. Found {scheduler_cfg}\")\n",
      "Swapping scheduler <torch.optim.lr_scheduler.OneCycleLR object at 0x7fceec251730> for <torch.optim.swa_utils.SWALR object at 0x7fcfe2a0c8b0>\n"
     ]
    },
    {
     "data": {
      "application/vnd.jupyter.widget-view+json": {
       "model_id": "",
       "version_major": 2,
       "version_minor": 0
      },
      "text/plain": [
       "Validating: 0it [00:00, ?it/s]"
      ]
     },
     "metadata": {},
     "output_type": "display_data"
    },
    {
     "data": {
      "application/vnd.jupyter.widget-view+json": {
       "model_id": "",
       "version_major": 2,
       "version_minor": 0
      },
      "text/plain": [
       "Validating: 0it [00:00, ?it/s]"
      ]
     },
     "metadata": {},
     "output_type": "display_data"
    },
    {
     "data": {
      "application/vnd.jupyter.widget-view+json": {
       "model_id": "",
       "version_major": 2,
       "version_minor": 0
      },
      "text/plain": [
       "Validating: 0it [00:00, ?it/s]"
      ]
     },
     "metadata": {},
     "output_type": "display_data"
    },
    {
     "data": {
      "application/vnd.jupyter.widget-view+json": {
       "model_id": "",
       "version_major": 2,
       "version_minor": 0
      },
      "text/plain": [
       "Validating: 0it [00:00, ?it/s]"
      ]
     },
     "metadata": {},
     "output_type": "display_data"
    },
    {
     "data": {
      "application/vnd.jupyter.widget-view+json": {
       "model_id": "",
       "version_major": 2,
       "version_minor": 0
      },
      "text/plain": [
       "Validating: 0it [00:00, ?it/s]"
      ]
     },
     "metadata": {},
     "output_type": "display_data"
    },
    {
     "data": {
      "application/vnd.jupyter.widget-view+json": {
       "model_id": "",
       "version_major": 2,
       "version_minor": 0
      },
      "text/plain": [
       "Validating: 0it [00:00, ?it/s]"
      ]
     },
     "metadata": {},
     "output_type": "display_data"
    },
    {
     "name": "stderr",
     "output_type": "stream",
     "text": [
      "COMET INFO: ---------------------------\n",
      "COMET INFO: Comet.ml Experiment Summary\n",
      "COMET INFO: ---------------------------\n",
      "COMET INFO:   Data:\n",
      "COMET INFO:     display_summary_level : 1\n",
      "COMET INFO:     url                   : https://www.comet.ml/peara/sleep-eeg/a276306868f74d2e8c710378cad3569b\n",
      "COMET INFO:   Metrics [count] (min, max):\n",
      "COMET INFO:     loss [1132]     : (0.28463658690452576, 1.5725730657577515)\n",
      "COMET INFO:     lr-AdamW [21]   : (0.0008481747167074296, 0.002999999528461056)\n",
      "COMET INFO:     train_acc [21]  : (0.7123841047286987, 0.8576430678367615)\n",
      "COMET INFO:     train_loss [21] : (0.3973385989665985, 0.7945191264152527)\n",
      "COMET INFO:     val_acc [21]    : (0.7655301094055176, 0.8193902969360352)\n",
      "COMET INFO:     val_loss [21]   : (0.516021192073822, 0.64830482006073)\n",
      "COMET INFO:   Others:\n",
      "COMET INFO:     Name : WvNet f 1 channel + 5 * (2**i), len 64 + 3 layer + 16 features + lstm + dw_conv + random cut + weighted loss\n",
      "COMET INFO:   Parameters:\n",
      "COMET INFO:     batch_size          : 256\n",
      "COMET INFO:     dropout_conv        : 1\n",
      "COMET INFO:     dropout_fc          : 0.1\n",
      "COMET INFO:     early_stop_patience : 20\n",
      "COMET INFO:     learning_rate       : 0.003\n",
      "COMET INFO:     max_epochs          : 20\n",
      "COMET INFO:     scheduler_patience  : 10\n",
      "COMET INFO:     weight_beta         : 0.995\n",
      "COMET INFO:     weight_decay        : 0.01\n",
      "COMET INFO:   Uploads:\n",
      "COMET INFO:     confusion-matrix         : 22\n",
      "COMET INFO:     environment details      : 1\n",
      "COMET INFO:     filename                 : 1\n",
      "COMET INFO:     git metadata             : 1\n",
      "COMET INFO:     git-patch (uncompressed) : 1 (846 KB)\n",
      "COMET INFO:     installed packages       : 1\n",
      "COMET INFO:     model graph              : 1\n",
      "COMET INFO:     notebook                 : 1\n",
      "COMET INFO:     os packages              : 1\n",
      "COMET INFO:     source_code              : 1\n",
      "COMET INFO: ---------------------------\n",
      "COMET INFO: Uploading metrics, params, and assets to Comet before program termination (may take several seconds)\n",
      "COMET INFO: The Python SDK has 3600 seconds to finish before aborting...\n",
      "COMET INFO: Waiting for completion of the file uploads (may take several seconds)\n",
      "COMET INFO: The Python SDK has 10800 seconds to finish before aborting...\n",
      "COMET INFO: Still uploading 4 file(s)\n",
      "COMET INFO: Still uploading 2 file(s)\n",
      "COMET INFO: Still uploading 2 file(s)\n",
      "COMET INFO: Still uploading 2 file(s)\n",
      "COMET INFO: Still uploading 1 file(s)\n",
      "COMET INFO: Still uploading 1 file(s)\n",
      "COMET INFO: Still uploading 1 file(s)\n",
      "COMET INFO: Still uploading 1 file(s)\n"
     ]
    }
   ],
   "source": [
    "trainer.fit(model, train_loader, val_dataloaders=test_loader)"
   ]
  },
  {
   "cell_type": "code",
   "execution_count": 35,
   "metadata": {
    "tags": []
   },
   "outputs": [],
   "source": [
    "%reset_selective -f \"^train_loader$\"\n",
    "%reset_selective -f \"^train_dataset$\""
   ]
  },
  {
   "cell_type": "code",
   "execution_count": 36,
   "metadata": {},
   "outputs": [],
   "source": [
    "%reset_selective -f \"^test_loader$\"\n",
    "%reset_selective -f \"^test_dataset$\""
   ]
  },
  {
   "cell_type": "markdown",
   "metadata": {},
   "source": [
    "## Test"
   ]
  },
  {
   "cell_type": "markdown",
   "metadata": {
    "tags": []
   },
   "source": [
    "### Test data"
   ]
  },
  {
   "cell_type": "markdown",
   "metadata": {
    "tags": []
   },
   "source": [
    "Test data is from a different set of subjects and have a different distribution."
   ]
  },
  {
   "cell_type": "code",
   "execution_count": 37,
   "metadata": {
    "tags": []
   },
   "outputs": [],
   "source": [
    "from beetl.task_datasets import BeetlSleepLeaderboard\n",
    "X_sleep_target, y_sleep_target, _, _ = BeetlSleepLeaderboard().get_data(subjects=range(0, 6))"
   ]
  },
  {
   "cell_type": "code",
   "execution_count": 38,
   "metadata": {
    "tags": []
   },
   "outputs": [
    {
     "name": "stdout",
     "output_type": "stream",
     "text": [
      "(15442, 1, 3000)\n"
     ]
    },
    {
     "data": {
      "image/png": "[encoded data removed]",
      "text/plain": [
       "<Figure size 432x288 with 1 Axes>"
      ]
     },
     "metadata": {
      "needs_background": "light"
     },
     "output_type": "display_data"
    }
   ],
   "source": [
    "X_sleep_target = np.delete(X_sleep_target, 1, 1)\n",
    "print(X_sleep_target.shape)\n",
    "(unique, counts) = np.unique(y_sleep_target, return_counts=True)\n",
    "plt.bar(unique, counts)\n",
    "plt.show()"
   ]
  },
  {
   "cell_type": "code",
   "execution_count": 51,
   "metadata": {
    "id": "ynecnk8ab1my"
   },
   "outputs": [],
   "source": [
    "transfer_dataset = EEG1ChData(X_sleep_target, y_sleep_target, mode='test')\n",
    "transfer_loader = torch.utils.data.DataLoader(dataset=transfer_dataset, batch_size=hyper_params['batch_size'], pin_memory=True, num_workers=2)"
   ]
  },
  {
   "cell_type": "markdown",
   "metadata": {},
   "source": [
    "### Evaluate"
   ]
  },
  {
   "cell_type": "code",
   "execution_count": 40,
   "metadata": {
    "tags": []
   },
   "outputs": [
    {
     "name": "stderr",
     "output_type": "stream",
     "text": [
      "LOCAL_RANK: 0 - CUDA_VISIBLE_DEVICES: [0]\n",
      "COMET WARNING: As you are running in a Jupyter environment, you will need to call `experiment.end()` when finished to ensure all metrics and code are logged before exiting.\n",
      "COMET INFO: Experiment is live on comet.ml https://www.comet.ml/peara/sleep-eeg/a276306868f74d2e8c710378cad3569b\n",
      "\n",
      "/home/peara/.local/lib/python3.8/site-packages/pytorch_lightning/trainer/data_loading.py:102: UserWarning: The dataloader, test dataloader 0, does not have many workers which may be a bottleneck. Consider increasing the value of the `num_workers` argument` (try 16 which is the number of cpus on this machine) in the `DataLoader` init to improve performance.\n",
      "  rank_zero_warn(\n"
     ]
    },
    {
     "data": {
      "application/vnd.jupyter.widget-view+json": {
       "model_id": "e4f7b57de86242d59d39a70110e940e6",
       "version_major": 2,
       "version_minor": 0
      },
      "text/plain": [
       "Testing: 0it [00:00, ?it/s]"
      ]
     },
     "metadata": {},
     "output_type": "display_data"
    },
    {
     "name": "stdout",
     "output_type": "stream",
     "text": [
      "--------------------------------------------------------------------------------\n",
      "DATALOADER:0 TEST RESULTS\n",
      "{'test_acc': 0.7423436641693115, 'test_loss': 0.6673266887664795}\n",
      "--------------------------------------------------------------------------------\n"
     ]
    },
    {
     "data": {
      "text/plain": [
       "[{'test_loss': 0.6673266887664795, 'test_acc': 0.7423436641693115}]"
      ]
     },
     "execution_count": 40,
     "metadata": {},
     "output_type": "execute_result"
    }
   ],
   "source": [
    "trainer.test(model, transfer_loader)"
   ]
  },
  {
   "cell_type": "code",
   "execution_count": 41,
   "metadata": {
    "tags": []
   },
   "outputs": [
    {
     "name": "stderr",
     "output_type": "stream",
     "text": [
      "COMET INFO: -----------------------------------\n",
      "COMET INFO: Comet.ml ExistingExperiment Summary\n",
      "COMET INFO: -----------------------------------\n",
      "COMET INFO:   Data:\n",
      "COMET INFO:     display_summary_level : 1\n",
      "COMET INFO:     url                   : https://www.comet.ml/peara/sleep-eeg/a276306868f74d2e8c710378cad3569b\n",
      "COMET INFO:   Metrics:\n",
      "COMET INFO:     test_acc  : 0.7423436641693115\n",
      "COMET INFO:     test_loss : 0.6673266887664795\n",
      "COMET INFO:   Others:\n",
      "COMET INFO:     Name : WvNet f 1 channel + 5 * (2**i), len 64 + 3 layer + 16 features + lstm + dw_conv + random cut + weighted loss\n",
      "COMET INFO:   Uploads:\n",
      "COMET INFO:     model graph : 1\n",
      "COMET INFO: -----------------------------------\n",
      "COMET INFO: Uploading 1 metrics, params and output messages\n"
     ]
    }
   ],
   "source": [
    "trainer.logger.experiment.end()"
   ]
  },
  {
   "cell_type": "code",
   "execution_count": 42,
   "metadata": {},
   "outputs": [],
   "source": [
    "%reset_selective -f \"^transfer_loader$\"\n",
    "%reset_selective -f \"^transfer_dataset$\""
   ]
  },
  {
   "cell_type": "markdown",
   "metadata": {},
   "source": [
    "# TODO"
   ]
  },
  {
   "cell_type": "code",
   "execution_count": null,
   "metadata": {},
   "outputs": [],
   "source": [
    "f = model.conv_fs[0].conv.weight[2][0].cpu().detach().numpy()\n",
    "f"
   ]
  },
  {
   "cell_type": "code",
   "execution_count": null,
   "metadata": {},
   "outputs": [],
   "source": [
    "from scipy import signal\n",
    "t, y = signal.impulse(([1.0], f))\n",
    "import matplotlib.pyplot as plt\n",
    "plt.plot(t, y)"
   ]
  },
  {
   "cell_type": "code",
   "execution_count": null,
   "metadata": {},
   "outputs": [],
   "source": [
    "plt.plot(f)"
   ]
  },
  {
   "cell_type": "code",
   "execution_count": null,
   "metadata": {},
   "outputs": [],
   "source": [
    "trainer.save_checkpoint(\"../models/wvnet.ckpt\")"
   ]
  },
  {
   "cell_type": "markdown",
   "metadata": {
    "id": "EsNlUvv9ck56"
   },
   "source": [
    "# Submission"
   ]
  },
  {
   "cell_type": "code",
   "execution_count": 43,
   "metadata": {},
   "outputs": [],
   "source": [
    "from beetl.task_datasets import BeetlSleepLeaderboard\n",
    "_, _, X_sleep_test, _ = BeetlSleepLeaderboard().get_data(subjects=range(6, 18))"
   ]
  },
  {
   "cell_type": "code",
   "execution_count": 52,
   "metadata": {},
   "outputs": [],
   "source": [
    "X_sleep_test = np.delete(X_sleep_test, 1, 1)\n",
    "submission_dataset = EEG1ChData(X_sleep_test, None, mode='test')\n",
    "submission_loader = torch.utils.data.DataLoader(dataset=submission_dataset, batch_size=128)"
   ]
  },
  {
   "cell_type": "code",
   "execution_count": 46,
   "metadata": {},
   "outputs": [
    {
     "name": "stderr",
     "output_type": "stream",
     "text": [
      "GPU available: True, used: True\n",
      "TPU available: False, using: 0 TPU cores\n"
     ]
    }
   ],
   "source": [
    "trainer = pl.Trainer(gpus=1, deterministic=True)"
   ]
  },
  {
   "cell_type": "code",
   "execution_count": 47,
   "metadata": {},
   "outputs": [],
   "source": [
    "model = WvNet.load_from_checkpoint(CHECKPOINT_PATH, learning_rate=0.01, drop_conv=0, drop_fc=0)"
   ]
  },
  {
   "cell_type": "code",
   "execution_count": 53,
   "metadata": {},
   "outputs": [
    {
     "name": "stderr",
     "output_type": "stream",
     "text": [
      "LOCAL_RANK: 0 - CUDA_VISIBLE_DEVICES: [0]\n",
      "/home/peara/.local/lib/python3.8/site-packages/pytorch_lightning/trainer/data_loading.py:102: UserWarning: The dataloader, predict dataloader 0, does not have many workers which may be a bottleneck. Consider increasing the value of the `num_workers` argument` (try 16 which is the number of cpus on this machine) in the `DataLoader` init to improve performance.\n",
      "  rank_zero_warn(\n"
     ]
    },
    {
     "data": {
      "application/vnd.jupyter.widget-view+json": {
       "model_id": "51bb26b98dfd43329fb0b9834207a7f9",
       "version_major": 2,
       "version_minor": 0
      },
      "text/plain": [
       "Predicting: 0it [00:00, ?it/s]"
      ]
     },
     "metadata": {},
     "output_type": "display_data"
    }
   ],
   "source": [
    "predicts = trainer.predict(model, submission_loader)"
   ]
  },
  {
   "cell_type": "code",
   "execution_count": 54,
   "metadata": {},
   "outputs": [],
   "source": [
    "predicted_labels = []\n",
    "for predicts in predicts:\n",
    "    predicted_labels.extend(np.argmax(predicts.cpu().detach().numpy(), axis=1))"
   ]
  },
  {
   "cell_type": "code",
   "execution_count": 55,
   "metadata": {},
   "outputs": [
    {
     "name": "stdout",
     "output_type": "stream",
     "text": [
      "[5, 5, 2, 2, 1, 2, 0, 1, 2, 2, 2, 2, 5, 1, 0, 5, 2, 2, 2, 0]\n"
     ]
    }
   ],
   "source": [
    "print(predicted_labels[:20])\n",
    "np.savetxt(\"answer.txt\",predicted_labels,delimiter=',',fmt=\"%d\")"
   ]
  },
  {
   "cell_type": "code",
   "execution_count": 56,
   "metadata": {},
   "outputs": [
    {
     "name": "stdout",
     "output_type": "stream",
     "text": [
      "25748\n"
     ]
    }
   ],
   "source": [
    "print(len(predicted_labels))"
   ]
  },
  {
   "cell_type": "code",
   "execution_count": 57,
   "metadata": {},
   "outputs": [
    {
     "data": {
      "image/png": "[encoded data removed]",
      "text/plain": [
       "<Figure size 432x288 with 1 Axes>"
      ]
     },
     "metadata": {
      "needs_background": "light"
     },
     "output_type": "display_data"
    }
   ],
   "source": [
    "plot_label_distribution(predicted_labels)"
   ]
  },
  {
   "cell_type": "code",
   "execution_count": null,
   "metadata": {},
   "outputs": [],
   "source": []
  }
 ],
 "metadata": {
  "accelerator": "GPU",
  "colab": {
   "collapsed_sections": [],
   "name": "Copy of NIP.ipynb",
   "provenance": []
  },
  "kernelspec": {
   "display_name": "Python 3",
   "language": "python",
   "name": "python3"
  },
  "language_info": {
   "codemirror_mode": {
    "name": "ipython",
    "version": 3
   },
   "file_extension": ".py",
   "mimetype": "text/x-python",
   "name": "python",
   "nbconvert_exporter": "python",
   "pygments_lexer": "ipython3",
   "version": "3.8.10"
  }
 },
 "nbformat": 4,
 "nbformat_minor": 4
}
