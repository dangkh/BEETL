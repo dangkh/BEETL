{
 "cells": [
  {
   "cell_type": "markdown",
   "metadata": {},
   "source": [
    "# Import"
   ]
  },
  {
   "cell_type": "code",
   "execution_count": 1,
   "metadata": {},
   "outputs": [],
   "source": [
    "import comet_ml"
   ]
  },
  {
   "cell_type": "code",
   "execution_count": 2,
   "metadata": {
    "id": "Uqb92Uw_CGL1"
   },
   "outputs": [],
   "source": [
    "import numpy as np\n",
    "import matplotlib.pyplot as plt\n",
    "import torch\n",
    "import torch.nn.functional as F"
   ]
  },
  {
   "cell_type": "code",
   "execution_count": 3,
   "metadata": {
    "id": "pVqcC5ixXU_0"
   },
   "outputs": [],
   "source": [
    "from scipy.spatial import distance as dist\n",
    "import matplotlib.pyplot as plt"
   ]
  },
  {
   "cell_type": "code",
   "execution_count": 4,
   "metadata": {
    "id": "ifVFfEXSCWfQ"
   },
   "outputs": [],
   "source": [
    "import math\n",
    "import os.path as osp\n",
    "import pickle"
   ]
  },
  {
   "cell_type": "code",
   "execution_count": 5,
   "metadata": {},
   "outputs": [],
   "source": [
    "import pytorch_lightning as pl"
   ]
  },
  {
   "cell_type": "code",
   "execution_count": 6,
   "metadata": {},
   "outputs": [],
   "source": [
    "# from beetl.task_datasets import BeetlSleepTutorial, BeetlSleepSource, BeetlSleepLeaderboard, BeetlMILeaderboard\n",
    "# ds = BeetlSleepSource()\n",
    "# path = ds.download()\n",
    "# print(path)\n",
    "# X, y, info = ds.get_data()"
   ]
  },
  {
   "cell_type": "code",
   "execution_count": 7,
   "metadata": {},
   "outputs": [],
   "source": [
    "# BeetlSleepLeaderboard().download()"
   ]
  },
  {
   "cell_type": "markdown",
   "metadata": {},
   "source": [
    "# Settings and utils"
   ]
  },
  {
   "cell_type": "code",
   "execution_count": 8,
   "metadata": {
    "id": "FL3ZuKQosAOa"
   },
   "outputs": [
    {
     "name": "stderr",
     "output_type": "stream",
     "text": [
      "Global seed set to 997\n"
     ]
    },
    {
     "data": {
      "text/plain": [
       "997"
      ]
     },
     "execution_count": 8,
     "metadata": {},
     "output_type": "execute_result"
    }
   ],
   "source": [
    "SEED=997\n",
    "torch.manual_seed(SEED)\n",
    "torch.cuda.manual_seed(SEED)\n",
    "np.random.seed(SEED)\n",
    "torch.backends.cudnn.deterministic = True\n",
    "pl.seed_everything(SEED)"
   ]
  },
  {
   "cell_type": "code",
   "execution_count": 9,
   "metadata": {},
   "outputs": [],
   "source": [
    "hyper_params = {\n",
    "    'max_epochs': 30,\n",
    "    'learning_rate': 0.003,\n",
    "    'weight_decay': 0.01,\n",
    "    'scheduler_patience': 10,\n",
    "    'batch_size': 256,\n",
    "    'dropout_conv': 0.1,\n",
    "    'dropout_fc': 0.1,\n",
    "    'early_stop_patience': 20,\n",
    "    'weight_beta': 0.999,\n",
    "    'focal_loss_gamma': 0.5\n",
    "}"
   ]
  },
  {
   "cell_type": "code",
   "execution_count": 10,
   "metadata": {},
   "outputs": [],
   "source": [
    "def plot_label_distribution(y):\n",
    "    (unique, counts) = np.unique(np.asarray(y), return_counts=True)\n",
    "    frequencies = np.asarray((unique, counts)).T\n",
    "    plt.bar(unique, counts)\n",
    "    plt.show()"
   ]
  },
  {
   "cell_type": "code",
   "execution_count": 11,
   "metadata": {
    "tags": []
   },
   "outputs": [],
   "source": [
    "# for i in range(39):\n",
    "#     _, y, _ = dataset.get_data(subjects=[i])\n",
    "#     plot_label_distribution(y)"
   ]
  },
  {
   "cell_type": "code",
   "execution_count": 12,
   "metadata": {
    "colab": {
     "base_uri": "https://localhost:8080/"
    },
    "id": "P6_OyPmAM0np",
    "outputId": "64e272a9-9544-46a6-fc67-fa3634cae7eb",
    "tags": []
   },
   "outputs": [
    {
     "name": "stdout",
     "output_type": "stream",
     "text": [
      "cuda\n"
     ]
    }
   ],
   "source": [
    "import torch\n",
    "device = torch.device(\"cuda\" if torch.cuda.is_available() else \"cpu\")\n",
    "print(device)"
   ]
  },
  {
   "cell_type": "markdown",
   "metadata": {},
   "source": [
    "# Load train, validation data"
   ]
  },
  {
   "cell_type": "markdown",
   "metadata": {},
   "source": [
    "## Train data and validation data"
   ]
  },
  {
   "cell_type": "markdown",
   "metadata": {},
   "source": [
    "Train data and validation data are from the same set of data and are assumed to be from one distribution."
   ]
  },
  {
   "cell_type": "code",
   "execution_count": 13,
   "metadata": {},
   "outputs": [],
   "source": [
    "from beetl.task_datasets import BeetlSleepSource\n",
    "dataset = BeetlSleepSource()\n",
    "from sklearn.model_selection import train_test_split\n",
    "\n",
    "# X_train, y_train, info = dataset.get_data(subjects=range(0, 35))\n",
    "# X_test, y_test, _ = dataset.get_data(subjects=range(35, 39))\n",
    "\n",
    "X, y, _ = dataset.get_data()\n",
    "X_train, X_test, y_train, y_test = train_test_split(X, y, test_size=0.2, random_state=SEED)"
   ]
  },
  {
   "cell_type": "code",
   "execution_count": 14,
   "metadata": {
    "colab": {
     "base_uri": "https://localhost:8080/",
     "height": 408
    },
    "id": "IiNTVOfJK5lo",
    "outputId": "3f595d60-c308-4cfe-988a-5dbf8edbdb7f"
   },
   "outputs": [
    {
     "name": "stdout",
     "output_type": "stream",
     "text": [
      "(72436, 2, 3000)\n",
      "[[    0 19257]\n",
      " [    1  6470]\n",
      " [    2 28763]\n",
      " [    3  4213]\n",
      " [    4  2400]\n",
      " [    5 11333]]\n"
     ]
    },
    {
     "data": {
      "image/png": "[encoded data removed]",
      "text/plain": [
       "<Figure size 432x288 with 1 Axes>"
      ]
     },
     "metadata": {
      "needs_background": "light"
     },
     "output_type": "display_data"
    }
   ],
   "source": [
    "print(X_train.shape)\n",
    "(unique, counts) = np.unique(np.asarray(y_train), return_counts=True)\n",
    "frequencies = np.asarray((unique, counts)).T\n",
    "print(frequencies)\n",
    "plt.bar(unique, counts)\n",
    "plt.show()"
   ]
  },
  {
   "cell_type": "code",
   "execution_count": 21,
   "metadata": {},
   "outputs": [
    {
     "name": "stderr",
     "output_type": "stream",
     "text": [
      "<ipython-input-21-5b785a1f6305>:3: UserWarning: Implicit dimension choice for softmax has been deprecated. Change the call to include dim=X as an argument.\n",
      "  F.softmax(torch.tensor(loss_weight))\n"
     ]
    },
    {
     "data": {
      "text/plain": [
       "tensor([0.1650, 0.1671, 0.1643, 0.1681, 0.1695, 0.1660], dtype=torch.float64)"
      ]
     },
     "execution_count": 21,
     "metadata": {},
     "output_type": "execute_result"
    }
   ],
   "source": [
    "loss_weight = np.power(hyper_params['weight_beta'], np.log(frequencies[:,1]))\n",
    "loss_weight = (1 - hyper_params['weight_beta']) / (1 - loss_weight)\n",
    "F.softmax(torch.tensor(loss_weight))"
   ]
  },
  {
   "cell_type": "code",
   "execution_count": 22,
   "metadata": {},
   "outputs": [
    {
     "name": "stdout",
     "output_type": "stream",
     "text": [
      "(18109, 2, 3000)\n",
      "[[   0 4786]\n",
      " [   1 1471]\n",
      " [   2 7220]\n",
      " [   3 1034]\n",
      " [   4  657]\n",
      " [   5 2941]]\n"
     ]
    },
    {
     "data": {
      "image/png": "[encoded data removed]",
      "text/plain": [
       "<Figure size 432x288 with 1 Axes>"
      ]
     },
     "metadata": {
      "needs_background": "light"
     },
     "output_type": "display_data"
    }
   ],
   "source": [
    "print(X_test.shape)\n",
    "(unique, counts) = np.unique(np.asarray(y_test), return_counts=True)\n",
    "frequencies = np.asarray((unique, counts)).T\n",
    "print(frequencies)\n",
    "plt.bar(unique, counts)\n",
    "plt.show()"
   ]
  },
  {
   "cell_type": "code",
   "execution_count": 23,
   "metadata": {},
   "outputs": [],
   "source": [
    "X_train = np.delete(X_train, 1, 1)\n",
    "X_test = np.delete(X_test, 1, 1)"
   ]
  },
  {
   "cell_type": "markdown",
   "metadata": {},
   "source": [
    "From the above 2 histograms, we can see that they have similar labels' distribution."
   ]
  },
  {
   "cell_type": "code",
   "execution_count": 24,
   "metadata": {},
   "outputs": [],
   "source": [
    "%reset_selective -f \"^X$\"\n",
    "%reset_selective -f \"^y$\""
   ]
  },
  {
   "cell_type": "markdown",
   "metadata": {
    "id": "KS6FzukMNyby"
   },
   "source": [
    "# Dataloaders"
   ]
  },
  {
   "cell_type": "code",
   "execution_count": 25,
   "metadata": {
    "id": "KPNrgRkZN2cE"
   },
   "outputs": [],
   "source": [
    "from torch.utils.data import DataLoader, Dataset\n",
    "\n",
    "class EEG1ChData(Dataset):\n",
    "    def __init__(self, train_data, train_label, mode='train'):\n",
    "        mean = np.mean(train_data, axis=2, keepdims=True)\n",
    "        std = np.std(train_data, axis=2, keepdims=True)\n",
    "        self.X = (train_data - mean) / std\n",
    "        self.y = train_label\n",
    "        self.mode = mode\n",
    "    \n",
    "    def __len__(self):\n",
    "        return len(self.X)\n",
    "\n",
    "    def __getitem__(self, idx):\n",
    "        if self.mode == 'train':\n",
    "#             shape = self.X[0].shape\n",
    "#             noise = np.random.normal(0, 0.05, 6000).reshape(shape)\n",
    "#             X = self.X[idx] + noise\n",
    "            # randomly zero out 10 segments of length 50 to 100\n",
    "            X = self.X[idx]\n",
    "            zeroSegCount = np.random.randint(10)\n",
    "            for i in range(zeroSegCount):\n",
    "                s = np.random.randint(3000)\n",
    "                l = np.random.randint(50, 100)\n",
    "                for j in range(s, min(s + l, 3000)):\n",
    "                    X[0][j] = 0\n",
    "        else:\n",
    "            X = self.X[idx]\n",
    "        if self.y is not None:\n",
    "            return torch.tensor(X, dtype=torch.float32), torch.tensor(self.y[idx], dtype=torch.long)\n",
    "        else:\n",
    "            return torch.tensor(X, dtype=torch.float32)"
   ]
  },
  {
   "cell_type": "code",
   "execution_count": 26,
   "metadata": {
    "colab": {
     "base_uri": "https://localhost:8080/"
    },
    "id": "w_a9V9kTN8fk",
    "outputId": "3b54c2b5-1b7c-4587-acb5-3625cc02c7f4"
   },
   "outputs": [
    {
     "name": "stdout",
     "output_type": "stream",
     "text": [
      "(72436, 1, 3000)\n"
     ]
    }
   ],
   "source": [
    "train_dataset = EEG1ChData(X_train, y_train)\n",
    "test_dataset = EEG1ChData(X_test, y_test, mode='test')\n",
    "print(train_dataset.X.shape) # should be length, 1, 3000"
   ]
  },
  {
   "cell_type": "code",
   "execution_count": 27,
   "metadata": {},
   "outputs": [
    {
     "data": {
      "text/plain": [
       "torch.Size([1, 3000])"
      ]
     },
     "execution_count": 27,
     "metadata": {},
     "output_type": "execute_result"
    }
   ],
   "source": [
    "train_dataset[5][0].shape"
   ]
  },
  {
   "cell_type": "code",
   "execution_count": 28,
   "metadata": {},
   "outputs": [
    {
     "data": {
      "text/plain": [
       "(array([ 12.,  29., 149., 660., 844., 872., 349.,  58.,  15.,  12.]),\n",
       " array([-3.83410592, -3.02822537, -2.22234482, -1.41646427, -0.61058373,\n",
       "         0.19529682,  1.00117737,  1.80705792,  2.61293846,  3.41881901,\n",
       "         4.22469956]),\n",
       " <BarContainer object of 10 artists>)"
      ]
     },
     "execution_count": 28,
     "metadata": {},
     "output_type": "execute_result"
    },
    {
     "data": {
      "image/png": "[encoded data removed]",
      "text/plain": [
       "<Figure size 432x288 with 1 Axes>"
      ]
     },
     "metadata": {
      "needs_background": "light"
     },
     "output_type": "display_data"
    }
   ],
   "source": [
    "plt.hist(train_dataset.X[1][0])"
   ]
  },
  {
   "cell_type": "code",
   "execution_count": 29,
   "metadata": {},
   "outputs": [],
   "source": [
    "from pytorch_metric_learning import samplers"
   ]
  },
  {
   "cell_type": "code",
   "execution_count": 30,
   "metadata": {
    "colab": {
     "base_uri": "https://localhost:8080/"
    },
    "id": "w_a9V9kTN8fk",
    "outputId": "3b54c2b5-1b7c-4587-acb5-3625cc02c7f4"
   },
   "outputs": [],
   "source": [
    "train_loader = torch.utils.data.DataLoader(\n",
    "    dataset=train_dataset, \n",
    "#     sampler=samplers.MPerClassSampler(labels=y_train, m=hyper_params['batch_size'] // 6, \n",
    "#                                       length_before_new_iter=hyper_params['batch_size'] * 300), \n",
    "    shuffle=True,\n",
    "    batch_size=hyper_params['batch_size'],\n",
    "    pin_memory=True,\n",
    "    num_workers=2)\n",
    "test_loader = torch.utils.data.DataLoader(dataset=test_dataset, batch_size=hyper_params['batch_size'], pin_memory=True, num_workers=2)"
   ]
  },
  {
   "cell_type": "markdown",
   "metadata": {
    "id": "NkLPGnDuM1Oo",
    "tags": []
   },
   "source": [
    "# Models"
   ]
  },
  {
   "cell_type": "markdown",
   "metadata": {},
   "source": [
    "## Base Lightning Module"
   ]
  },
  {
   "cell_type": "code",
   "execution_count": 31,
   "metadata": {},
   "outputs": [
    {
     "name": "stdout",
     "output_type": "stream",
     "text": [
      "tensor([[0.0747, 0.2882, 0.5392, 0.3127, 0.2455, 0.1103],\n",
      "        [0.8110, 0.5877, 0.0624, 0.7149, 0.3104, 0.8231],\n",
      "        [0.0686, 0.4077, 0.6127, 0.6217, 0.1348, 0.1563],\n",
      "        [0.9555, 0.6481, 0.4111, 0.9253, 0.2371, 0.2452],\n",
      "        [0.2638, 0.5543, 0.8594, 0.1961, 0.2762, 0.6481],\n",
      "        [0.6185, 0.0347, 0.1772, 0.4042, 0.6346, 0.5579],\n",
      "        [0.7454, 0.0714, 0.0561, 0.3658, 0.8029, 0.2948],\n",
      "        [0.5371, 0.8465, 0.9836, 0.2476, 0.1238, 0.5574],\n",
      "        [0.9669, 0.9101, 0.6852, 0.8763, 0.2763, 0.6417],\n",
      "        [0.6919, 0.1738, 0.7690, 0.7668, 0.2196, 0.1276]])\n",
      "tensor([4, 1, 0, 5, 5, 1, 3, 4, 3, 0])\n",
      "[0.10181214 0.11440475 0.09785305 0.12025965 0.12891786 0.1075655 ]\n",
      "tensor(1.9068)\n",
      "tensor(1.9103)\n"
     ]
    }
   ],
   "source": [
    "y_hat = torch.rand((10, 6), dtype=torch.float)\n",
    "y = torch.randint(low=0, high=6, size=(10,))\n",
    "print(y_hat)\n",
    "print(y)\n",
    "print(loss_weight)\n",
    "print(F.cross_entropy(y_hat, y))\n",
    "print(F.cross_entropy(y_hat, y, torch.tensor(loss_weight, dtype=torch.float)))"
   ]
  },
  {
   "cell_type": "code",
   "execution_count": 32,
   "metadata": {
    "tags": []
   },
   "outputs": [],
   "source": [
    "import torch.nn as nn\n",
    "import torch.nn.functional as F\n",
    "import torch.optim as optim\n",
    "from torch.optim import lr_scheduler\n",
    "from pytorch_metric_learning import losses as loss_fn\n",
    "from collections import OrderedDict\n",
    "from sklearn.metrics import confusion_matrix\n",
    "\n",
    "    \n",
    "class BaseNet(pl.LightningModule):\n",
    "    def training_step(self, batch, batch_idx):\n",
    "        x, y = batch\n",
    "        y_hat = self(x)\n",
    "        loss = self.loss_fn(y_hat, y)\n",
    "        return {\n",
    "            'loss': loss,\n",
    "            'train_acc': torch.sum(torch.argmax(y_hat, axis=1) == y, dtype=torch.float32) / len(y)\n",
    "        }\n",
    "    \n",
    "    def training_epoch_end(self, outputs):\n",
    "        avg_loss = torch.stack([x['loss'] for x in outputs]).mean()\n",
    "        avg_acc = torch.stack([x['train_acc'] for x in outputs]).mean()\n",
    "        comet_logs = {'train_loss': avg_loss, 'train_acc': avg_acc}\n",
    "        self.log_dict(comet_logs)\n",
    "    \n",
    "    def validation_step(self, batch, batch_idx):\n",
    "        x, y = batch\n",
    "        y_hat = self(x)\n",
    "        preds = torch.argmax(y_hat, axis=1)\n",
    "        loss = self.loss_fn(y_hat, y)\n",
    "        return {\n",
    "            'val_loss': loss,\n",
    "            'val_acc': torch.sum(preds == y, dtype=torch.float32) / len(y),\n",
    "            'preds': torch.tensor(preds),\n",
    "            'y': torch.tensor(y)\n",
    "        }\n",
    "\n",
    "    def validation_epoch_end(self, outputs):\n",
    "        avg_loss = torch.stack([x['val_loss'] for x in outputs]).mean()\n",
    "        avg_acc = torch.stack([x['val_acc'] for x in outputs]).mean()\n",
    "        comet_logs = {'val_loss': avg_loss, 'val_acc': avg_acc}\n",
    "        \n",
    "        targets = []\n",
    "        predicted = []\n",
    "        for x in outputs:\n",
    "            targets.extend(x['y'])\n",
    "            predicted.extend(x['preds'])\n",
    "            \n",
    "        targets = F.one_hot(torch.tensor(targets))\n",
    "        predicted = F.one_hot(torch.tensor(predicted))\n",
    "        \n",
    "        experiment = self.logger.experiment\n",
    "        experiment.log_confusion_matrix(\n",
    "            targets,\n",
    "            predicted,\n",
    "            title=\"Confusion Matrix, Epoch #%d\" % (self.current_epoch + 1),\n",
    "            file_name=\"confusion-matrix-%03d.json\" % (self.current_epoch + 1),\n",
    "        )\n",
    "        self.log_dict(comet_logs)\n",
    "    \n",
    "    def test_step(self, batch, batch_idx):\n",
    "        x, y = batch\n",
    "        y_hat = self(x)\n",
    "        loss = self.loss_fn(y_hat, y)\n",
    "        return {\n",
    "            'test_loss': loss,\n",
    "            'test_acc': torch.sum(torch.argmax(y_hat, axis=1) == y, dtype=torch.float32) / len(y)\n",
    "        }\n",
    "    \n",
    "    def test_epoch_end(self, outputs):\n",
    "        avg_loss = torch.stack([x['test_loss'] for x in outputs]).mean()\n",
    "        avg_acc = torch.stack([x['test_acc'] for x in outputs]).mean()\n",
    "        comet_logs = {'test_loss': avg_loss, 'test_acc': avg_acc}\n",
    "        self.log_dict(comet_logs)\n",
    "    \n",
    "    def configure_optimizers(self):\n",
    "        optimizer = optim.AdamW(model.parameters(), lr=self.learning_rate, weight_decay=hyper_params['weight_decay'])\n",
    "        return {\n",
    "            'optimizer': optimizer,\n",
    "            'lr_scheduler': {\n",
    "                'scheduler': lr_scheduler.ReduceLROnPlateau(optimizer, mode='min', patience=hyper_params['scheduler_patience'], min_lr=1e-5),\n",
    "                'interval': 'epoch',\n",
    "                'frequency': 1,\n",
    "                'monitor': 'val_loss',\n",
    "            }\n",
    "        }"
   ]
  },
  {
   "cell_type": "markdown",
   "metadata": {},
   "source": [
    "## Models"
   ]
  },
  {
   "cell_type": "code",
   "execution_count": 33,
   "metadata": {
    "jupyter": {
     "source_hidden": true
    },
    "tags": []
   },
   "outputs": [],
   "source": [
    "class NetworkBlock(nn.Module):\n",
    "    def __init__(self, nb_layers, in_planes, out_planes, block, stride, drop_rate=0.0):\n",
    "        super(NetworkBlock, self).__init__()\n",
    "        self.layer = self._make_layer(block, in_planes, out_planes, nb_layers, stride, drop_rate)\n",
    "\n",
    "    def _make_layer(self, block, in_planes, out_planes, nb_layers, stride, drop_rate):\n",
    "        layers = []\n",
    "        for i in range(int(nb_layers)):\n",
    "            layers.append(block(i == 0 and in_planes or out_planes,\n",
    "                                out_planes,\n",
    "                                i == 0 and stride or 1, drop_rate))\n",
    "\n",
    "        return nn.Sequential(*layers)\n",
    "\n",
    "    def forward(self, x):\n",
    "        return self.layer(x)\n",
    "\n",
    "\n",
    "class BasicBlock(nn.Module):\n",
    "    def __init__(self, in_planes, out_planes, stride, drop_rate=0.0):\n",
    "        super(BasicBlock, self).__init__()\n",
    "        self.bn1 = nn.BatchNorm2d(in_planes)\n",
    "        self.relu1 = nn.ReLU(inplace=True)\n",
    "        self.conv1 = nn.Conv2d(in_planes, out_planes, kernel_size=3, stride=stride,\n",
    "                               padding=1, bias=False)\n",
    "\n",
    "        self.bn2 = nn.BatchNorm2d(out_planes)\n",
    "        self.relu2 = nn.ReLU(inplace=True)\n",
    "        self.conv2 = nn.Conv2d(out_planes, out_planes, kernel_size=3, stride=1,\n",
    "                               padding=1, bias=False)\n",
    "\n",
    "        self.drop_rate = drop_rate\n",
    "        self.equalInOut = (in_planes == out_planes)\n",
    "        self.convShortcut = (not self.equalInOut) and nn.Conv2d(in_planes, out_planes, kernel_size=1, stride=stride,\n",
    "                               padding=0, bias=False) or None\n",
    "\n",
    "    def forward(self, x):\n",
    "        if not self.equalInOut:\n",
    "            x = self.relu1(self.bn1(x))\n",
    "            out = self.relu2(self.bn2(self.conv1(x)))\n",
    "        else:\n",
    "            out = self.relu1(self.bn1(x))\n",
    "            out = self.relu2(self.bn2(self.conv1(out)))\n",
    "\n",
    "        if self.drop_rate > 0:\n",
    "            out = F.dropout(out, p=self.drop_rate, training=self.training)\n",
    "\n",
    "        out = self.conv2(out)\n",
    "        return torch.add(x if self.equalInOut else self.convShortcut(x), out)"
   ]
  },
  {
   "cell_type": "code",
   "execution_count": 34,
   "metadata": {},
   "outputs": [],
   "source": [
    "class FocalLoss(nn.modules.loss._WeightedLoss):\n",
    "    def __init__(self, weight=None, gamma=2,reduction='mean'):\n",
    "        super(FocalLoss, self).__init__(weight,reduction=reduction)\n",
    "        self.gamma = gamma\n",
    "        self.weight = weight #weight parameter will act as the alpha parameter to balance class weights\n",
    "\n",
    "    def forward(self, input, target):\n",
    "\n",
    "        ce_loss = F.cross_entropy(input, target,reduction=self.reduction,weight=self.weight)\n",
    "        pt = torch.exp(-ce_loss)\n",
    "        focal_loss = ((1 - pt) ** self.gamma * ce_loss).mean()\n",
    "        return focal_loss"
   ]
  },
  {
   "cell_type": "code",
   "execution_count": 35,
   "metadata": {
    "id": "GWbJZMGzMyiM",
    "jupyter": {
     "source_hidden": true
    },
    "tags": []
   },
   "outputs": [],
   "source": [
    "# import torch.nn as nn\n",
    "# import torch.nn.functional as F\n",
    "    \n",
    "# class LSTMNet(nn.Module):\n",
    "#     def __init__(self, n_classes):\n",
    "#         super(LSTMNet, self).__init__()\n",
    "#         self.drop1 = nn.Dropout(0.5)\n",
    "#         self.drop_ch = nn.Dropout2d(0.1)\n",
    "#         self.fc = nn.Linear(128, n_classes)\n",
    "#         self.n_classes = n_classes\n",
    "\n",
    "#         self.conv1 = nn.Conv2d(in_channels=1, out_channels=16, kernel_size=[10, 2], stride=1)\n",
    "#         self.bn1 = nn.BatchNorm1d(16)\n",
    "        \n",
    "#         self.conv2 = nn.Conv1d(in_channels=16, out_channels=32, kernel_size=10, stride=1)\n",
    "#         self.bn2 = nn.BatchNorm1d(32)\n",
    "        \n",
    "#         self.conv3 = nn.Conv1d(in_channels=32, out_channels=64, kernel_size=10, stride=1)\n",
    "#         self.bn3 = nn.BatchNorm1d(64)\n",
    "        \n",
    "#         self.pool = nn.MaxPool1d(4)\n",
    "\n",
    "#         self.lstm = nn.LSTM(input_size=64, hidden_size=128, batch_first=True)\n",
    "\n",
    "#         torch.nn.init.kaiming_normal_(self.conv1.weight)\n",
    "#         torch.nn.init.kaiming_normal_(self.conv2.weight)\n",
    "#         torch.nn.init.kaiming_normal_(self.conv3.weight)\n",
    "#         torch.nn.init.kaiming_normal_(self.fc.weight)\n",
    "\n",
    "#     def forward(self, x):\n",
    "#         output = self.bn1(self.pool(F.relu(self.conv1(x)).reshape(x.shape[0], self.conv1.out_channels, -1)))\n",
    "#         output = torch.squeeze(self.drop_ch(torch.unsqueeze(output, 3)))\n",
    "        \n",
    "#         output = self.bn2(self.pool(F.relu(self.conv2(output))))\n",
    "#         output = torch.squeeze(self.drop_ch(torch.unsqueeze(output, 3)))\n",
    "        \n",
    "#         output = self.bn3(self.pool(F.relu(self.conv3(output))))\n",
    "#         output = torch.squeeze(self.drop_ch(torch.unsqueeze(output, 3)))\n",
    "#         # output's shape is batch, 64, 37\n",
    "        \n",
    "#         outputs, _ = self.lstm(torch.transpose(output, 2, 1)) # batch, seq_len, hidden_size\n",
    "# #         _, (outputs, _) = self.lstm(torch.transpose(output, 2, 1)) # batch, seq_len, hidden_size\n",
    "#         output = torch.mean(outputs, 1) # batch, hidden_size\n",
    "# #         output = torch.squeeze(outputs)\n",
    "#         output = F.relu(self.fc(self.drop1(output)))\n",
    "#         return output\n"
   ]
  },
  {
   "cell_type": "code",
   "execution_count": 36,
   "metadata": {
    "tags": []
   },
   "outputs": [],
   "source": [
    "class WvNet(BaseNet):\n",
    "    def __init__(self, learning_rate, drop_conv, drop_fc):\n",
    "        super().__init__()\n",
    "        \n",
    "        self.loss_fn = FocalLoss(torch.tensor(loss_weight, dtype=torch.float), hyper_params['focal_loss_gamma'])\n",
    "        self.learning_rate = learning_rate\n",
    "        self.drop_fc = nn.Dropout(drop_fc)\n",
    "        self.drop_conv = nn.Dropout2d(drop_conv)\n",
    "        self.drop_sm = nn.Dropout(0.33)\n",
    "        self.n_classes = 6\n",
    "        self.conv_f_size = 32\n",
    "        \n",
    "        self.conv_fs = nn.ModuleList()\n",
    "        for i in range(16):\n",
    "            self.conv_fs.append(\n",
    "                    nn.Sequential(OrderedDict([\n",
    "                        ('conv', nn.Conv1d(in_channels=1, out_channels=self.conv_f_size, kernel_size=[5 * (i+1)], stride=1, bias=False)),\n",
    "                        ('act', nn.ReLU()),\n",
    "                        ('pool', nn.AdaptiveAvgPool1d((64))),\n",
    "                        ('bn', nn.BatchNorm1d(self.conv_f_size))\n",
    "                    ])\n",
    "                )\n",
    "            )\n",
    "\n",
    "        self.pool_conv_1 = nn.AvgPool2d((2, 2))\n",
    "        self.conv_gr1 = nn.Conv2d(in_channels=len(self.conv_fs), out_channels=16, kernel_size=[3, 7], stride=1, padding=(1, 3), groups=1)\n",
    "        self.bn_gr1 = nn.BatchNorm2d(self.conv_gr1.out_channels)\n",
    "        \n",
    "        self.conv_gr2 = nn.Conv2d(in_channels=self.conv_gr1.out_channels, out_channels=48, kernel_size=[3, 7], stride=1, padding=(1, 3), groups=1)\n",
    "        self.pool_conv_2 = nn.AvgPool2d((2, 1))\n",
    "        self.bn_gr2 = nn.BatchNorm2d(self.conv_gr2.out_channels)\n",
    "        \n",
    "        self.conv_gr3 = nn.Conv2d(in_channels=self.conv_gr2.out_channels, out_channels=128, kernel_size=[8, 8], stride=1, groups=2)\n",
    "        self.bn_gr3 = nn.BatchNorm2d(self.conv_gr3.out_channels)\n",
    "        \n",
    "        self.lstm = nn.LSTM(input_size=self.conv_gr3.out_channels, hidden_size=128, bidirectional=True, batch_first=True)\n",
    "#         self.fc2 = nn.Linear(48, self.n_classes)\n",
    "        \n",
    "#         self.fc = nn.Linear(128, self.n_classes)\n",
    "#         self.fc1 = nn.Linear(128, 48)\n",
    "#\n",
    "        # depthwise convolution acts as FC layer\n",
    "        self.dw_conv = nn.Conv1d(in_channels=256, out_channels=6, kernel_size=[1], stride=1)\n",
    "\n",
    "        \n",
    "        for conv_f in self.conv_fs:\n",
    "            torch.nn.init.kaiming_normal_(conv_f.conv.weight)\n",
    "        torch.nn.init.kaiming_normal_(self.conv_gr1.weight)\n",
    "        torch.nn.init.kaiming_normal_(self.conv_gr2.weight)\n",
    "        torch.nn.init.kaiming_normal_(self.conv_gr3.weight)\n",
    "        torch.nn.init.kaiming_normal_(self.dw_conv.weight)\n",
    "#         torch.nn.init.kaiming_normal_(self.fc1.weight)\n",
    "#         torch.nn.init.kaiming_normal_(self.fc2.weight)\n",
    "\n",
    "    def forward(self, x):\n",
    "        outputs = []\n",
    "        for i in range(len(self.conv_fs)):\n",
    "            output = self.conv_fs[i](x)\n",
    "            output = self.drop_conv(output)\n",
    "            output = torch.squeeze(output)\n",
    "            outputs.append(output)\n",
    "        \n",
    "        output = torch.stack((outputs), dim=1)\n",
    "        \n",
    "        output = self.bn_gr1(self.pool_conv_1(F.relu(self.conv_gr1(output))))\n",
    "        output = self.drop_conv(output)\n",
    "        \n",
    "        output = self.bn_gr2(self.pool_conv_2(F.relu(self.conv_gr2(output))))\n",
    "        output = self.drop_conv(output)\n",
    "        \n",
    "        output = self.bn_gr3(F.relu(self.conv_gr3(output)))\n",
    "        output = torch.squeeze(output)\n",
    "        \n",
    "#         _, (outputs, _) = self.lstm(torch.transpose(output, 2, 1)) # batch, seq_len, hidden_size\n",
    "#         output = outputs[1] # get hidden of backward pass\n",
    "\n",
    "        outputs, _ = self.lstm(torch.transpose(output, 2, 1)) # batch, seq_len, hidden_size\n",
    "        outputs = self.dw_conv(torch.transpose(outputs, 2, 1))\n",
    "        output = torch.mean(outputs, dim=2) # batch, 6\n",
    "\n",
    "#         output = F.relu(self.fc1(self.drop_fc(output)))\n",
    "#         output = self.fc2(self.drop_fc(output))\n",
    "        return output\n",
    "\n",
    "    def configure_optimizers(self):\n",
    "        optimizer = optim.AdamW(model.parameters(), lr=self.learning_rate, weight_decay=hyper_params['weight_decay'])\n",
    "        return {\n",
    "            'optimizer': optimizer,\n",
    "            'lr_scheduler': {\n",
    "                'scheduler': lr_scheduler.OneCycleLR(optimizer, max_lr=hyper_params['learning_rate'], steps_per_epoch=len(train_loader), epochs=hyper_params['max_epochs'], pct_start=0.3, div_factor=3),\n",
    "                'interval': 'step',\n",
    "                'frequency': 1\n",
    "            }\n",
    "        }"
   ]
  },
  {
   "cell_type": "code",
   "execution_count": 31,
   "metadata": {
    "jupyter": {
     "source_hidden": true
    },
    "tags": []
   },
   "outputs": [],
   "source": [
    "class WvConvNet(BaseNet):\n",
    "    def __init__(self, learning_rate, depth, widen_factor=1, drop_rate=0.5, flatten=True, stride=1):\n",
    "        super(WvConvNet, self).__init__()\n",
    "        self.drop_fc = nn.Dropout(0.1)\n",
    "        self.drop_conv = nn.Dropout2d(0.1)\n",
    "        self.n_classes = 6\n",
    "        self.learning_rate = learning_rate\n",
    "        self.conv_f_size = 32\n",
    "        \n",
    "        self.conv_fs = nn.ModuleList()\n",
    "        self.bn_fs = nn.ModuleList()\n",
    "        self.pool_fs = nn.ModuleList()\n",
    "        for i in range(16):\n",
    "            self.conv_fs.append(nn.Conv1d(in_channels=1, out_channels=self.conv_f_size, kernel_size=[5], stride=1, dilation=(2*(i+1))))\n",
    "            self.bn_fs.append(nn.BatchNorm1d(self.conv_f_size))\n",
    "            self.pool_fs.append(nn.AdaptiveAvgPool1d(32))\n",
    "\n",
    "        n_channels = [16, 16*widen_factor, 32*widen_factor, 64*widen_factor]\n",
    "\n",
    "        assert((depth - 4) % 6 == 0)\n",
    "        n = (depth - 4) / 6\n",
    "        block = BasicBlock\n",
    "        # 1st conv before any network block\n",
    "        #self.conv1 = nn.Conv2d(4, n_channels[0], kernel_size=3, stride=1,\n",
    "        #                       padding=1, bias=False)\n",
    "        # 1st block\n",
    "        self.block1 = NetworkBlock(n, n_channels[0], n_channels[1], block, stride, drop_rate)\n",
    "        # 2nd block\n",
    "        self.block2 = NetworkBlock(n, n_channels[1], n_channels[2], block, 2, drop_rate)\n",
    "        # 3rd block\n",
    "        self.block3 = NetworkBlock(n, n_channels[2], n_channels[3], block, 2, drop_rate)\n",
    "\n",
    "        # global average pooling and classifier\n",
    "        self.bn1 = nn.BatchNorm2d(n_channels[3])\n",
    "        self.relu = nn.ReLU(inplace=True)\n",
    "        self.nChannels = n_channels[3]\n",
    "\n",
    "        self.linear = nn.Linear(640, self.n_classes)\n",
    "\n",
    "        if flatten:\n",
    "            self.final_feat_dim = 640\n",
    "        for m in self.modules():\n",
    "            if isinstance(m, nn.Conv2d):\n",
    "                n = m.kernel_size[0] * m.kernel_size[1] * m.out_channels\n",
    "                m.weight.data.normal_(0, math.sqrt(2. / n))\n",
    "            elif isinstance(m, nn.BatchNorm2d):\n",
    "                m.weight.data.fill_(1)\n",
    "                m.bias.data.zero_()\n",
    "            elif isinstance(m, nn.Linear):\n",
    "                m.bias.data.zero_()\n",
    "    \n",
    "        for conv in self.conv_fs:\n",
    "            torch.nn.init.kaiming_normal_(conv.weight)\n",
    "\n",
    "    def forward(self, x):\n",
    "        outputs = []\n",
    "        for i in range(len(self.conv_fs)):\n",
    "            output = F.relu(self.conv_fs[i](x))\n",
    "            output = self.bn_fs[i](self.pool_fs[i](output))\n",
    "#             output = self.drop_conv(output)\n",
    "            output = torch.squeeze(output)\n",
    "            outputs.append(output)\n",
    "        \n",
    "        output = torch.stack((outputs), dim=1)\n",
    "#         output = self.drop_conv(output)\n",
    "        \n",
    "        # print(output.shape)\n",
    "\n",
    "        #out = self.conv1(output)\n",
    "        out = self.block1(output)\n",
    "        out = self.block2(out)\n",
    "        out = self.block3(out)\n",
    "        out = self.relu(self.bn1(out))\n",
    "        out = F.avg_pool2d(out, out.size()[2:])\n",
    "        out = out.view(x.size(0), -1)\n",
    "\n",
    "        logits = F.relu(self.linear(self.drop_fc(out)))\n",
    "\n",
    "        return logits\n",
    "    \n",
    "    def training_step(self, batch, batch_idx):\n",
    "        x, y = batch\n",
    "        y_hat = self(x)\n",
    "        loss = F.cross_entropy(y_hat, y)\n",
    "        return {\n",
    "            'loss': loss,\n",
    "            'train_acc': torch.sum(torch.argmax(y_hat, axis=1) == y, dtype=torch.float32) / len(y)\n",
    "        }\n",
    "    \n",
    "    def configure_optimizers(self):\n",
    "        optimizer = optim.AdamW(model.parameters(), lr=self.learning_rate, weight_decay=hyper_params['weight_decay'])\n",
    "        return {\n",
    "            'optimizer': optimizer,\n",
    "            'lr_scheduler': {\n",
    "                'scheduler': lr_scheduler.OneCycleLR(optimizer, max_lr=hyper_params['learning_rate'], steps_per_epoch=300, epochs=hyper_params['max_epochs'], pct_start=0.3, div_factor=3),\n",
    "                'interval': 'step',\n",
    "                'frequency': 1\n",
    "            }\n",
    "        }"
   ]
  },
  {
   "cell_type": "markdown",
   "metadata": {},
   "source": [
    "# Training"
   ]
  },
  {
   "cell_type": "markdown",
   "metadata": {},
   "source": [
    "## Create trainer"
   ]
  },
  {
   "cell_type": "code",
   "execution_count": 37,
   "metadata": {
    "tags": []
   },
   "outputs": [
    {
     "name": "stderr",
     "output_type": "stream",
     "text": [
      "CometLogger will be initialized in online mode\n",
      "/home/peara/.local/lib/python3.8/site-packages/pytorch_lightning/callbacks/model_checkpoint.py:360: UserWarning: Checkpoint directory ../models/ exists and is not empty.\n",
      "  rank_zero_warn(f\"Checkpoint directory {dirpath} exists and is not empty.\")\n",
      "GPU available: True, used: True\n",
      "TPU available: False, using: 0 TPU cores\n"
     ]
    }
   ],
   "source": [
    "from pytorch_lightning.loggers import CometLogger\n",
    "from pytorch_lightning.callbacks.early_stopping import EarlyStopping\n",
    "from pytorch_lightning.callbacks import LearningRateMonitor\n",
    "from pytorch_lightning.callbacks import ModelCheckpoint\n",
    "\n",
    "comet_config = {\n",
    "    'api_key': 'WRx11j64HCTDOp2MpXBExSTdI',\n",
    "    'project_name': 'sleep-eeg',\n",
    "    'workspace': 'peara',\n",
    "}\n",
    "\n",
    "# arguments made to CometLogger are passed on to the comet_ml.Experiment class\n",
    "comet_logger = CometLogger(\n",
    "    api_key=comet_config['api_key'],\n",
    "    workspace=comet_config['workspace'],\n",
    "    project_name=comet_config['project_name'],\n",
    "    experiment_name='WvNet 16 channel + 5 * i + 32 features'\n",
    ")\n",
    "\n",
    "early_stop_callback = EarlyStopping(\n",
    "    monitor='val_loss',\n",
    "    patience=hyper_params['early_stop_patience'],\n",
    "    min_delta=0.0005,\n",
    "    verbose=False,\n",
    "    mode='min'\n",
    ")\n",
    "\n",
    "checkpoint_callback = ModelCheckpoint(\n",
    "    monitor='val_loss',\n",
    "    dirpath='../models/',\n",
    "    filename='wvnet-1ch-{epoch}-{val_loss:.2f}',\n",
    "    save_top_k=3,\n",
    "    mode='min',\n",
    ")\n",
    "\n",
    "lr_monitor = LearningRateMonitor(logging_interval='step')\n",
    "trainer = pl.Trainer(gpus=1, max_epochs=hyper_params['max_epochs'], logger=comet_logger, deterministic=True, callbacks=[lr_monitor, checkpoint_callback], stochastic_weight_avg=True)"
   ]
  },
  {
   "cell_type": "code",
   "execution_count": 38,
   "metadata": {},
   "outputs": [
    {
     "name": "stderr",
     "output_type": "stream",
     "text": [
      "COMET WARNING: As you are running in a Jupyter environment, you will need to call `experiment.end()` when finished to ensure all metrics and code are logged before exiting.\n",
      "COMET INFO: Experiment is live on comet.ml https://www.comet.ml/peara/sleep-eeg/43682b9f14f54e1ea2fdf7ee3a14e278\n",
      "\n"
     ]
    }
   ],
   "source": [
    "trainer.logger.log_hyperparams(hyper_params)"
   ]
  },
  {
   "cell_type": "markdown",
   "metadata": {},
   "source": [
    "## Fit"
   ]
  },
  {
   "cell_type": "code",
   "execution_count": 39,
   "metadata": {
    "tags": []
   },
   "outputs": [],
   "source": [
    "model = WvNet(hyper_params['learning_rate'], hyper_params['dropout_conv'], hyper_params['dropout_fc'])"
   ]
  },
  {
   "cell_type": "code",
   "execution_count": 40,
   "metadata": {
    "tags": []
   },
   "outputs": [
    {
     "name": "stderr",
     "output_type": "stream",
     "text": [
      "LOCAL_RANK: 0 - CUDA_VISIBLE_DEVICES: [0]\n",
      "COMET WARNING: Empty mapping given to log_params({}); ignoring\n",
      "\n",
      "   | Name        | Type        | Params\n",
      "---------------------------------------------\n",
      "0  | loss_fn     | FocalLoss   | 0     \n",
      "1  | drop_fc     | Dropout     | 0     \n",
      "2  | drop_conv   | Dropout2d   | 0     \n",
      "3  | drop_sm     | Dropout     | 0     \n",
      "4  | conv_fs     | ModuleList  | 22.8 K\n",
      "5  | pool_conv_1 | AvgPool2d   | 0     \n",
      "6  | conv_gr1    | Conv2d      | 5.4 K \n",
      "7  | bn_gr1      | BatchNorm2d | 32    \n",
      "8  | conv_gr2    | Conv2d      | 16.2 K\n",
      "9  | pool_conv_2 | AvgPool2d   | 0     \n",
      "10 | bn_gr2      | BatchNorm2d | 96    \n",
      "11 | conv_gr3    | Conv2d      | 196 K \n",
      "12 | bn_gr3      | BatchNorm2d | 256   \n",
      "13 | lstm        | LSTM        | 264 K \n",
      "14 | dw_conv     | Conv1d      | 1.5 K \n",
      "---------------------------------------------\n",
      "507 K     Trainable params\n",
      "0         Non-trainable params\n",
      "507 K     Total params\n",
      "2.029     Total estimated model params size (MB)\n"
     ]
    },
    {
     "data": {
      "application/vnd.jupyter.widget-view+json": {
       "model_id": "",
       "version_major": 2,
       "version_minor": 0
      },
      "text/plain": [
       "Validation sanity check: 0it [00:00, ?it/s]"
      ]
     },
     "metadata": {},
     "output_type": "display_data"
    },
    {
     "name": "stderr",
     "output_type": "stream",
     "text": [
      "/home/peara/.local/lib/python3.8/site-packages/pytorch_lightning/trainer/data_loading.py:102: UserWarning: The dataloader, val dataloader 0, does not have many workers which may be a bottleneck. Consider increasing the value of the `num_workers` argument` (try 16 which is the number of cpus on this machine) in the `DataLoader` init to improve performance.\n",
      "  rank_zero_warn(\n",
      "<ipython-input-32-f25f14810599>:34: UserWarning: To copy construct from a tensor, it is recommended to use sourceTensor.clone().detach() or sourceTensor.clone().detach().requires_grad_(True), rather than torch.tensor(sourceTensor).\n",
      "  'preds': torch.tensor(preds),\n",
      "<ipython-input-32-f25f14810599>:35: UserWarning: To copy construct from a tensor, it is recommended to use sourceTensor.clone().detach() or sourceTensor.clone().detach().requires_grad_(True), rather than torch.tensor(sourceTensor).\n",
      "  'y': torch.tensor(y)\n",
      "Global seed set to 997\n",
      "/home/peara/.local/lib/python3.8/site-packages/pytorch_lightning/trainer/data_loading.py:102: UserWarning: The dataloader, train dataloader, does not have many workers which may be a bottleneck. Consider increasing the value of the `num_workers` argument` (try 16 which is the number of cpus on this machine) in the `DataLoader` init to improve performance.\n",
      "  rank_zero_warn(\n"
     ]
    },
    {
     "data": {
      "application/vnd.jupyter.widget-view+json": {
       "model_id": "b86515e3f04141c8b7611ea26f0ed358",
       "version_major": 2,
       "version_minor": 0
      },
      "text/plain": [
       "Training: 0it [00:00, ?it/s]"
      ]
     },
     "metadata": {},
     "output_type": "display_data"
    },
    {
     "name": "stderr",
     "output_type": "stream",
     "text": [
      "/home/peara/.local/lib/python3.8/site-packages/pytorch_lightning/trainer/callback_hook.py:100: LightningDeprecationWarning: The signature of `Callback.on_train_epoch_end` has changed in v1.3. `outputs` parameter has been removed. Support for the old signature will be removed in v1.5\n",
      "  warning_cache.deprecation(\n"
     ]
    },
    {
     "data": {
      "application/vnd.jupyter.widget-view+json": {
       "model_id": "",
       "version_major": 2,
       "version_minor": 0
      },
      "text/plain": [
       "Validating: 0it [00:00, ?it/s]"
      ]
     },
     "metadata": {},
     "output_type": "display_data"
    },
    {
     "data": {
      "application/vnd.jupyter.widget-view+json": {
       "model_id": "",
       "version_major": 2,
       "version_minor": 0
      },
      "text/plain": [
       "Validating: 0it [00:00, ?it/s]"
      ]
     },
     "metadata": {},
     "output_type": "display_data"
    },
    {
     "data": {
      "application/vnd.jupyter.widget-view+json": {
       "model_id": "",
       "version_major": 2,
       "version_minor": 0
      },
      "text/plain": [
       "Validating: 0it [00:00, ?it/s]"
      ]
     },
     "metadata": {},
     "output_type": "display_data"
    },
    {
     "data": {
      "application/vnd.jupyter.widget-view+json": {
       "model_id": "",
       "version_major": 2,
       "version_minor": 0
      },
      "text/plain": [
       "Validating: 0it [00:00, ?it/s]"
      ]
     },
     "metadata": {},
     "output_type": "display_data"
    },
    {
     "data": {
      "application/vnd.jupyter.widget-view+json": {
       "model_id": "",
       "version_major": 2,
       "version_minor": 0
      },
      "text/plain": [
       "Validating: 0it [00:00, ?it/s]"
      ]
     },
     "metadata": {},
     "output_type": "display_data"
    },
    {
     "data": {
      "application/vnd.jupyter.widget-view+json": {
       "model_id": "",
       "version_major": 2,
       "version_minor": 0
      },
      "text/plain": [
       "Validating: 0it [00:00, ?it/s]"
      ]
     },
     "metadata": {},
     "output_type": "display_data"
    },
    {
     "data": {
      "application/vnd.jupyter.widget-view+json": {
       "model_id": "",
       "version_major": 2,
       "version_minor": 0
      },
      "text/plain": [
       "Validating: 0it [00:00, ?it/s]"
      ]
     },
     "metadata": {},
     "output_type": "display_data"
    },
    {
     "data": {
      "application/vnd.jupyter.widget-view+json": {
       "model_id": "",
       "version_major": 2,
       "version_minor": 0
      },
      "text/plain": [
       "Validating: 0it [00:00, ?it/s]"
      ]
     },
     "metadata": {},
     "output_type": "display_data"
    },
    {
     "data": {
      "application/vnd.jupyter.widget-view+json": {
       "model_id": "",
       "version_major": 2,
       "version_minor": 0
      },
      "text/plain": [
       "Validating: 0it [00:00, ?it/s]"
      ]
     },
     "metadata": {},
     "output_type": "display_data"
    },
    {
     "data": {
      "application/vnd.jupyter.widget-view+json": {
       "model_id": "",
       "version_major": 2,
       "version_minor": 0
      },
      "text/plain": [
       "Validating: 0it [00:00, ?it/s]"
      ]
     },
     "metadata": {},
     "output_type": "display_data"
    },
    {
     "data": {
      "application/vnd.jupyter.widget-view+json": {
       "model_id": "",
       "version_major": 2,
       "version_minor": 0
      },
      "text/plain": [
       "Validating: 0it [00:00, ?it/s]"
      ]
     },
     "metadata": {},
     "output_type": "display_data"
    },
    {
     "data": {
      "application/vnd.jupyter.widget-view+json": {
       "model_id": "",
       "version_major": 2,
       "version_minor": 0
      },
      "text/plain": [
       "Validating: 0it [00:00, ?it/s]"
      ]
     },
     "metadata": {},
     "output_type": "display_data"
    },
    {
     "data": {
      "application/vnd.jupyter.widget-view+json": {
       "model_id": "",
       "version_major": 2,
       "version_minor": 0
      },
      "text/plain": [
       "Validating: 0it [00:00, ?it/s]"
      ]
     },
     "metadata": {},
     "output_type": "display_data"
    },
    {
     "data": {
      "application/vnd.jupyter.widget-view+json": {
       "model_id": "",
       "version_major": 2,
       "version_minor": 0
      },
      "text/plain": [
       "Validating: 0it [00:00, ?it/s]"
      ]
     },
     "metadata": {},
     "output_type": "display_data"
    },
    {
     "data": {
      "application/vnd.jupyter.widget-view+json": {
       "model_id": "",
       "version_major": 2,
       "version_minor": 0
      },
      "text/plain": [
       "Validating: 0it [00:00, ?it/s]"
      ]
     },
     "metadata": {},
     "output_type": "display_data"
    },
    {
     "data": {
      "application/vnd.jupyter.widget-view+json": {
       "model_id": "",
       "version_major": 2,
       "version_minor": 0
      },
      "text/plain": [
       "Validating: 0it [00:00, ?it/s]"
      ]
     },
     "metadata": {},
     "output_type": "display_data"
    },
    {
     "data": {
      "application/vnd.jupyter.widget-view+json": {
       "model_id": "",
       "version_major": 2,
       "version_minor": 0
      },
      "text/plain": [
       "Validating: 0it [00:00, ?it/s]"
      ]
     },
     "metadata": {},
     "output_type": "display_data"
    },
    {
     "data": {
      "application/vnd.jupyter.widget-view+json": {
       "model_id": "",
       "version_major": 2,
       "version_minor": 0
      },
      "text/plain": [
       "Validating: 0it [00:00, ?it/s]"
      ]
     },
     "metadata": {},
     "output_type": "display_data"
    },
    {
     "data": {
      "application/vnd.jupyter.widget-view+json": {
       "model_id": "",
       "version_major": 2,
       "version_minor": 0
      },
      "text/plain": [
       "Validating: 0it [00:00, ?it/s]"
      ]
     },
     "metadata": {},
     "output_type": "display_data"
    },
    {
     "data": {
      "application/vnd.jupyter.widget-view+json": {
       "model_id": "",
       "version_major": 2,
       "version_minor": 0
      },
      "text/plain": [
       "Validating: 0it [00:00, ?it/s]"
      ]
     },
     "metadata": {},
     "output_type": "display_data"
    },
    {
     "data": {
      "application/vnd.jupyter.widget-view+json": {
       "model_id": "",
       "version_major": 2,
       "version_minor": 0
      },
      "text/plain": [
       "Validating: 0it [00:00, ?it/s]"
      ]
     },
     "metadata": {},
     "output_type": "display_data"
    },
    {
     "data": {
      "application/vnd.jupyter.widget-view+json": {
       "model_id": "",
       "version_major": 2,
       "version_minor": 0
      },
      "text/plain": [
       "Validating: 0it [00:00, ?it/s]"
      ]
     },
     "metadata": {},
     "output_type": "display_data"
    },
    {
     "data": {
      "application/vnd.jupyter.widget-view+json": {
       "model_id": "",
       "version_major": 2,
       "version_minor": 0
      },
      "text/plain": [
       "Validating: 0it [00:00, ?it/s]"
      ]
     },
     "metadata": {},
     "output_type": "display_data"
    },
    {
     "name": "stderr",
     "output_type": "stream",
     "text": [
      "/home/peara/.local/lib/python3.8/site-packages/pytorch_lightning/callbacks/stochastic_weight_avg.py:199: UserWarning: SWA is currently only supported every epoch. Found {'scheduler': <torch.optim.lr_scheduler.OneCycleLR object at 0x7f3f647ce640>, 'name': None, 'interval': 'step', 'frequency': 1, 'reduce_on_plateau': False, 'monitor': None, 'strict': True, 'opt_idx': None}\n",
      "  rank_zero_warn(f\"SWA is currently only supported every epoch. Found {scheduler_cfg}\")\n",
      "Swapping scheduler <torch.optim.lr_scheduler.OneCycleLR object at 0x7f3f647ce640> for <torch.optim.swa_utils.SWALR object at 0x7f404b1a13d0>\n"
     ]
    },
    {
     "data": {
      "application/vnd.jupyter.widget-view+json": {
       "model_id": "",
       "version_major": 2,
       "version_minor": 0
      },
      "text/plain": [
       "Validating: 0it [00:00, ?it/s]"
      ]
     },
     "metadata": {},
     "output_type": "display_data"
    },
    {
     "data": {
      "application/vnd.jupyter.widget-view+json": {
       "model_id": "",
       "version_major": 2,
       "version_minor": 0
      },
      "text/plain": [
       "Validating: 0it [00:00, ?it/s]"
      ]
     },
     "metadata": {},
     "output_type": "display_data"
    },
    {
     "data": {
      "application/vnd.jupyter.widget-view+json": {
       "model_id": "",
       "version_major": 2,
       "version_minor": 0
      },
      "text/plain": [
       "Validating: 0it [00:00, ?it/s]"
      ]
     },
     "metadata": {},
     "output_type": "display_data"
    },
    {
     "data": {
      "application/vnd.jupyter.widget-view+json": {
       "model_id": "",
       "version_major": 2,
       "version_minor": 0
      },
      "text/plain": [
       "Validating: 0it [00:00, ?it/s]"
      ]
     },
     "metadata": {},
     "output_type": "display_data"
    },
    {
     "data": {
      "application/vnd.jupyter.widget-view+json": {
       "model_id": "",
       "version_major": 2,
       "version_minor": 0
      },
      "text/plain": [
       "Validating: 0it [00:00, ?it/s]"
      ]
     },
     "metadata": {},
     "output_type": "display_data"
    },
    {
     "data": {
      "application/vnd.jupyter.widget-view+json": {
       "model_id": "",
       "version_major": 2,
       "version_minor": 0
      },
      "text/plain": [
       "Validating: 0it [00:00, ?it/s]"
      ]
     },
     "metadata": {},
     "output_type": "display_data"
    },
    {
     "data": {
      "application/vnd.jupyter.widget-view+json": {
       "model_id": "",
       "version_major": 2,
       "version_minor": 0
      },
      "text/plain": [
       "Validating: 0it [00:00, ?it/s]"
      ]
     },
     "metadata": {},
     "output_type": "display_data"
    },
    {
     "data": {
      "application/vnd.jupyter.widget-view+json": {
       "model_id": "",
       "version_major": 2,
       "version_minor": 0
      },
      "text/plain": [
       "Validating: 0it [00:00, ?it/s]"
      ]
     },
     "metadata": {},
     "output_type": "display_data"
    },
    {
     "name": "stderr",
     "output_type": "stream",
     "text": [
      "COMET INFO: ---------------------------\n",
      "COMET INFO: Comet.ml Experiment Summary\n",
      "COMET INFO: ---------------------------\n",
      "COMET INFO:   Data:\n",
      "COMET INFO:     display_summary_level : 1\n",
      "COMET INFO:     url                   : https://www.comet.ml/peara/sleep-eeg/43682b9f14f54e1ea2fdf7ee3a14e278\n",
      "COMET INFO:   Metrics [count] (min, max):\n",
      "COMET INFO:     loss [1710]     : (0.12380684167146683, 1.6475012302398682)\n",
      "COMET INFO:     lr-AdamW [169]  : (0.000749388429312009, 0.002999998113844519)\n",
      "COMET INFO:     train_acc [31]  : (0.7141798734664917, 0.8619987368583679)\n",
      "COMET INFO:     train_loss [31] : (0.20204006135463715, 0.5532103776931763)\n",
      "COMET INFO:     val_acc [31]    : (0.7650579214096069, 0.8221216797828674)\n",
      "COMET INFO:     val_loss [31]   : (0.2914925217628479, 0.42746105790138245)\n",
      "COMET INFO:   Others:\n",
      "COMET INFO:     Name : WvNet 16 channel + 5 * i + 32 features\n",
      "COMET INFO:   Parameters:\n",
      "COMET INFO:     batch_size          : 256\n",
      "COMET INFO:     dropout_conv        : 0.1\n",
      "COMET INFO:     dropout_fc          : 0.1\n",
      "COMET INFO:     early_stop_patience : 20\n",
      "COMET INFO:     focal_loss_gamma    : 0.5\n",
      "COMET INFO:     learning_rate       : 0.003\n",
      "COMET INFO:     max_epochs          : 30\n",
      "COMET INFO:     scheduler_patience  : 10\n",
      "COMET INFO:     weight_beta         : 0.999\n",
      "COMET INFO:     weight_decay        : 0.01\n",
      "COMET INFO:   Uploads:\n",
      "COMET INFO:     confusion-matrix         : 32\n",
      "COMET INFO:     environment details      : 1\n",
      "COMET INFO:     filename                 : 1\n",
      "COMET INFO:     git metadata             : 1\n",
      "COMET INFO:     git-patch (uncompressed) : 1 (846 KB)\n",
      "COMET INFO:     installed packages       : 1\n",
      "COMET INFO:     model graph              : 1\n",
      "COMET INFO:     notebook                 : 1\n",
      "COMET INFO:     os packages              : 1\n",
      "COMET INFO:     source_code              : 1\n",
      "COMET INFO: ---------------------------\n",
      "COMET INFO: Uploading metrics, params, and assets to Comet before program termination (may take several seconds)\n",
      "COMET INFO: The Python SDK has 3600 seconds to finish before aborting...\n"
     ]
    }
   ],
   "source": [
    "trainer.fit(model, train_loader, val_dataloaders=test_loader)"
   ]
  },
  {
   "cell_type": "code",
   "execution_count": 41,
   "metadata": {
    "tags": []
   },
   "outputs": [],
   "source": [
    "%reset_selective -f \"^train_loader$\"\n",
    "%reset_selective -f \"^train_dataset$\""
   ]
  },
  {
   "cell_type": "code",
   "execution_count": 42,
   "metadata": {},
   "outputs": [],
   "source": [
    "%reset_selective -f \"^test_loader$\"\n",
    "%reset_selective -f \"^test_dataset$\""
   ]
  },
  {
   "cell_type": "markdown",
   "metadata": {},
   "source": [
    "## Test"
   ]
  },
  {
   "cell_type": "markdown",
   "metadata": {
    "tags": []
   },
   "source": [
    "### Test data"
   ]
  },
  {
   "cell_type": "markdown",
   "metadata": {
    "tags": []
   },
   "source": [
    "Test data is from a different set of subjects and have a different distribution."
   ]
  },
  {
   "cell_type": "code",
   "execution_count": 43,
   "metadata": {
    "tags": []
   },
   "outputs": [],
   "source": [
    "from beetl.task_datasets import BeetlSleepLeaderboard\n",
    "X_sleep_target, y_sleep_target, _, _ = BeetlSleepLeaderboard().get_data(subjects=range(0, 6))"
   ]
  },
  {
   "cell_type": "code",
   "execution_count": 44,
   "metadata": {
    "tags": []
   },
   "outputs": [
    {
     "name": "stdout",
     "output_type": "stream",
     "text": [
      "(15442, 1, 3000)\n"
     ]
    },
    {
     "data": {
      "image/png": "[encoded data removed]",
      "text/plain": [
       "<Figure size 432x288 with 1 Axes>"
      ]
     },
     "metadata": {
      "needs_background": "light"
     },
     "output_type": "display_data"
    }
   ],
   "source": [
    "X_sleep_target = np.delete(X_sleep_target, 1, 1)\n",
    "print(X_sleep_target.shape)\n",
    "(unique, counts) = np.unique(y_sleep_target, return_counts=True)\n",
    "plt.bar(unique, counts)\n",
    "plt.show()"
   ]
  },
  {
   "cell_type": "code",
   "execution_count": 45,
   "metadata": {
    "id": "ynecnk8ab1my"
   },
   "outputs": [],
   "source": [
    "transfer_dataset = EEG1ChData(X_sleep_target, y_sleep_target, mode='test')\n",
    "transfer_loader = torch.utils.data.DataLoader(dataset=transfer_dataset, batch_size=hyper_params['batch_size'], pin_memory=True, num_workers=2)"
   ]
  },
  {
   "cell_type": "markdown",
   "metadata": {},
   "source": [
    "### Evaluate"
   ]
  },
  {
   "cell_type": "code",
   "execution_count": 46,
   "metadata": {},
   "outputs": [],
   "source": [
    "model = WvNet.load_from_checkpoint(checkpoint_callback.best_model_path, learning_rate=0.01, drop_conv=0.1, drop_fc=0.1)"
   ]
  },
  {
   "cell_type": "code",
   "execution_count": 47,
   "metadata": {
    "tags": []
   },
   "outputs": [
    {
     "name": "stderr",
     "output_type": "stream",
     "text": [
      "LOCAL_RANK: 0 - CUDA_VISIBLE_DEVICES: [0]\n",
      "COMET WARNING: As you are running in a Jupyter environment, you will need to call `experiment.end()` when finished to ensure all metrics and code are logged before exiting.\n",
      "COMET INFO: Experiment is live on comet.ml https://www.comet.ml/peara/sleep-eeg/43682b9f14f54e1ea2fdf7ee3a14e278\n",
      "\n",
      "/home/peara/.local/lib/python3.8/site-packages/pytorch_lightning/trainer/data_loading.py:102: UserWarning: The dataloader, test dataloader 0, does not have many workers which may be a bottleneck. Consider increasing the value of the `num_workers` argument` (try 16 which is the number of cpus on this machine) in the `DataLoader` init to improve performance.\n",
      "  rank_zero_warn(\n"
     ]
    },
    {
     "data": {
      "application/vnd.jupyter.widget-view+json": {
       "model_id": "3ac90ada9a2240109435950d5639e5fe",
       "version_major": 2,
       "version_minor": 0
      },
      "text/plain": [
       "Testing: 0it [00:00, ?it/s]"
      ]
     },
     "metadata": {},
     "output_type": "display_data"
    },
    {
     "name": "stdout",
     "output_type": "stream",
     "text": [
      "--------------------------------------------------------------------------------\n",
      "DATALOADER:0 TEST RESULTS\n",
      "{'test_acc': 0.7549744844436646, 'test_loss': 0.46065324544906616}\n",
      "--------------------------------------------------------------------------------\n"
     ]
    },
    {
     "data": {
      "text/plain": [
       "[{'test_loss': 0.46065324544906616, 'test_acc': 0.7549744844436646}]"
      ]
     },
     "execution_count": 47,
     "metadata": {},
     "output_type": "execute_result"
    }
   ],
   "source": [
    "trainer.test(model, transfer_loader)"
   ]
  },
  {
   "cell_type": "code",
   "execution_count": 48,
   "metadata": {
    "tags": []
   },
   "outputs": [
    {
     "name": "stderr",
     "output_type": "stream",
     "text": [
      "COMET INFO: -----------------------------------\n",
      "COMET INFO: Comet.ml ExistingExperiment Summary\n",
      "COMET INFO: -----------------------------------\n",
      "COMET INFO:   Data:\n",
      "COMET INFO:     display_summary_level : 1\n",
      "COMET INFO:     url                   : https://www.comet.ml/peara/sleep-eeg/43682b9f14f54e1ea2fdf7ee3a14e278\n",
      "COMET INFO:   Metrics:\n",
      "COMET INFO:     test_acc  : 0.7549744844436646\n",
      "COMET INFO:     test_loss : 0.46065324544906616\n",
      "COMET INFO:   Others:\n",
      "COMET INFO:     Name : WvNet 16 channel + 5 * i + 32 features\n",
      "COMET INFO:   Uploads:\n",
      "COMET INFO:     model graph : 1\n",
      "COMET INFO: -----------------------------------\n",
      "COMET INFO: Uploading 1 metrics, params and output messages\n"
     ]
    }
   ],
   "source": [
    "trainer.logger.experiment.end()"
   ]
  },
  {
   "cell_type": "code",
   "execution_count": 47,
   "metadata": {},
   "outputs": [],
   "source": [
    "%reset_selective -f \"^transfer_loader$\"\n",
    "%reset_selective -f \"^transfer_dataset$\""
   ]
  },
  {
   "cell_type": "markdown",
   "metadata": {},
   "source": [
    "# TODO"
   ]
  },
  {
   "cell_type": "code",
   "execution_count": 52,
   "metadata": {},
   "outputs": [
    {
     "data": {
      "text/plain": [
       "array([ 0.25758243,  0.47651964,  0.13657297, -0.02316955, -0.01034138,\n",
       "       -0.38634613,  0.01957973,  0.51575965,  0.5079736 ,  0.18365107,\n",
       "        0.0541507 , -0.31158885,  0.18341897, -0.06970672, -0.09294304,\n",
       "       -0.10862093,  0.01193714, -0.41946396,  0.03424583, -0.29537013,\n",
       "       -0.2428208 ,  0.48377186, -0.05305401,  0.46856695, -0.17357403,\n",
       "       -0.1471026 , -0.13944083,  0.46226388,  0.5698198 ,  0.2916519 ],\n",
       "      dtype=float32)"
      ]
     },
     "execution_count": 52,
     "metadata": {},
     "output_type": "execute_result"
    }
   ],
   "source": [
    "f = model.conv_fs[5].conv.weight[2][0].cpu().detach().numpy()\n",
    "f"
   ]
  },
  {
   "cell_type": "code",
   "execution_count": 53,
   "metadata": {},
   "outputs": [
    {
     "data": {
      "text/plain": [
       "[<matplotlib.lines.Line2D at 0x7f40410f2fa0>]"
      ]
     },
     "execution_count": 53,
     "metadata": {},
     "output_type": "execute_result"
    },
    {
     "data": {
      "image/png": "[encoded data removed]",
      "text/plain": [
       "<Figure size 432x288 with 1 Axes>"
      ]
     },
     "metadata": {
      "needs_background": "light"
     },
     "output_type": "display_data"
    }
   ],
   "source": [
    "from scipy import signal\n",
    "t, y = signal.impulse(([1.0], f))\n",
    "import matplotlib.pyplot as plt\n",
    "plt.plot(t, y)"
   ]
  },
  {
   "cell_type": "code",
   "execution_count": 54,
   "metadata": {},
   "outputs": [
    {
     "data": {
      "text/plain": [
       "[<matplotlib.lines.Line2D at 0x7f4041060520>]"
      ]
     },
     "execution_count": 54,
     "metadata": {},
     "output_type": "execute_result"
    },
    {
     "data": {
      "image/png": "[encoded data removed]",
      "text/plain": [
       "<Figure size 432x288 with 1 Axes>"
      ]
     },
     "metadata": {
      "needs_background": "light"
     },
     "output_type": "display_data"
    }
   ],
   "source": [
    "plt.plot(f)"
   ]
  },
  {
   "cell_type": "code",
   "execution_count": null,
   "metadata": {},
   "outputs": [],
   "source": [
    "trainer.save_checkpoint(\"../models/wvnet.ckpt\")"
   ]
  },
  {
   "cell_type": "markdown",
   "metadata": {
    "id": "EsNlUvv9ck56"
   },
   "source": [
    "# Submission"
   ]
  },
  {
   "cell_type": "code",
   "execution_count": 55,
   "metadata": {},
   "outputs": [],
   "source": [
    "from beetl.task_datasets import BeetlSleepLeaderboard\n",
    "_, _, X_sleep_test, _ = BeetlSleepLeaderboard().get_data(subjects=range(6, 18))"
   ]
  },
  {
   "cell_type": "code",
   "execution_count": 56,
   "metadata": {},
   "outputs": [],
   "source": [
    "X_sleep_test = np.delete(X_sleep_test, 1, 1)\n",
    "submission_dataset = EEG1ChData(X_sleep_test, None, mode='test')\n",
    "submission_loader = torch.utils.data.DataLoader(dataset=submission_dataset, batch_size=128)"
   ]
  },
  {
   "cell_type": "code",
   "execution_count": 46,
   "metadata": {},
   "outputs": [
    {
     "name": "stderr",
     "output_type": "stream",
     "text": [
      "GPU available: True, used: True\n",
      "TPU available: False, using: 0 TPU cores\n"
     ]
    }
   ],
   "source": [
    "trainer = pl.Trainer(gpus=1, deterministic=True)"
   ]
  },
  {
   "cell_type": "code",
   "execution_count": 57,
   "metadata": {},
   "outputs": [],
   "source": [
    "model = WvNet.load_from_checkpoint(checkpoint_callback.best_model_path, learning_rate=0.01, drop_conv=0, drop_fc=0)"
   ]
  },
  {
   "cell_type": "code",
   "execution_count": 58,
   "metadata": {},
   "outputs": [
    {
     "name": "stderr",
     "output_type": "stream",
     "text": [
      "LOCAL_RANK: 0 - CUDA_VISIBLE_DEVICES: [0]\n",
      "/home/peara/.local/lib/python3.8/site-packages/pytorch_lightning/trainer/data_loading.py:102: UserWarning: The dataloader, predict dataloader 0, does not have many workers which may be a bottleneck. Consider increasing the value of the `num_workers` argument` (try 16 which is the number of cpus on this machine) in the `DataLoader` init to improve performance.\n",
      "  rank_zero_warn(\n"
     ]
    },
    {
     "data": {
      "application/vnd.jupyter.widget-view+json": {
       "model_id": "8e1d102180df422b95f51349327215f6",
       "version_major": 2,
       "version_minor": 0
      },
      "text/plain": [
       "Predicting: 283it [00:00, ?it/s]"
      ]
     },
     "metadata": {},
     "output_type": "display_data"
    }
   ],
   "source": [
    "predicts = trainer.predict(model, submission_loader)"
   ]
  },
  {
   "cell_type": "code",
   "execution_count": 59,
   "metadata": {},
   "outputs": [],
   "source": [
    "predicted_labels = []\n",
    "for predicts in predicts:\n",
    "    predicted_labels.extend(np.argmax(predicts.cpu().detach().numpy(), axis=1))"
   ]
  },
  {
   "cell_type": "code",
   "execution_count": 60,
   "metadata": {},
   "outputs": [
    {
     "name": "stdout",
     "output_type": "stream",
     "text": [
      "[1, 5, 2, 2, 5, 2, 0, 1, 2, 2, 2, 2, 5, 5, 0, 5, 2, 2, 2, 0]\n"
     ]
    }
   ],
   "source": [
    "print(predicted_labels[:20])\n",
    "np.savetxt(\"answer.txt\",predicted_labels,delimiter=',',fmt=\"%d\")"
   ]
  },
  {
   "cell_type": "code",
   "execution_count": 61,
   "metadata": {},
   "outputs": [
    {
     "name": "stdout",
     "output_type": "stream",
     "text": [
      "25748\n"
     ]
    }
   ],
   "source": [
    "print(len(predicted_labels))"
   ]
  },
  {
   "cell_type": "code",
   "execution_count": 62,
   "metadata": {},
   "outputs": [
    {
     "data": {
      "image/png": "[encoded data removed]",
      "text/plain": [
       "<Figure size 432x288 with 1 Axes>"
      ]
     },
     "metadata": {
      "needs_background": "light"
     },
     "output_type": "display_data"
    }
   ],
   "source": [
    "plot_label_distribution(predicted_labels)"
   ]
  },
  {
   "cell_type": "code",
   "execution_count": null,
   "metadata": {},
   "outputs": [],
   "source": []
  }
 ],
 "metadata": {
  "accelerator": "GPU",
  "colab": {
   "collapsed_sections": [],
   "name": "Copy of NIP.ipynb",
   "provenance": []
  },
  "kernelspec": {
   "display_name": "Python 3",
   "language": "python",
   "name": "python3"
  },
  "language_info": {
   "codemirror_mode": {
    "name": "ipython",
    "version": 3
   },
   "file_extension": ".py",
   "mimetype": "text/x-python",
   "name": "python",
   "nbconvert_exporter": "python",
   "pygments_lexer": "ipython3",
   "version": "3.8.10"
  }
 },
 "nbformat": 4,
 "nbformat_minor": 4
}
