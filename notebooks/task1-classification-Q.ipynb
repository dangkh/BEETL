{
 "cells": [
  {
   "cell_type": "code",
   "execution_count": 1,
   "metadata": {},
   "outputs": [],
   "source": [
    "import comet_ml"
   ]
  },
  {
   "cell_type": "code",
   "execution_count": 2,
   "metadata": {
    "id": "Uqb92Uw_CGL1"
   },
   "outputs": [],
   "source": [
    "import numpy as np\n",
    "import matplotlib.pyplot as plt\n",
    "import torch\n",
    "import torch.nn.functional as F"
   ]
  },
  {
   "cell_type": "code",
   "execution_count": 3,
   "metadata": {
    "id": "pVqcC5ixXU_0"
   },
   "outputs": [],
   "source": [
    "from scipy.spatial import distance as dist\n",
    "import matplotlib.pyplot as plt"
   ]
  },
  {
   "cell_type": "code",
   "execution_count": 4,
   "metadata": {
    "id": "ifVFfEXSCWfQ"
   },
   "outputs": [],
   "source": [
    "import os.path as osp\n",
    "import pickle"
   ]
  },
  {
   "cell_type": "code",
   "execution_count": 5,
   "metadata": {},
   "outputs": [],
   "source": [
    "# from beetl.task_datasets import BeetlSleepTutorial, BeetlSleepSource, BeetlSleepLeaderboard, BeetlMILeaderboard\n",
    "# ds = BeetlSleepSource()\n",
    "# path = ds.download()\n",
    "# print(path)\n",
    "# X, y, info = ds.get_data()"
   ]
  },
  {
   "cell_type": "code",
   "execution_count": 6,
   "metadata": {},
   "outputs": [],
   "source": [
    "# BeetlSleepLeaderboard().download()"
   ]
  },
  {
   "cell_type": "code",
   "execution_count": 7,
   "metadata": {
    "id": "FL3ZuKQosAOa"
   },
   "outputs": [],
   "source": [
    "SEED=997\n",
    "torch.manual_seed(SEED)\n",
    "torch.cuda.manual_seed(SEED)\n",
    "np.random.seed(SEED)\n",
    "torch.backends.cudnn.deterministic = True"
   ]
  },
  {
   "cell_type": "code",
   "execution_count": 125,
   "metadata": {},
   "outputs": [],
   "source": [
    "hyper_params = {\n",
    "    \"lr\": lr,\n",
    "    \"weight_decay\": 1e-6,\n",
    "    \"scheduler_patience\": 10,\n",
    "    'batch_size': 256,\n",
    "    'dropout_conv': 0.1,\n",
    "    'dropout_fc': 0.2\n",
    "}"
   ]
  },
  {
   "cell_type": "code",
   "execution_count": 8,
   "metadata": {},
   "outputs": [],
   "source": [
    "def plot_label_distribution(y):\n",
    "    (unique, counts) = np.unique(np.asarray(y), return_counts=True)\n",
    "    frequencies = np.asarray((unique, counts)).T\n",
    "    plt.bar(unique, counts)\n",
    "    plt.show()"
   ]
  },
  {
   "cell_type": "code",
   "execution_count": 9,
   "metadata": {},
   "outputs": [],
   "source": [
    "# for i in range(39):\n",
    "#     _, y, _ = dataset.get_data(subjects=[i])\n",
    "#     plot_label_distribution(y)"
   ]
  },
  {
   "cell_type": "markdown",
   "metadata": {},
   "source": [
    "# Load train, validation and test data"
   ]
  },
  {
   "cell_type": "markdown",
   "metadata": {},
   "source": [
    "## Train data and validation data"
   ]
  },
  {
   "cell_type": "markdown",
   "metadata": {},
   "source": [
    "Train data and validation data are from the same set of data and are assumed to be from one distribution."
   ]
  },
  {
   "cell_type": "code",
   "execution_count": 10,
   "metadata": {},
   "outputs": [],
   "source": [
    "from beetl.task_datasets import BeetlSleepSource\n",
    "dataset = BeetlSleepSource()\n",
    "from sklearn.model_selection import train_test_split\n",
    "\n",
    "# X_train, y_train, info = dataset.get_data(subjects=range(0, 35))\n",
    "# X_test, y_test, _ = dataset.get_data(subjects=range(35, 39))\n",
    "\n",
    "X, y, _ = dataset.get_data()\n",
    "X_train, X_test, y_train, y_test = train_test_split(X, y, test_size=0.2, random_state=SEED)"
   ]
  },
  {
   "cell_type": "code",
   "execution_count": 11,
   "metadata": {
    "colab": {
     "base_uri": "https://localhost:8080/",
     "height": 408
    },
    "id": "IiNTVOfJK5lo",
    "outputId": "3f595d60-c308-4cfe-988a-5dbf8edbdb7f"
   },
   "outputs": [
    {
     "name": "stdout",
     "output_type": "stream",
     "text": [
      "(72436, 2, 3000)\n",
      "[[    0 19257]\n",
      " [    1  6470]\n",
      " [    2 28763]\n",
      " [    3  4213]\n",
      " [    4  2400]\n",
      " [    5 11333]]\n"
     ]
    },
    {
     "data": {
      "image/png": "[encoded data removed]",
      "text/plain": [
       "<Figure size 432x288 with 1 Axes>"
      ]
     },
     "metadata": {
      "needs_background": "light"
     },
     "output_type": "display_data"
    }
   ],
   "source": [
    "print(X_train.shape)\n",
    "(unique, counts) = np.unique(np.asarray(y_train), return_counts=True)\n",
    "frequencies = np.asarray((unique, counts)).T\n",
    "print(frequencies)\n",
    "plt.bar(unique, counts)\n",
    "plt.show()"
   ]
  },
  {
   "cell_type": "code",
   "execution_count": 12,
   "metadata": {},
   "outputs": [
    {
     "name": "stdout",
     "output_type": "stream",
     "text": [
      "(18109, 2, 3000)\n",
      "[[   0 4786]\n",
      " [   1 1471]\n",
      " [   2 7220]\n",
      " [   3 1034]\n",
      " [   4  657]\n",
      " [   5 2941]]\n"
     ]
    },
    {
     "data": {
      "image/png": "[encoded data removed]",
      "text/plain": [
       "<Figure size 432x288 with 1 Axes>"
      ]
     },
     "metadata": {
      "needs_background": "light"
     },
     "output_type": "display_data"
    }
   ],
   "source": [
    "print(X_test.shape)\n",
    "(unique, counts) = np.unique(np.asarray(y_test), return_counts=True)\n",
    "frequencies = np.asarray((unique, counts)).T\n",
    "print(frequencies)\n",
    "plt.bar(unique, counts)\n",
    "plt.show()"
   ]
  },
  {
   "cell_type": "markdown",
   "metadata": {},
   "source": [
    "From the above 2 histograms, we can see that they have similar labels' distribution."
   ]
  },
  {
   "cell_type": "markdown",
   "metadata": {
    "tags": []
   },
   "source": [
    "## Test data"
   ]
  },
  {
   "cell_type": "markdown",
   "metadata": {},
   "source": [
    "Test data is from a different set of subjects and have a different distribution."
   ]
  },
  {
   "cell_type": "code",
   "execution_count": 13,
   "metadata": {},
   "outputs": [],
   "source": [
    "from beetl.task_datasets import BeetlSleepLeaderboard\n",
    "X_sleep_target, y_sleep_target, _, _ = BeetlSleepLeaderboard().get_data(subjects=range(0, 6))"
   ]
  },
  {
   "cell_type": "code",
   "execution_count": 14,
   "metadata": {},
   "outputs": [
    {
     "name": "stdout",
     "output_type": "stream",
     "text": [
      "(15442, 2, 3000)\n"
     ]
    },
    {
     "data": {
      "image/png": "[encoded data removed]",
      "text/plain": [
       "<Figure size 432x288 with 1 Axes>"
      ]
     },
     "metadata": {
      "needs_background": "light"
     },
     "output_type": "display_data"
    }
   ],
   "source": [
    "print(X_sleep_target.shape)\n",
    "(unique, counts) = np.unique(y_sleep_target, return_counts=True)\n",
    "plt.bar(unique, counts)\n",
    "plt.show()"
   ]
  },
  {
   "cell_type": "markdown",
   "metadata": {
    "id": "KS6FzukMNyby"
   },
   "source": [
    "# Dataloaders"
   ]
  },
  {
   "cell_type": "code",
   "execution_count": 15,
   "metadata": {
    "id": "KPNrgRkZN2cE"
   },
   "outputs": [],
   "source": [
    "from torch.utils.data import DataLoader, Dataset\n",
    "\n",
    "class EEG_data(Dataset):\n",
    "    def __init__(self, train_data, train_label, mode='train'):\n",
    "        mean = np.mean(train_data, axis=2, keepdims=True)\n",
    "        std = np.std(train_data, axis=2, keepdims=True)\n",
    "        self.X = (train_data - mean) / std\n",
    "        self.X = np.transpose(self.X, (0, 2, 1))\n",
    "        self.X = np.expand_dims(self.X, axis=1)\n",
    "        self.y = train_label\n",
    "        self.mode = mode\n",
    "    \n",
    "    def __len__(self):\n",
    "        return len(self.X)\n",
    "\n",
    "    def __getitem__(self, idx):\n",
    "        shape = self.X[0].shape\n",
    "        noise = np.random.normal(0, 0.04, 6000).reshape(shape)\n",
    "        if self.y is not None:\n",
    "            return torch.tensor(self.X[idx], dtype=torch.float32), torch.tensor(self.y[idx], dtype=torch.long)\n",
    "        else:\n",
    "            return torch.tensor(self.X[idx], dtype=torch.float32)"
   ]
  },
  {
   "cell_type": "code",
   "execution_count": 16,
   "metadata": {},
   "outputs": [
    {
     "data": {
      "text/plain": [
       "(72436, 2, 3000)"
      ]
     },
     "execution_count": 16,
     "metadata": {},
     "output_type": "execute_result"
    }
   ],
   "source": [
    "X_train.shape"
   ]
  },
  {
   "cell_type": "code",
   "execution_count": 17,
   "metadata": {
    "colab": {
     "base_uri": "https://localhost:8080/"
    },
    "id": "w_a9V9kTN8fk",
    "outputId": "3b54c2b5-1b7c-4587-acb5-3625cc02c7f4"
   },
   "outputs": [
    {
     "name": "stdout",
     "output_type": "stream",
     "text": [
      "(72436, 1, 3000, 2)\n"
     ]
    }
   ],
   "source": [
    "train_dataset = EEG_data(X_train, y_train)\n",
    "test_dataset = EEG_data(X_test, y_test, mode='test')\n",
    "print(train_dataset.X.shape) # should be length, 1, 3000, 2"
   ]
  },
  {
   "cell_type": "code",
   "execution_count": 18,
   "metadata": {},
   "outputs": [
    {
     "data": {
      "text/plain": [
       "(array([  24.,   53.,  235.,  933., 1073.,  494.,  151.,   26.,    5.,\n",
       "           6.]),\n",
       " array([-3.75888466, -2.87629739, -1.99371013, -1.11112286, -0.2285356 ,\n",
       "         0.65405166,  1.53663893,  2.41922619,  3.30181346,  4.18440072,\n",
       "         5.06698798]),\n",
       " <BarContainer object of 10 artists>)"
      ]
     },
     "execution_count": 18,
     "metadata": {},
     "output_type": "execute_result"
    },
    {
     "data": {
      "image/png": "[encoded data removed]",
      "text/plain": [
       "<Figure size 432x288 with 1 Axes>"
      ]
     },
     "metadata": {
      "needs_background": "light"
     },
     "output_type": "display_data"
    }
   ],
   "source": [
    "plt.hist(train_dataset.X[0][0][:, 0])"
   ]
  },
  {
   "cell_type": "code",
   "execution_count": 19,
   "metadata": {},
   "outputs": [],
   "source": [
    "from pytorch_metric_learning import samplers"
   ]
  },
  {
   "cell_type": "code",
   "execution_count": 20,
   "metadata": {
    "colab": {
     "base_uri": "https://localhost:8080/"
    },
    "id": "w_a9V9kTN8fk",
    "outputId": "3b54c2b5-1b7c-4587-acb5-3625cc02c7f4"
   },
   "outputs": [],
   "source": [
    "train_loader = torch.utils.data.DataLoader(dataset=train_dataset, sampler=samplers.MPerClassSampler(labels=y_train, m=BATCH_SIZE // 6, length_before_new_iter=24000), batch_size=BATCH_SIZE)\n",
    "test_loader = torch.utils.data.DataLoader(dataset=test_dataset, batch_size=BATCH_SIZE)"
   ]
  },
  {
   "cell_type": "code",
   "execution_count": 21,
   "metadata": {
    "id": "ynecnk8ab1my"
   },
   "outputs": [],
   "source": [
    "transfer_dataset = EEG_data(X_sleep_target, y_sleep_target)\n",
    "transfer_loader = torch.utils.data.DataLoader(dataset=transfer_dataset, batch_size=128)"
   ]
  },
  {
   "cell_type": "markdown",
   "metadata": {
    "id": "NkLPGnDuM1Oo"
   },
   "source": [
    "# LSTM NET"
   ]
  },
  {
   "cell_type": "code",
   "execution_count": 22,
   "metadata": {
    "id": "GWbJZMGzMyiM"
   },
   "outputs": [],
   "source": [
    "import torch.nn as nn\n",
    "import torch.nn.functional as F\n",
    "    \n",
    "class LSTMNet(nn.Module):\n",
    "    def __init__(self, n_classes):\n",
    "        super(LSTMNet, self).__init__()\n",
    "        self.drop1 = nn.Dropout(0.5)\n",
    "        self.drop_ch = nn.Dropout2d(0.1)\n",
    "        self.fc = nn.Linear(128, n_classes)\n",
    "        self.n_classes = n_classes\n",
    "\n",
    "        self.conv1 = nn.Conv2d(in_channels=1, out_channels=16, kernel_size=[10, 2], stride=1)\n",
    "        self.bn1 = nn.BatchNorm1d(16)\n",
    "        \n",
    "        self.conv2 = nn.Conv1d(in_channels=16, out_channels=32, kernel_size=10, stride=1)\n",
    "        self.bn2 = nn.BatchNorm1d(32)\n",
    "        \n",
    "        self.conv3 = nn.Conv1d(in_channels=32, out_channels=64, kernel_size=10, stride=1)\n",
    "        self.bn3 = nn.BatchNorm1d(64)\n",
    "        \n",
    "        self.pool = nn.MaxPool1d(4)\n",
    "\n",
    "        self.lstm = nn.LSTM(input_size=64, hidden_size=128, batch_first=True)\n",
    "\n",
    "        torch.nn.init.kaiming_normal_(self.conv1.weight)\n",
    "        torch.nn.init.kaiming_normal_(self.conv2.weight)\n",
    "        torch.nn.init.kaiming_normal_(self.conv3.weight)\n",
    "        torch.nn.init.kaiming_normal_(self.fc.weight)\n",
    "\n",
    "    def forward(self, x):\n",
    "        output = self.bn1(self.pool(F.relu(self.conv1(x)).reshape(x.shape[0], self.conv1.out_channels, -1)))\n",
    "        output = torch.squeeze(self.drop_ch(torch.unsqueeze(output, 3)))\n",
    "        \n",
    "        output = self.bn2(self.pool(F.relu(self.conv2(output))))\n",
    "        output = torch.squeeze(self.drop_ch(torch.unsqueeze(output, 3)))\n",
    "        \n",
    "        output = self.bn3(self.pool(F.relu(self.conv3(output))))\n",
    "        output = torch.squeeze(self.drop_ch(torch.unsqueeze(output, 3)))\n",
    "        # output's shape is batch, 64, 37\n",
    "        \n",
    "        outputs, _ = self.lstm(torch.transpose(output, 2, 1)) # batch, seq_len, hidden_size\n",
    "#         _, (outputs, _) = self.lstm(torch.transpose(output, 2, 1)) # batch, seq_len, hidden_size\n",
    "        output = torch.mean(outputs, 1) # batch, hidden_size\n",
    "#         output = torch.squeeze(outputs)\n",
    "        output = F.relu(self.fc(self.drop1(output)))\n",
    "        return output\n"
   ]
  },
  {
   "cell_type": "code",
   "execution_count": 23,
   "metadata": {},
   "outputs": [],
   "source": [
    "import torch.nn as nn\n",
    "import torch.nn.functional as F\n",
    "    \n",
    "class WvNet(nn.Module):\n",
    "    def __init__(self, n_classes):\n",
    "        super(WvNet, self).__init__()\n",
    "        self.drop_fc = nn.Dropout(0.5)\n",
    "        self.drop_conv = nn.Dropout2d(0.1)\n",
    "        self.fc = nn.Linear(128, n_classes)\n",
    "        self.n_classes = n_classes\n",
    "\n",
    "        self.conv_5 = nn.Conv2d(in_channels=1, out_channels=8, kernel_size=[80, 2], stride=1)\n",
    "        self.bn_5 = nn.BatchNorm2d(8)\n",
    "        self.pool_5 = nn.AdaptiveMaxPool2d((60, 1))\n",
    "        \n",
    "        self.conv_10 = nn.Conv2d(in_channels=1, out_channels=8, kernel_size=[160, 2], stride=1)\n",
    "        self.bn_10 = nn.BatchNorm2d(8)\n",
    "        self.pool_10 = nn.AdaptiveMaxPool2d((60, 1))\n",
    "        \n",
    "        self.conv_20 = nn.Conv2d(in_channels=1, out_channels=8, kernel_size=[20, 2], stride=1)\n",
    "        self.bn_20 = nn.BatchNorm2d(8)\n",
    "        self.pool_20 = nn.AdaptiveMaxPool2d((60, 1))\n",
    "        \n",
    "        self.conv_40 = nn.Conv2d(in_channels=1, out_channels=8, kernel_size=[40, 2], stride=1)\n",
    "        self.bn_40 = nn.BatchNorm2d(8)\n",
    "        self.pool_40 = nn.AdaptiveMaxPool2d((60, 1))\n",
    "        \n",
    "        self.conv_gr1 = nn.Conv2d(in_channels=4, out_channels=16, kernel_size=[4, 5], stride=1)\n",
    "        self.bn_gr1 = nn.BatchNorm2d(16)\n",
    "        \n",
    "        self.conv_gr2 = nn.Conv2d(in_channels=16, out_channels=64, kernel_size=[5, 5], stride=1)\n",
    "        self.bn_gr2 = nn.BatchNorm2d(64)\n",
    "\n",
    "        self.lstm = nn.LSTM(input_size=self.conv_gr2.out_channels, hidden_size=128, batch_first=True)\n",
    "\n",
    "        torch.nn.init.kaiming_normal_(self.conv_5.weight)\n",
    "        torch.nn.init.kaiming_normal_(self.conv_10.weight)\n",
    "        torch.nn.init.kaiming_normal_(self.conv_20.weight)\n",
    "        torch.nn.init.kaiming_normal_(self.conv_40.weight)\n",
    "        torch.nn.init.kaiming_normal_(self.fc.weight)\n",
    "\n",
    "    def forward(self, x):\n",
    "        output_5 = self.bn_5(self.pool_5(F.relu(self.conv_5(x))))\n",
    "        output_5 = torch.squeeze(self.drop_conv(output_5))\n",
    "        \n",
    "        output_10 = self.bn_10(self.pool_10(F.relu(self.conv_10(x))))\n",
    "        output_10 = torch.squeeze(self.drop_conv(output_10))\n",
    "        \n",
    "        output_20 = self.bn_20(self.pool_20(F.relu(self.conv_20(x))))\n",
    "        output_20 = torch.squeeze(self.drop_conv(output_20))\n",
    "        \n",
    "        output_40 = self.bn_40(self.pool_40(F.relu(self.conv_40(x))))\n",
    "        output_40 = torch.squeeze(self.drop_conv(output_40))\n",
    "        \n",
    "        output = torch.stack((output_5, output_10, output_20, output_40), dim=1)\n",
    "        # output's shape is batch, 4, 8, 60\n",
    "        \n",
    "        output = self.bn_gr1(F.relu(self.conv_gr1(output)))\n",
    "        output = self.drop_conv(output) # .view(output.shape[0], -1, output.shape[-1])\n",
    "        # batch, 16, 5, 55\n",
    "        \n",
    "        output = self.bn_gr2(F.relu(self.conv_gr2(output)))\n",
    "        output = torch.squeeze(self.drop_conv(output))\n",
    "        \n",
    "#         _, (outputs, _) = self.lstm(torch.transpose(output, 2, 1)) # batch, seq_len, hidden_size\n",
    "#         output = torch.squeeze(outputs)\n",
    "\n",
    "        outputs, _ = self.lstm(torch.transpose(output, 2, 1)) # batch, seq_len, hidden_size\n",
    "        output = torch.mean(outputs, 1) # batch, hidden_size\n",
    "\n",
    "        output = F.relu(self.fc(self.drop_fc(output)))\n",
    "        return output\n"
   ]
  },
  {
   "cell_type": "code",
   "execution_count": 24,
   "metadata": {},
   "outputs": [],
   "source": [
    "import torch.nn as nn\n",
    "import torch.nn.functional as F\n",
    "    \n",
    "class WvConvNet(nn.Module):\n",
    "    def __init__(self, n_classes):\n",
    "        super(WvConvNet, self).__init__()\n",
    "        self.drop_fc = nn.Dropout(0.2)\n",
    "        self.drop_conv = nn.Dropout2d(0.1)\n",
    "        self.n_classes = n_classes\n",
    "        self.conv_f_size = 8\n",
    "        \n",
    "        self.conv_fs = nn.ModuleList()\n",
    "        self.bn_fs = nn.ModuleList()\n",
    "        self.pool_fs = nn.ModuleList()\n",
    "        for i in range(8):\n",
    "            self.conv_fs.append(nn.Conv2d(in_channels=1, out_channels=self.conv_f_size, kernel_size=[5, 2], stride=1, dilation=(2*(i+1), 1)))\n",
    "            self.bn_fs.append(nn.BatchNorm2d(self.conv_f_size))\n",
    "            self.pool_fs.append(nn.AdaptiveAvgPool2d((32, 1)))\n",
    "\n",
    "        self.pool_conv_2d = nn.AvgPool2d((2, 2))\n",
    "        self.conv_gr1 = nn.Conv2d(in_channels=len(self.conv_fs), out_channels=32, kernel_size=[3, 7], stride=1, padding=(1, 3), groups=2)\n",
    "        self.bn_gr1 = nn.BatchNorm2d(self.conv_gr1.out_channels)\n",
    "        \n",
    "        self.conv_gr2 = nn.Conv2d(in_channels=self.conv_gr1.out_channels, out_channels=32, kernel_size=[3, 7], stride=1, padding=(1, 3), groups=2)\n",
    "        self.bn_gr2 = nn.BatchNorm2d(self.conv_gr2.out_channels)\n",
    "        \n",
    "        self.conv_gr3 = nn.Conv2d(in_channels=self.conv_gr2.out_channels, out_channels=64, kernel_size=[4, 16], stride=1, groups=2)\n",
    "        self.bn_gr3 = nn.BatchNorm2d(self.conv_gr3.out_channels)\n",
    "        \n",
    "        self.fc = nn.Linear(self.conv_gr3.out_channels, n_classes)\n",
    "    \n",
    "        for conv in self.conv_fs:\n",
    "            torch.nn.init.kaiming_normal_(conv.weight)\n",
    "        torch.nn.init.kaiming_normal_(self.conv_gr1.weight)\n",
    "        torch.nn.init.kaiming_normal_(self.conv_gr2.weight)\n",
    "        torch.nn.init.kaiming_normal_(self.conv_gr3.weight)\n",
    "        torch.nn.init.kaiming_normal_(self.fc.weight)\n",
    "\n",
    "    def forward(self, x):\n",
    "        outputs = []\n",
    "        for i in range(len(self.conv_fs)):\n",
    "            output = F.relu(self.conv_fs[i](x))\n",
    "            output = self.bn_fs[i](self.pool_fs[i](output))\n",
    "#             output = self.drop_conv(output)\n",
    "            output = torch.squeeze(output)\n",
    "            outputs.append(output)\n",
    "        \n",
    "        output = torch.stack((outputs), dim=1)\n",
    "#         output = self.drop_conv(output)\n",
    "        \n",
    "        output = self.bn_gr1(self.pool_conv_2d(F.relu(self.conv_gr1(output))))\n",
    "#         output = self.drop_conv(output)\n",
    "        \n",
    "#         output = self.bn_gr2(self.pool_conv_2d(F.relu(self.conv_gr2(output))))\n",
    "#         output = self.drop_conv(output)\n",
    "        \n",
    "        output = self.bn_gr3(F.relu(self.conv_gr3(output)))\n",
    "#         output = self.drop_conv(output)\n",
    "        output = torch.squeeze(output)\n",
    "\n",
    "        output = F.relu(self.fc(self.drop_fc(output)))\n",
    "        return output\n",
    "    "
   ]
  },
  {
   "cell_type": "code",
   "execution_count": 25,
   "metadata": {
    "colab": {
     "base_uri": "https://localhost:8080/"
    },
    "id": "P6_OyPmAM0np",
    "outputId": "64e272a9-9544-46a6-fc67-fa3634cae7eb",
    "tags": []
   },
   "outputs": [
    {
     "name": "stdout",
     "output_type": "stream",
     "text": [
      "cuda\n"
     ]
    }
   ],
   "source": [
    "import torch\n",
    "device = torch.device(\"cuda\" if torch.cuda.is_available() else \"cpu\")\n",
    "print(device)"
   ]
  },
  {
   "cell_type": "code",
   "execution_count": 28,
   "metadata": {},
   "outputs": [],
   "source": [
    "from tensorboardX import SummaryWriter\n",
    "\n",
    "comet_config = {\n",
    "    \"api_key\": \"\",\n",
    "    \"project_name\": \"sleep-eeg\",\n",
    "    \"workspace\": \"peara\",\n",
    "    \"disabled\": False\n",
    "}\n",
    "\n",
    "def display(tab=None):\n",
    "    experiment = comet_ml.get_global_experiment()\n",
    "    experiment.display(tab=tab)\n",
    "\n",
    "writer = SummaryWriter(comet_config=comet_config)"
   ]
  },
  {
   "cell_type": "code",
   "execution_count": 29,
   "metadata": {
    "id": "EDD7yNCMQX9X"
   },
   "outputs": [],
   "source": [
    "import torch.optim as optim\n",
    "from torch.optim import lr_scheduler\n",
    "from pytorch_metric_learning import losses as loss_fn\n",
    "\n",
    "model = WvConvNet(n_classes=len(frequencies))\n",
    "model.to(device)\n",
    "loss_fn = torch.nn.CrossEntropyLoss()\n",
    "lr = 1e-4\n",
    "optimizer = optim.Adam(model.parameters(), lr=lr, weight_decay=1e-5)\n",
    "scheduler = lr_scheduler.ReduceLROnPlateau(optimizer, mode='min', patience=10, min_lr=1e-6)\n",
    "llos = []\n",
    "train_acc = []\n",
    "val_accs = []\n",
    "tf_accs = []\n",
    "epoch = 0"
   ]
  },
  {
   "cell_type": "code",
   "execution_count": 30,
   "metadata": {},
   "outputs": [
    {
     "name": "stderr",
     "output_type": "stream",
     "text": [
      "COMET WARNING: As you are running in a Jupyter environment, you will need to call `experiment.end()` when finished to ensure all metrics and code are logged before exiting.\n",
      "COMET INFO: Experiment is live on comet.ml https://www.comet.ml/peara/sleep-eeg/812b2203349d4aa79b41c2a5c8f9a5eb\n",
      "\n"
     ]
    }
   ],
   "source": [
    "writer.add_hparams(\n",
    "    hparam_dict=hyper_params,\n",
    "    metric_dict={}\n",
    ")"
   ]
  },
  {
   "cell_type": "code",
   "execution_count": 31,
   "metadata": {},
   "outputs": [
    {
     "data": {
      "text/plain": [
       "WvConvNet(\n",
       "  (drop_fc): Dropout(p=0.2, inplace=False)\n",
       "  (drop_conv): Dropout2d(p=0.1, inplace=False)\n",
       "  (conv_fs): ModuleList(\n",
       "    (0): Conv2d(1, 8, kernel_size=[5, 2], stride=(1, 1), dilation=(2, 1))\n",
       "    (1): Conv2d(1, 8, kernel_size=[5, 2], stride=(1, 1), dilation=(4, 1))\n",
       "    (2): Conv2d(1, 8, kernel_size=[5, 2], stride=(1, 1), dilation=(6, 1))\n",
       "    (3): Conv2d(1, 8, kernel_size=[5, 2], stride=(1, 1), dilation=(8, 1))\n",
       "    (4): Conv2d(1, 8, kernel_size=[5, 2], stride=(1, 1), dilation=(10, 1))\n",
       "    (5): Conv2d(1, 8, kernel_size=[5, 2], stride=(1, 1), dilation=(12, 1))\n",
       "    (6): Conv2d(1, 8, kernel_size=[5, 2], stride=(1, 1), dilation=(14, 1))\n",
       "    (7): Conv2d(1, 8, kernel_size=[5, 2], stride=(1, 1), dilation=(16, 1))\n",
       "  )\n",
       "  (bn_fs): ModuleList(\n",
       "    (0): BatchNorm2d(8, eps=1e-05, momentum=0.1, affine=True, track_running_stats=True)\n",
       "    (1): BatchNorm2d(8, eps=1e-05, momentum=0.1, affine=True, track_running_stats=True)\n",
       "    (2): BatchNorm2d(8, eps=1e-05, momentum=0.1, affine=True, track_running_stats=True)\n",
       "    (3): BatchNorm2d(8, eps=1e-05, momentum=0.1, affine=True, track_running_stats=True)\n",
       "    (4): BatchNorm2d(8, eps=1e-05, momentum=0.1, affine=True, track_running_stats=True)\n",
       "    (5): BatchNorm2d(8, eps=1e-05, momentum=0.1, affine=True, track_running_stats=True)\n",
       "    (6): BatchNorm2d(8, eps=1e-05, momentum=0.1, affine=True, track_running_stats=True)\n",
       "    (7): BatchNorm2d(8, eps=1e-05, momentum=0.1, affine=True, track_running_stats=True)\n",
       "  )\n",
       "  (pool_fs): ModuleList(\n",
       "    (0): AdaptiveAvgPool2d(output_size=(32, 1))\n",
       "    (1): AdaptiveAvgPool2d(output_size=(32, 1))\n",
       "    (2): AdaptiveAvgPool2d(output_size=(32, 1))\n",
       "    (3): AdaptiveAvgPool2d(output_size=(32, 1))\n",
       "    (4): AdaptiveAvgPool2d(output_size=(32, 1))\n",
       "    (5): AdaptiveAvgPool2d(output_size=(32, 1))\n",
       "    (6): AdaptiveAvgPool2d(output_size=(32, 1))\n",
       "    (7): AdaptiveAvgPool2d(output_size=(32, 1))\n",
       "  )\n",
       "  (pool_conv_2d): AvgPool2d(kernel_size=(2, 2), stride=(2, 2), padding=0)\n",
       "  (conv_gr1): Conv2d(8, 32, kernel_size=[3, 7], stride=(1, 1), padding=(1, 3), groups=2)\n",
       "  (bn_gr1): BatchNorm2d(32, eps=1e-05, momentum=0.1, affine=True, track_running_stats=True)\n",
       "  (conv_gr2): Conv2d(32, 32, kernel_size=[3, 7], stride=(1, 1), padding=(1, 3), groups=2)\n",
       "  (bn_gr2): BatchNorm2d(32, eps=1e-05, momentum=0.1, affine=True, track_running_stats=True)\n",
       "  (conv_gr3): Conv2d(32, 64, kernel_size=[4, 16], stride=(1, 1), groups=2)\n",
       "  (bn_gr3): BatchNorm2d(64, eps=1e-05, momentum=0.1, affine=True, track_running_stats=True)\n",
       "  (fc): Linear(in_features=64, out_features=6, bias=True)\n",
       ")"
      ]
     },
     "execution_count": 31,
     "metadata": {},
     "output_type": "execute_result"
    }
   ],
   "source": [
    "model"
   ]
  },
  {
   "cell_type": "code",
   "execution_count": 55,
   "metadata": {},
   "outputs": [],
   "source": [
    "from util.preproc import plot_confusion_matrix\n",
    "\n",
    "def evaluate(model, loader, confusion_matrix=False):\n",
    "    model.eval()\n",
    "    val_correct = 0\n",
    "    val_total = 0\n",
    "    val_loss = 0\n",
    "    predicted_labels = []\n",
    "    for _, (inputs, labels) in enumerate(loader):\n",
    "        with torch.no_grad():\n",
    "            inputs, labels = inputs.to(device), labels.to(device)\n",
    "            outputs = model(inputs)\n",
    "            \n",
    "            preds = torch.argmax(outputs, axis=1)\n",
    "            val_total += len(labels)\n",
    "            val_correct += torch.sum(labels == preds).item()\n",
    "            predicted_labels.append(preds.cpu().detach().numpy())\n",
    "           \n",
    "            val_loss += loss_fn(outputs, labels) * len(labels)\n",
    "            \n",
    "    fig = None\n",
    "    if confusion_matrix:\n",
    "        predicted_labels = np.concatenate(predicted_labels)\n",
    "        fig, ax = plot_confusion_matrix(loader.dataset.y, predicted_labels, classes=['0', '1', '2', '3', '4', '5'],\n",
    "                                      normalize=True, title='Confusion matrix')\n",
    "    return val_correct / val_total, val_loss / val_total, fig"
   ]
  },
  {
   "cell_type": "code",
   "execution_count": 58,
   "metadata": {
    "colab": {
     "base_uri": "https://localhost:8080/",
     "height": 428
    },
    "id": "bi0HFKDKQZcV",
    "outputId": "f4c565fe-73a3-4ae3-d8b5-2f3dd8d54114"
   },
   "outputs": [
    {
     "name": "stdout",
     "output_type": "stream",
     "text": [
      "Epoch: 50, LR: 0.0001\n"
     ]
    },
    {
     "data": {
      "application/vnd.jupyter.widget-view+json": {
       "model_id": "dc8569fa533147178847b56418bfc83a",
       "version_major": 2,
       "version_minor": 0
      },
      "text/plain": [
       "  0%|          | 0/188 [00:00<?, ?it/s]"
      ]
     },
     "metadata": {},
     "output_type": "display_data"
    },
    {
     "name": "stdout",
     "output_type": "stream",
     "text": [
      "[[4246  361   29   21   11  118]\n",
      " [ 189  633  303   20    7  319]\n",
      " [  98  795 4679  900  155  593]\n",
      " [   6    9   93  639  282    5]\n",
      " [   0    0    3  174  480    0]\n",
      " [ 118  528  168    9    8 2110]]\n",
      "Normalized confusion matrix\n",
      "Epoch: 51, LR: 0.0001\n"
     ]
    },
    {
     "data": {
      "application/vnd.jupyter.widget-view+json": {
       "model_id": "f71e9e08fe834d0baba5698297767545",
       "version_major": 2,
       "version_minor": 0
      },
      "text/plain": [
       "  0%|          | 0/188 [00:00<?, ?it/s]"
      ]
     },
     "metadata": {},
     "output_type": "display_data"
    },
    {
     "name": "stdout",
     "output_type": "stream",
     "text": [
      "Epoch: 52, LR: 0.0001\n"
     ]
    },
    {
     "data": {
      "application/vnd.jupyter.widget-view+json": {
       "model_id": "8d641fac394042ef853605e91fbcd6f4",
       "version_major": 2,
       "version_minor": 0
      },
      "text/plain": [
       "  0%|          | 0/188 [00:00<?, ?it/s]"
      ]
     },
     "metadata": {},
     "output_type": "display_data"
    },
    {
     "name": "stdout",
     "output_type": "stream",
     "text": [
      "Epoch: 53, LR: 0.0001\n"
     ]
    },
    {
     "data": {
      "application/vnd.jupyter.widget-view+json": {
       "model_id": "43ba4d1d0e04455aa8c9d48897d7cc0c",
       "version_major": 2,
       "version_minor": 0
      },
      "text/plain": [
       "  0%|          | 0/188 [00:00<?, ?it/s]"
      ]
     },
     "metadata": {},
     "output_type": "display_data"
    },
    {
     "name": "stdout",
     "output_type": "stream",
     "text": [
      "Epoch: 54, LR: 0.0001\n"
     ]
    },
    {
     "data": {
      "application/vnd.jupyter.widget-view+json": {
       "model_id": "3d700b583fcb42a686d33e421aa39ae3",
       "version_major": 2,
       "version_minor": 0
      },
      "text/plain": [
       "  0%|          | 0/188 [00:00<?, ?it/s]"
      ]
     },
     "metadata": {},
     "output_type": "display_data"
    },
    {
     "name": "stdout",
     "output_type": "stream",
     "text": [
      "Epoch: 55, LR: 0.0001\n"
     ]
    },
    {
     "data": {
      "application/vnd.jupyter.widget-view+json": {
       "model_id": "b8f12ce41a2e4b8fbad359f39789ce0e",
       "version_major": 2,
       "version_minor": 0
      },
      "text/plain": [
       "  0%|          | 0/188 [00:00<?, ?it/s]"
      ]
     },
     "metadata": {},
     "output_type": "display_data"
    },
    {
     "name": "stdout",
     "output_type": "stream",
     "text": [
      "Epoch: 56, LR: 0.0001\n"
     ]
    },
    {
     "data": {
      "application/vnd.jupyter.widget-view+json": {
       "model_id": "197ceba0ee784edb8643b350d1428b39",
       "version_major": 2,
       "version_minor": 0
      },
      "text/plain": [
       "  0%|          | 0/188 [00:00<?, ?it/s]"
      ]
     },
     "metadata": {},
     "output_type": "display_data"
    },
    {
     "name": "stdout",
     "output_type": "stream",
     "text": [
      "Epoch: 57, LR: 0.0001\n"
     ]
    },
    {
     "data": {
      "application/vnd.jupyter.widget-view+json": {
       "model_id": "873812a7ca6b4439afb3872a375d627c",
       "version_major": 2,
       "version_minor": 0
      },
      "text/plain": [
       "  0%|          | 0/188 [00:00<?, ?it/s]"
      ]
     },
     "metadata": {},
     "output_type": "display_data"
    },
    {
     "name": "stdout",
     "output_type": "stream",
     "text": [
      "Epoch: 58, LR: 0.0001\n"
     ]
    },
    {
     "data": {
      "application/vnd.jupyter.widget-view+json": {
       "model_id": "2f1499926bb14cc187a31a8828d0bfb8",
       "version_major": 2,
       "version_minor": 0
      },
      "text/plain": [
       "  0%|          | 0/188 [00:00<?, ?it/s]"
      ]
     },
     "metadata": {},
     "output_type": "display_data"
    },
    {
     "name": "stdout",
     "output_type": "stream",
     "text": [
      "Epoch: 59, LR: 0.0001\n"
     ]
    },
    {
     "data": {
      "application/vnd.jupyter.widget-view+json": {
       "model_id": "2861961462c744b1b7905c5f0870f0fb",
       "version_major": 2,
       "version_minor": 0
      },
      "text/plain": [
       "  0%|          | 0/188 [00:00<?, ?it/s]"
      ]
     },
     "metadata": {},
     "output_type": "display_data"
    },
    {
     "name": "stdout",
     "output_type": "stream",
     "text": [
      "Epoch: 60, LR: 0.0001\n"
     ]
    },
    {
     "data": {
      "application/vnd.jupyter.widget-view+json": {
       "model_id": "2d56da9ebe7f430dba397763875a4985",
       "version_major": 2,
       "version_minor": 0
      },
      "text/plain": [
       "  0%|          | 0/188 [00:00<?, ?it/s]"
      ]
     },
     "metadata": {},
     "output_type": "display_data"
    },
    {
     "name": "stdout",
     "output_type": "stream",
     "text": [
      "[[4080  479   55   28   11  133]\n",
      " [ 135  659  364   22    5  286]\n",
      " [  50  622 4988  965  134  461]\n",
      " [   3    1   96  678  254    2]\n",
      " [   0    0    3  198  456    0]\n",
      " [  69  571  238   17    7 2039]]\n",
      "Normalized confusion matrix\n",
      "Epoch: 61, LR: 0.0001\n"
     ]
    },
    {
     "data": {
      "application/vnd.jupyter.widget-view+json": {
       "model_id": "ded90b168cf243bd9ba9e9274c02d994",
       "version_major": 2,
       "version_minor": 0
      },
      "text/plain": [
       "  0%|          | 0/188 [00:00<?, ?it/s]"
      ]
     },
     "metadata": {},
     "output_type": "display_data"
    },
    {
     "name": "stdout",
     "output_type": "stream",
     "text": [
      "Epoch: 62, LR: 0.0001\n"
     ]
    },
    {
     "data": {
      "application/vnd.jupyter.widget-view+json": {
       "model_id": "67ce8cff90e044d58478d3770cbcc1dc",
       "version_major": 2,
       "version_minor": 0
      },
      "text/plain": [
       "  0%|          | 0/188 [00:00<?, ?it/s]"
      ]
     },
     "metadata": {},
     "output_type": "display_data"
    },
    {
     "name": "stdout",
     "output_type": "stream",
     "text": [
      "Epoch: 63, LR: 0.0001\n"
     ]
    },
    {
     "data": {
      "application/vnd.jupyter.widget-view+json": {
       "model_id": "84aeba348c154481b552ca55108dd398",
       "version_major": 2,
       "version_minor": 0
      },
      "text/plain": [
       "  0%|          | 0/188 [00:00<?, ?it/s]"
      ]
     },
     "metadata": {},
     "output_type": "display_data"
    },
    {
     "name": "stdout",
     "output_type": "stream",
     "text": [
      "Epoch: 64, LR: 0.0001\n"
     ]
    },
    {
     "data": {
      "application/vnd.jupyter.widget-view+json": {
       "model_id": "18be03b97b104bc3a70d7b8b5b17dbde",
       "version_major": 2,
       "version_minor": 0
      },
      "text/plain": [
       "  0%|          | 0/188 [00:00<?, ?it/s]"
      ]
     },
     "metadata": {},
     "output_type": "display_data"
    },
    {
     "name": "stdout",
     "output_type": "stream",
     "text": [
      "Epoch: 65, LR: 0.0001\n"
     ]
    },
    {
     "data": {
      "application/vnd.jupyter.widget-view+json": {
       "model_id": "f0c06df974be4061a0b92627a69d873f",
       "version_major": 2,
       "version_minor": 0
      },
      "text/plain": [
       "  0%|          | 0/188 [00:00<?, ?it/s]"
      ]
     },
     "metadata": {},
     "output_type": "display_data"
    },
    {
     "name": "stdout",
     "output_type": "stream",
     "text": [
      "Epoch: 66, LR: 0.0001\n"
     ]
    },
    {
     "data": {
      "application/vnd.jupyter.widget-view+json": {
       "model_id": "94b8690bc7fe4ca39022276c3d5728f6",
       "version_major": 2,
       "version_minor": 0
      },
      "text/plain": [
       "  0%|          | 0/188 [00:00<?, ?it/s]"
      ]
     },
     "metadata": {},
     "output_type": "display_data"
    },
    {
     "name": "stdout",
     "output_type": "stream",
     "text": [
      "Epoch: 67, LR: 0.0001\n"
     ]
    },
    {
     "data": {
      "application/vnd.jupyter.widget-view+json": {
       "model_id": "21222d6c6e8c4db39d5f626ee9a8dd54",
       "version_major": 2,
       "version_minor": 0
      },
      "text/plain": [
       "  0%|          | 0/188 [00:00<?, ?it/s]"
      ]
     },
     "metadata": {},
     "output_type": "display_data"
    },
    {
     "name": "stdout",
     "output_type": "stream",
     "text": [
      "Epoch: 68, LR: 0.0001\n"
     ]
    },
    {
     "data": {
      "application/vnd.jupyter.widget-view+json": {
       "model_id": "ca9417bd2e564650b6c68ab746b4b88d",
       "version_major": 2,
       "version_minor": 0
      },
      "text/plain": [
       "  0%|          | 0/188 [00:00<?, ?it/s]"
      ]
     },
     "metadata": {},
     "output_type": "display_data"
    },
    {
     "name": "stdout",
     "output_type": "stream",
     "text": [
      "Epoch: 69, LR: 0.0001\n"
     ]
    },
    {
     "data": {
      "application/vnd.jupyter.widget-view+json": {
       "model_id": "7470834df52e4029b3019e33c59c4abf",
       "version_major": 2,
       "version_minor": 0
      },
      "text/plain": [
       "  0%|          | 0/188 [00:00<?, ?it/s]"
      ]
     },
     "metadata": {},
     "output_type": "display_data"
    },
    {
     "name": "stdout",
     "output_type": "stream",
     "text": [
      "Epoch: 70, LR: 0.0001\n"
     ]
    },
    {
     "data": {
      "application/vnd.jupyter.widget-view+json": {
       "model_id": "634bede43ad644b58f28835da2509665",
       "version_major": 2,
       "version_minor": 0
      },
      "text/plain": [
       "  0%|          | 0/188 [00:00<?, ?it/s]"
      ]
     },
     "metadata": {},
     "output_type": "display_data"
    },
    {
     "name": "stdout",
     "output_type": "stream",
     "text": [
      "[[4265  351   21   16    8  125]\n",
      " [ 197  646  242   21    4  361]\n",
      " [  91  911 4425  929  137  727]\n",
      " [   7    9   91  667  254    6]\n",
      " [   0    0    3  214  440    0]\n",
      " [ 129  458  120    8    2 2224]]\n",
      "Normalized confusion matrix\n",
      "Epoch: 71, LR: 0.0001\n"
     ]
    },
    {
     "data": {
      "application/vnd.jupyter.widget-view+json": {
       "model_id": "37ba89b3202d4fb3826d773709768c27",
       "version_major": 2,
       "version_minor": 0
      },
      "text/plain": [
       "  0%|          | 0/188 [00:00<?, ?it/s]"
      ]
     },
     "metadata": {},
     "output_type": "display_data"
    },
    {
     "name": "stdout",
     "output_type": "stream",
     "text": [
      "Epoch: 72, LR: 0.0001\n"
     ]
    },
    {
     "data": {
      "application/vnd.jupyter.widget-view+json": {
       "model_id": "9654e51c2bf64302a8393beb7fa84190",
       "version_major": 2,
       "version_minor": 0
      },
      "text/plain": [
       "  0%|          | 0/188 [00:00<?, ?it/s]"
      ]
     },
     "metadata": {},
     "output_type": "display_data"
    },
    {
     "name": "stdout",
     "output_type": "stream",
     "text": [
      "Epoch: 73, LR: 0.0001\n"
     ]
    },
    {
     "data": {
      "application/vnd.jupyter.widget-view+json": {
       "model_id": "8d8a4641c73c45b2bb2b351cb89cb517",
       "version_major": 2,
       "version_minor": 0
      },
      "text/plain": [
       "  0%|          | 0/188 [00:00<?, ?it/s]"
      ]
     },
     "metadata": {},
     "output_type": "display_data"
    },
    {
     "name": "stdout",
     "output_type": "stream",
     "text": [
      "Epoch: 74, LR: 0.0001\n"
     ]
    },
    {
     "data": {
      "application/vnd.jupyter.widget-view+json": {
       "model_id": "a9f3f1ac61184c95befe92aa1ed777b6",
       "version_major": 2,
       "version_minor": 0
      },
      "text/plain": [
       "  0%|          | 0/188 [00:00<?, ?it/s]"
      ]
     },
     "metadata": {},
     "output_type": "display_data"
    },
    {
     "name": "stdout",
     "output_type": "stream",
     "text": [
      "Epoch: 75, LR: 0.0001\n"
     ]
    },
    {
     "data": {
      "application/vnd.jupyter.widget-view+json": {
       "model_id": "8af207f3e2fb49aebe2cd6ed309b4964",
       "version_major": 2,
       "version_minor": 0
      },
      "text/plain": [
       "  0%|          | 0/188 [00:00<?, ?it/s]"
      ]
     },
     "metadata": {},
     "output_type": "display_data"
    },
    {
     "name": "stdout",
     "output_type": "stream",
     "text": [
      "Epoch: 76, LR: 0.0001\n"
     ]
    },
    {
     "data": {
      "application/vnd.jupyter.widget-view+json": {
       "model_id": "da581304a79e462daf8e82adef3b20ed",
       "version_major": 2,
       "version_minor": 0
      },
      "text/plain": [
       "  0%|          | 0/188 [00:00<?, ?it/s]"
      ]
     },
     "metadata": {},
     "output_type": "display_data"
    },
    {
     "name": "stdout",
     "output_type": "stream",
     "text": [
      "Epoch: 77, LR: 0.0001\n"
     ]
    },
    {
     "data": {
      "application/vnd.jupyter.widget-view+json": {
       "model_id": "3cbfea2cb7a2491098dc2c949e39cd11",
       "version_major": 2,
       "version_minor": 0
      },
      "text/plain": [
       "  0%|          | 0/188 [00:00<?, ?it/s]"
      ]
     },
     "metadata": {},
     "output_type": "display_data"
    },
    {
     "name": "stdout",
     "output_type": "stream",
     "text": [
      "Epoch: 78, LR: 0.0001\n"
     ]
    },
    {
     "data": {
      "application/vnd.jupyter.widget-view+json": {
       "model_id": "91481705650b49c791434be98fe992e2",
       "version_major": 2,
       "version_minor": 0
      },
      "text/plain": [
       "  0%|          | 0/188 [00:00<?, ?it/s]"
      ]
     },
     "metadata": {},
     "output_type": "display_data"
    },
    {
     "name": "stdout",
     "output_type": "stream",
     "text": [
      "Epoch: 79, LR: 0.0001\n"
     ]
    },
    {
     "data": {
      "application/vnd.jupyter.widget-view+json": {
       "model_id": "e3fa39e5d5f7447883d6b35080c35d03",
       "version_major": 2,
       "version_minor": 0
      },
      "text/plain": [
       "  0%|          | 0/188 [00:00<?, ?it/s]"
      ]
     },
     "metadata": {},
     "output_type": "display_data"
    },
    {
     "name": "stdout",
     "output_type": "stream",
     "text": [
      "Epoch: 80, LR: 0.0001\n"
     ]
    },
    {
     "data": {
      "application/vnd.jupyter.widget-view+json": {
       "model_id": "b7ed99acfb5f480ba20ca7f969cb1557",
       "version_major": 2,
       "version_minor": 0
      },
      "text/plain": [
       "  0%|          | 0/188 [00:00<?, ?it/s]"
      ]
     },
     "metadata": {},
     "output_type": "display_data"
    },
    {
     "name": "stdout",
     "output_type": "stream",
     "text": [
      "[[4036  490   42   33   10  175]\n",
      " [ 121  626  357   28    7  332]\n",
      " [  27  601 4984  976  133  499]\n",
      " [   3    4   95  694  237    1]\n",
      " [   0    0    2  234  421    0]\n",
      " [  51  496  233   15    4 2142]]\n",
      "Normalized confusion matrix\n",
      "Finished Training\n"
     ]
    }
   ],
   "source": [
    "from tqdm.notebook import tqdm\n",
    "\n",
    "while epoch < 80:\n",
    "    epoch += 1\n",
    "    if optimizer.state_dict()['param_groups'][0]['lr'] < 1e-5 - 1e-8:\n",
    "        break\n",
    "    model.train()\n",
    "    print(f'Epoch: {epoch}, LR: {optimizer.param_groups[0][\"lr\"]}')\n",
    "    running_loss = 0.0\n",
    "    total_loss = 0\n",
    "    train_total = 0\n",
    "    train_correct = 0\n",
    "    with tqdm(train_loader) as pbar:\n",
    "        for inputs, labels in pbar:\n",
    "            inputs, labels = inputs.to(device), labels.to(device)\n",
    "\n",
    "            optimizer.zero_grad()\n",
    "\n",
    "            outputs = model(inputs)\n",
    "            loss = loss_fn(outputs, labels)\n",
    "            loss.backward()\n",
    "            optimizer.step()\n",
    "\n",
    "            predicted_labels = torch.argmax(outputs, axis=1)\n",
    "            train_correct += torch.sum(labels == predicted_labels).item()\n",
    "            train_total += len(predicted_labels)\n",
    "\n",
    "            # print statistics\n",
    "            total_loss += loss.item() * len(labels)\n",
    "            pbar.set_postfix(loss=total_loss / train_total, accuracy=(train_correct / train_total))\n",
    "    mean_loss = total_loss / train_total\n",
    "    llos.append(mean_loss)\n",
    "    \n",
    "    train_acc.append(train_correct / train_total)\n",
    "    \n",
    "    if epoch % 10 == 0:\n",
    "        val_acc, val_loss, val_fig = evaluate(model, test_loader, confusion_matrix=True)\n",
    "        writer.add_figure('validation confusion matrix', val_fig, epoch)\n",
    "    else:\n",
    "        val_acc, val_loss, _ = evaluate(model, test_loader)\n",
    "    tf_acc, tf_loss, _ = evaluate(model, transfer_loader)\n",
    "    \n",
    "    scheduler.step(mean_loss)\n",
    "    \n",
    "    val_accs.append(val_acc)\n",
    "    tf_accs.append(tf_acc)\n",
    "    \n",
    "    writer.add_scalars(\n",
    "        'data/losses',\n",
    "        {\n",
    "            'train_loss': mean_loss,\n",
    "            'val_loss': val_loss,\n",
    "            'transfer_loss': tf_loss,\n",
    "            \n",
    "        },\n",
    "        epoch,\n",
    "    )\n",
    "    \n",
    "    writer.add_scalars(\n",
    "        'data/accuracies',\n",
    "        {\n",
    "            'train_acc': train_correct / train_total,\n",
    "            'val_acc': val_acc,\n",
    "            'transfer_acc': tf_acc,\n",
    "            \n",
    "        },\n",
    "        epoch,\n",
    "    )\n",
    "print('Finished Training')"
   ]
  },
  {
   "cell_type": "code",
   "execution_count": 124,
   "metadata": {},
   "outputs": [
    {
     "data": {
      "text/plain": [
       "<matplotlib.legend.Legend at 0x7fcefc233fd0>"
      ]
     },
     "execution_count": 124,
     "metadata": {},
     "output_type": "execute_result"
    },
    {
     "data": {
      "image/png": "[encoded data removed]",
      "text/plain": [
       "<Figure size 432x288 with 1 Axes>"
      ]
     },
     "metadata": {
      "needs_background": "light"
     },
     "output_type": "display_data"
    }
   ],
   "source": [
    "plt.plot(val_accs, label='Val Acc')\n",
    "plt.plot(train_acc, label='Train Acc')\n",
    "plt.plot(tf_accs, label='Transfer Acc')\n",
    "# plt.plot(llos, label='Train loss')\n",
    "plt.grid(color='gray', linestyle='-', linewidth=0.5)\n",
    "plt.legend()"
   ]
  },
  {
   "cell_type": "code",
   "execution_count": 127,
   "metadata": {},
   "outputs": [],
   "source": [
    "f = model.conv_fs[2].weight[6][0][:,0].cpu().detach().numpy()"
   ]
  },
  {
   "cell_type": "code",
   "execution_count": 128,
   "metadata": {},
   "outputs": [],
   "source": [
    "from scipy import signal\n",
    "w, h = signal.freqz(f)"
   ]
  },
  {
   "cell_type": "code",
   "execution_count": 129,
   "metadata": {},
   "outputs": [
    {
     "data": {
      "image/png": "[encoded data removed]",
      "text/plain": [
       "<Figure size 432x288 with 1 Axes>"
      ]
     },
     "metadata": {
      "needs_background": "light"
     },
     "output_type": "display_data"
    }
   ],
   "source": [
    "import matplotlib.pyplot as plt\n",
    "fig = plt.figure()\n",
    "plt.title('Digital filter frequency response')\n",
    "# ax1 = fig.add_subplot(111)\n",
    "\n",
    "plt.plot(w, 20 * np.log10(abs(h)), 'b')\n",
    "plt.ylabel('Amplitude [dB]', color='b')\n",
    "plt.xlabel('Frequency [rad/sample]')\n",
    "\n",
    "# ax2 = ax1.twinx()\n",
    "# angles = np.unwrap(np.angle(h))\n",
    "# plt.plot(w, angles, 'g')\n",
    "# plt.ylabel('Angle (radians)', color='g')\n",
    "plt.grid()\n",
    "plt.axis('tight')\n",
    "plt.show()"
   ]
  },
  {
   "cell_type": "code",
   "execution_count": 44,
   "metadata": {},
   "outputs": [],
   "source": [
    "torch.save(model, '../models/3-cnn-wv-conv-classification.pth')"
   ]
  },
  {
   "cell_type": "code",
   "execution_count": 149,
   "metadata": {},
   "outputs": [
    {
     "name": "stderr",
     "output_type": "stream",
     "text": [
      "COMET INFO: ---------------------------\n",
      "COMET INFO: Comet.ml Experiment Summary\n",
      "COMET INFO: ---------------------------\n",
      "COMET INFO:   Data:\n",
      "COMET INFO:     display_summary_level : 1\n",
      "COMET INFO:     url                   : https://www.comet.ml/peara/sleep-eeg/812b2203349d4aa79b41c2a5c8f9a5eb\n",
      "COMET INFO:   Metrics [count] (min, max):\n",
      "COMET INFO:     data/accuracies_train_acc [80]    : (0.26278195488721806, 0.7514619883040936)\n",
      "COMET INFO:     data/accuracies_transfer_acc [80] : (0.3521564564175625, 0.6780209817381169)\n",
      "COMET INFO:     data/accuracies_val_acc [80]      : (0.35363631343530844, 0.7168811088409078)\n",
      "COMET INFO:     data/losses_train_loss [80]       : (0.6585994383446256, 1.874155538801163)\n",
      "COMET INFO:     data/losses_transfer_loss [80]    : (0.8277899622917175, 1.6183604001998901)\n",
      "COMET INFO:     data/losses_val_loss [80]         : (0.7428552508354187, 1.6287425756454468)\n",
      "COMET INFO:     loss [3122]                       : (0.44916486740112305, 3.856475830078125)\n",
      "COMET INFO:   Others:\n",
      "COMET INFO:     Created from : tensorboardX\n",
      "COMET INFO:   Parameters:\n",
      "COMET INFO:     batch_size         : 128\n",
      "COMET INFO:     dropout_conv       : 0.1\n",
      "COMET INFO:     dropout_fc         : 0.2\n",
      "COMET INFO:     lr                 : 0.0001\n",
      "COMET INFO:     scheduler_patience : 10\n",
      "COMET INFO:     weight_decay       : 1e-06\n",
      "COMET INFO:   Uploads:\n",
      "COMET INFO:     environment details      : 1\n",
      "COMET INFO:     filename                 : 1\n",
      "COMET INFO:     git metadata             : 1\n",
      "COMET INFO:     git-patch (uncompressed) : 1 (846 KB)\n",
      "COMET INFO:     images                   : 6\n",
      "COMET INFO:     installed packages       : 1\n",
      "COMET INFO:     notebook                 : 1\n",
      "COMET INFO:     os packages              : 1\n",
      "COMET INFO:     source_code              : 1\n",
      "COMET INFO: ---------------------------\n",
      "COMET INFO: Uploading metrics, params, and assets to Comet before program termination (may take several seconds)\n",
      "COMET INFO: The Python SDK has 3600 seconds to finish before aborting...\n",
      "COMET INFO: Waiting for completion of the file uploads (may take several seconds)\n",
      "COMET INFO: The Python SDK has 10800 seconds to finish before aborting...\n",
      "COMET INFO: Still uploading 2 file(s)\n"
     ]
    }
   ],
   "source": [
    "writer.close()"
   ]
  },
  {
   "cell_type": "markdown",
   "metadata": {
    "id": "EsNlUvv9ck56"
   },
   "source": [
    "# Submission"
   ]
  },
  {
   "cell_type": "code",
   "execution_count": 38,
   "metadata": {},
   "outputs": [],
   "source": [
    "from beetl.task_datasets import BeetlSleepLeaderboard\n",
    "_, _, X_sleep_test, _ = BeetlSleepLeaderboard().get_data(subjects=range(6, 18))"
   ]
  },
  {
   "cell_type": "code",
   "execution_count": 39,
   "metadata": {},
   "outputs": [],
   "source": [
    "submission_dataset = EEG_data(X_sleep_test, None)\n",
    "submission_loader = torch.utils.data.DataLoader(dataset=submission_dataset, batch_size=128)"
   ]
  },
  {
   "cell_type": "code",
   "execution_count": 40,
   "metadata": {},
   "outputs": [],
   "source": [
    "predicted_labels = []\n",
    "for idx, inputs in enumerate(submission_loader):\n",
    "    inputs = inputs.to(device)\n",
    "    with torch.no_grad():\n",
    "        model.eval()\n",
    "        outputs = model(inputs)\n",
    "        pred = np.argmax(outputs.cpu().detach().numpy(), axis=1)\n",
    "        predicted_labels.extend(pred)\n",
    "predicted_labels = predicted_labels"
   ]
  },
  {
   "cell_type": "code",
   "execution_count": 41,
   "metadata": {},
   "outputs": [
    {
     "name": "stdout",
     "output_type": "stream",
     "text": [
      "[1, 1, 1, 2, 1, 2, 1, 1, 2, 2, 2, 0, 1, 1, 1, 5, 2, 2, 2, 1]\n"
     ]
    }
   ],
   "source": [
    "print(predicted_labels[:20])\n",
    "#label from 0 - 5\n",
    "np.savetxt(\"answer.txt\",predicted_labels,delimiter=',',fmt=\"%d\")"
   ]
  },
  {
   "cell_type": "code",
   "execution_count": 42,
   "metadata": {},
   "outputs": [
    {
     "name": "stdout",
     "output_type": "stream",
     "text": [
      "25748\n"
     ]
    }
   ],
   "source": [
    "print(len(predicted_labels))"
   ]
  },
  {
   "cell_type": "code",
   "execution_count": 43,
   "metadata": {},
   "outputs": [
    {
     "data": {
      "image/png": "[encoded data removed]",
      "text/plain": [
       "<Figure size 432x288 with 1 Axes>"
      ]
     },
     "metadata": {
      "needs_background": "light"
     },
     "output_type": "display_data"
    }
   ],
   "source": [
    "plot_label_distribution(predicted_labels)"
   ]
  },
  {
   "cell_type": "code",
   "execution_count": null,
   "metadata": {},
   "outputs": [],
   "source": []
  }
 ],
 "metadata": {
  "accelerator": "GPU",
  "colab": {
   "collapsed_sections": [],
   "name": "Copy of NIP.ipynb",
   "provenance": []
  },
  "kernelspec": {
   "display_name": "Python 3",
   "language": "python",
   "name": "python3"
  },
  "language_info": {
   "codemirror_mode": {
    "name": "ipython",
    "version": 3
   },
   "file_extension": ".py",
   "mimetype": "text/x-python",
   "name": "python",
   "nbconvert_exporter": "python",
   "pygments_lexer": "ipython3",
   "version": "3.8.10"
  }
 },
 "nbformat": 4,
 "nbformat_minor": 4
}
